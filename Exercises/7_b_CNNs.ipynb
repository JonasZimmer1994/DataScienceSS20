{
  "nbformat": 4,
  "nbformat_minor": 0,
  "metadata": {
    "colab": {
      "name": "Exercise_2 .ipynb",
      "provenance": []
    },
    "kernelspec": {
      "name": "python3",
      "display_name": "Python 3"
    }
  },
  "cells": [
    {
      "cell_type": "markdown",
      "metadata": {
        "id": "9qYJcxpwEyxC",
        "colab_type": "text"
      },
      "source": [
        ""
      ]
    },
    {
      "cell_type": "markdown",
      "metadata": {
        "id": "NgYV9F8IE2L_",
        "colab_type": "text"
      },
      "source": [
        "# Exercise 2 - Image Classification with CNNs\n",
        "![CIFAR10](https://miro.medium.com/max/964/1*syyml8q8s1Yt-iEea5m1Ag.png)\n",
        "\n",
        "[CIFAR 10](https://www.cs.toronto.edu/~kriz/cifar.html) is a small toy data set for image classifaction. \n",
        "\n",
        "* It has 60k images from ten diffenrent classes (like car, airplane, horse,..)\n",
        "* The RGB images are of size 32x32 pixels  "
      ]
    },
    {
      "cell_type": "code",
      "metadata": {
        "id": "GiDFXXcUEy-G",
        "colab_type": "code",
        "outputId": "2659f485-4910-4ba8-f444-5f7f216c8ec8",
        "colab": {
          "base_uri": "https://localhost:8080/",
          "height": 126
        }
      },
      "source": [
        "#import needed libs\n",
        "from __future__ import print_function\n",
        "import keras\n",
        "from keras.datasets import cifar10\n",
        "from keras.preprocessing.image import ImageDataGenerator\n",
        "from keras.models import Sequential\n",
        "from keras.layers import Dense, Dropout, Activation, Flatten\n",
        "from keras.layers import Conv2D, MaxPooling2D\n",
        "import os\n",
        "\n",
        "#some vars to controll the training -> use them in your code\n",
        "batch_size = 32\n",
        "num_classes = 10 #fixed!\n",
        "epochs = 10\n",
        "\n",
        "# Get the data, split between train and test sets:\n",
        "(x_train, y_train), (x_test, y_test) = cifar10.load_data()\n",
        "print('x_train shape:', x_train.shape)\n",
        "print(x_train.shape[0], 'train samples')\n",
        "print(x_test.shape[0], 'test samples')\n",
        "\n",
        "# Convert class vectors to binary class matrices.\n",
        "y_train = keras.utils.to_categorical(y_train, num_classes)\n",
        "y_test = keras.utils.to_categorical(y_test, num_classes)"
      ],
      "execution_count": 1,
      "outputs": [
        {
          "output_type": "stream",
          "text": [
            "Using TensorFlow backend.\n"
          ],
          "name": "stderr"
        },
        {
          "output_type": "stream",
          "text": [
            "Downloading data from https://www.cs.toronto.edu/~kriz/cifar-10-python.tar.gz\n",
            "170500096/170498071 [==============================] - 4s 0us/step\n",
            "x_train shape: (50000, 32, 32, 3)\n",
            "50000 train samples\n",
            "10000 test samples\n"
          ],
          "name": "stdout"
        }
      ]
    },
    {
      "cell_type": "markdown",
      "metadata": {
        "id": "vmocaCkIGOIR",
        "colab_type": "text"
      },
      "source": [
        "## Task:\n",
        "* build and train the ***AlexNet*** CNN architecture from the lecture\n",
        "* use 'relu' functions for the non-linear activation\n",
        "* optimize the learning hyper-paramters to get the best  test accuracy"
      ]
    },
    {
      "cell_type": "code",
      "metadata": {
        "id": "28OPey3uscL0",
        "colab_type": "code",
        "outputId": "040531b2-1f86-4f20-edc2-a34aeee739b1",
        "colab": {
          "base_uri": "https://localhost:8080/",
          "height": 35
        }
      },
      "source": [
        "x_train.shape"
      ],
      "execution_count": 2,
      "outputs": [
        {
          "output_type": "execute_result",
          "data": {
            "text/plain": [
              "(50000, 32, 32, 3)"
            ]
          },
          "metadata": {
            "tags": []
          },
          "execution_count": 2
        }
      ]
    },
    {
      "cell_type": "code",
      "metadata": {
        "id": "9p5AD8mJEzmL",
        "colab_type": "code",
        "colab": {}
      },
      "source": [
        "#inputs = keras.Input(shape=(32, 32, 3))\n",
        "#conv1 = Conv2D(filters=32, kernel_size=(3,3), strides=(4,4), padding='valid', activation='relu')(inputs)\n",
        "#maxpooling1 = MaxPooling2D(pool_size=(2,2), strides=(2,2), padding='valid')(conv1)\n",
        "#conv2 = Conv2D(filters=32, kernel_size=(11,11), strides=(1,1), padding='valid', activation='relu')(maxpooling1)\n",
        "#maxpooling2 = MaxPooling2D(pool_size=(2,2), strides=(2,2), padding='valid')(conv2)\n",
        "#conv3 = Conv2D(filters=32, kernel_size=(3,3), strides=(1,1), padding='valid', activation='relu')(maxpooling2)\n",
        "#conv4 = Conv2D(filters=384, kernel_size=(3,3), strides=(1,1), padding='valid', activation='relu')(conv3)\n",
        "#conv5 = Conv2D(filters=256, kernel_size=(3,3), strides=(1,1), padding='valid', activation='relu')(conv4)\n",
        "#maxpooling3 = MaxPooling2D(pool_size=(2,2), strides=(2,2), padding='valid')(conv5)\n",
        "#flatten = Flatten()(maxpooling3)\n",
        "#dense1 = Dense(4096, input_shape=(224*224*3,), activation='relu')(flatten)\n",
        "#dropout1 = Dropout(0.4)(dense1)\n",
        "#dense2 = Dense(4096, activation='relu')(dropout1)\n",
        "#dropout2 = Dropout(0.4)(dense2)\n",
        "#dense3 = Dense(1000, activation='relu')(dropout2)\n",
        "#dropout3 = Dropout(0.4)(dense3)\n",
        "#outputs = Dense(10, activation='softmax')(dropout3)\n",
        "\n",
        "#model = keras.Model(inputs, outputs)"
      ],
      "execution_count": 0,
      "outputs": []
    },
    {
      "cell_type": "code",
      "metadata": {
        "id": "Gz-SX8p-o4Ur",
        "colab_type": "code",
        "colab": {}
      },
      "source": [
        "model = Sequential()\n",
        "model.add(Conv2D(filters=32, input_shape=(32,32,3), kernel_size=(3,3), padding='same', activation='relu'))\n",
        "#model.add(MaxPooling2D(pool_size=(2,2)))\n",
        "model.add(Conv2D(filters=32, kernel_size=(3, 3), padding='same', activation='relu'))\n",
        "model.add(MaxPooling2D(pool_size=(2,2)))\n",
        "model.add(Conv2D(filters=64, kernel_size=(3,3), padding='same', activation='relu'))\n",
        "model.add(Conv2D(filters=128, kernel_size=(3,3), padding='same', activation='relu'))\n",
        "#model.add(Conv2D(filters=32, kernel_size=(3,3), padding='same', activation='relu'))\n",
        "model.add(MaxPooling2D(pool_size=(2,2)))\n",
        "model.add(Flatten())\n",
        "#model.add(Dense(4096, activation='relu'))\n",
        "#model.add(Dropout(0.4))\n",
        "#model.add(Dense(4096, activation='relu'))\n",
        "#model.add(Dropout(0.4))\n",
        "model.add(Dense(1024, activation='relu'))\n",
        "#model.add(Dropout(0.4))\n",
        "model.add(Dense(10, activation='softmax'))"
      ],
      "execution_count": 0,
      "outputs": []
    },
    {
      "cell_type": "code",
      "metadata": {
        "id": "4aUICPn8thuC",
        "colab_type": "code",
        "colab": {}
      },
      "source": [
        "optimizer = keras.optimizers.RMSprop(learning_rate=0.001, decay=1e-6)"
      ],
      "execution_count": 0,
      "outputs": []
    },
    {
      "cell_type": "code",
      "metadata": {
        "id": "YmKggCsBp46R",
        "colab_type": "code",
        "colab": {}
      },
      "source": [
        "model.compile(optimizer=optimizer, loss=\"categorical_crossentropy\", metrics=['accuracy'])"
      ],
      "execution_count": 0,
      "outputs": []
    },
    {
      "cell_type": "code",
      "metadata": {
        "id": "d2AZgf1Mb2Sw",
        "colab_type": "code",
        "colab": {
          "base_uri": "https://localhost:8080/",
          "height": 490
        },
        "outputId": "7f02b666-658a-432a-9104-83cca98c9467"
      },
      "source": [
        "model.summary()"
      ],
      "execution_count": 7,
      "outputs": [
        {
          "output_type": "stream",
          "text": [
            "Model: \"sequential_1\"\n",
            "_________________________________________________________________\n",
            "Layer (type)                 Output Shape              Param #   \n",
            "=================================================================\n",
            "conv2d_1 (Conv2D)            (None, 32, 32, 32)        896       \n",
            "_________________________________________________________________\n",
            "conv2d_2 (Conv2D)            (None, 32, 32, 32)        9248      \n",
            "_________________________________________________________________\n",
            "max_pooling2d_1 (MaxPooling2 (None, 16, 16, 32)        0         \n",
            "_________________________________________________________________\n",
            "conv2d_3 (Conv2D)            (None, 16, 16, 64)        18496     \n",
            "_________________________________________________________________\n",
            "conv2d_4 (Conv2D)            (None, 16, 16, 128)       73856     \n",
            "_________________________________________________________________\n",
            "max_pooling2d_2 (MaxPooling2 (None, 8, 8, 128)         0         \n",
            "_________________________________________________________________\n",
            "flatten_1 (Flatten)          (None, 8192)              0         \n",
            "_________________________________________________________________\n",
            "dense_1 (Dense)              (None, 1024)              8389632   \n",
            "_________________________________________________________________\n",
            "dense_2 (Dense)              (None, 10)                10250     \n",
            "=================================================================\n",
            "Total params: 8,502,378\n",
            "Trainable params: 8,502,378\n",
            "Non-trainable params: 0\n",
            "_________________________________________________________________\n"
          ],
          "name": "stdout"
        }
      ]
    },
    {
      "cell_type": "code",
      "metadata": {
        "id": "GtNuoYzrsDSA",
        "colab_type": "code",
        "colab": {}
      },
      "source": [
        "x_train = x_train.astype('float32') /255\n",
        "x_test = x_test.astype('float32') /255"
      ],
      "execution_count": 0,
      "outputs": []
    },
    {
      "cell_type": "code",
      "metadata": {
        "id": "DJaWzJcGp9G9",
        "colab_type": "code",
        "outputId": "ffc0384b-9c2a-4339-8a80-602007786a70",
        "colab": {
          "base_uri": "https://localhost:8080/",
          "height": 399
        }
      },
      "source": [
        "model.fit(x_train, y_train, batch_size=batch_size, shuffle=True, epochs=10)"
      ],
      "execution_count": 9,
      "outputs": [
        {
          "output_type": "stream",
          "text": [
            "Epoch 1/10\n",
            "50000/50000 [==============================] - 528s 11ms/step - loss: 1.3180 - accuracy: 0.5338\n",
            "Epoch 2/10\n",
            "50000/50000 [==============================] - 524s 10ms/step - loss: 0.8316 - accuracy: 0.7151\n",
            "Epoch 3/10\n",
            "50000/50000 [==============================] - 516s 10ms/step - loss: 0.6802 - accuracy: 0.7713\n",
            "Epoch 4/10\n",
            "50000/50000 [==============================] - 527s 11ms/step - loss: 0.6154 - accuracy: 0.7980\n",
            "Epoch 5/10\n",
            "50000/50000 [==============================] - 528s 11ms/step - loss: 0.5664 - accuracy: 0.8179\n",
            "Epoch 6/10\n",
            "50000/50000 [==============================] - 523s 10ms/step - loss: 0.5367 - accuracy: 0.8288\n",
            "Epoch 7/10\n",
            "50000/50000 [==============================] - 532s 11ms/step - loss: 0.5089 - accuracy: 0.8377\n",
            "Epoch 8/10\n",
            "50000/50000 [==============================] - 519s 10ms/step - loss: 0.4942 - accuracy: 0.8449\n",
            "Epoch 9/10\n",
            "50000/50000 [==============================] - 527s 11ms/step - loss: 0.4763 - accuracy: 0.8515\n",
            "Epoch 10/10\n",
            "50000/50000 [==============================] - 532s 11ms/step - loss: 0.4776 - accuracy: 0.8528\n"
          ],
          "name": "stdout"
        },
        {
          "output_type": "execute_result",
          "data": {
            "text/plain": [
              "<keras.callbacks.callbacks.History at 0x7f1edac40470>"
            ]
          },
          "metadata": {
            "tags": []
          },
          "execution_count": 9
        }
      ]
    },
    {
      "cell_type": "code",
      "metadata": {
        "id": "BhFIjotsrNzO",
        "colab_type": "code",
        "outputId": "6ecd96ed-e4b4-4c03-b208-fd9d284875c3",
        "colab": {
          "base_uri": "https://localhost:8080/",
          "height": 35
        }
      },
      "source": [
        "result = model.evaluate(x_test, y_test, verbose=1)"
      ],
      "execution_count": 12,
      "outputs": [
        {
          "output_type": "stream",
          "text": [
            "10000/10000 [==============================] - 23s 2ms/step\n"
          ],
          "name": "stdout"
        }
      ]
    },
    {
      "cell_type": "code",
      "metadata": {
        "id": "JPYeiuRih8Wx",
        "colab_type": "code",
        "outputId": "cec93928-ddb4-4b43-caae-b414c9342a30",
        "colab": {
          "base_uri": "https://localhost:8080/",
          "height": 35
        }
      },
      "source": [
        "print(\"Accuracy: \", result[1])"
      ],
      "execution_count": 13,
      "outputs": [
        {
          "output_type": "stream",
          "text": [
            "Accuracy:  0.7121999859809875\n"
          ],
          "name": "stdout"
        }
      ]
    },
    {
      "cell_type": "code",
      "metadata": {
        "id": "uykGmRImuW43",
        "colab_type": "code",
        "colab": {}
      },
      "source": [
        ""
      ],
      "execution_count": 0,
      "outputs": []
    }
  ]
}