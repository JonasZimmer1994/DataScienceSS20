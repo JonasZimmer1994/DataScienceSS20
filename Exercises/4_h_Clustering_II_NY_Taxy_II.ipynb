{
 "cells": [
  {
   "cell_type": "markdown",
   "metadata": {
    "colab_type": "text",
    "id": "fD8bxAOHIro1"
   },
   "source": [
    "# Exercise: Geographical Cluster Analysis of Taxi Rides\n",
    "Using the NY Taxi data set (see Use Case Block I) and the use case from the lecture..."
   ]
  },
  {
   "cell_type": "code",
   "execution_count": 21,
   "metadata": {
    "colab": {},
    "colab_type": "code",
    "id": "KWsch4qkIro2"
   },
   "outputs": [],
   "source": [
    "import pandas as pd\n",
    "import numpy as np\n",
    "import folium\n"
   ]
  },
  {
   "cell_type": "code",
   "execution_count": 22,
   "metadata": {
    "colab": {
     "base_uri": "https://localhost:8080/",
     "height": 54
    },
    "colab_type": "code",
    "id": "bMxJxZy6IrpB",
    "outputId": "d56e9f9a-7da2-4a52-d5cc-100708f45bca"
   },
   "outputs": [
    {
     "name": "stdout",
     "output_type": "stream",
     "text": [
      "running in Colab: False\n"
     ]
    }
   ],
   "source": [
    "#check if notebook runs in colab\n",
    "import sys\n",
    "IN_COLAB = 'google.colab' in sys.modules\n",
    "print('running in Colab:',IN_COLAB)\n",
    "path='..'\n",
    "if IN_COLAB:\n",
    "  #in colab, we need to clone the data from the repo\n",
    "  !git clone https://github.com/JonasZimmer1994/DataScienceSS20.git\n",
    "  path='DataScienceSS20'"
   ]
  },
  {
   "cell_type": "code",
   "execution_count": 23,
   "metadata": {
    "colab": {},
    "colab_type": "code",
    "id": "NeNCp8NJIrpJ"
   },
   "outputs": [],
   "source": [
    "# we load the data we have saved after wrangling and pre-processing in block I\n",
    "train=pd.read_csv(path+'/DATA/train_cleaned.csv')"
   ]
  },
  {
   "cell_type": "code",
   "execution_count": 24,
   "metadata": {
    "colab": {},
    "colab_type": "code",
    "id": "gU3egEDPIrpP"
   },
   "outputs": [],
   "source": [
    "#select only the culumns with the ride coordinates\n",
    "coordinates = train[ ['pickup_latitude','pickup_longitude','dropoff_latitude' , 'dropoff_longitude' ] ]"
   ]
  },
  {
   "cell_type": "markdown",
   "metadata": {
    "colab_type": "text",
    "id": "RUJ-PH32IrpX"
   },
   "source": [
    "## Clustering approach from the lecture\n",
    "we will be using simple K-Means:\n",
    "https://scikit-learn.org/stable/modules/generated/sklearn.cluster.KMeans.html"
   ]
  },
  {
   "cell_type": "code",
   "execution_count": 25,
   "metadata": {
    "colab": {},
    "colab_type": "code",
    "id": "UEZyC4tRIrpX"
   },
   "outputs": [],
   "source": [
    "from sklearn.cluster import KMeans"
   ]
  },
  {
   "cell_type": "code",
   "execution_count": 26,
   "metadata": {
    "colab": {},
    "colab_type": "code",
    "id": "LWeXM63ZIrpi"
   },
   "outputs": [],
   "source": [
    "#define number of clusters and create instance\n",
    "clusters=100\n",
    "myKMeans=KMeans(n_clusters=clusters, n_jobs=-1)#parallelize to all cores"
   ]
  },
  {
   "cell_type": "code",
   "execution_count": null,
   "metadata": {
    "colab": {
     "base_uri": "https://localhost:8080/",
     "height": 72
    },
    "colab_type": "code",
    "id": "h0o2BYhbIrpl",
    "outputId": "d2b5fc15-fbd4-4ab0-8693-8fcd87b445bc"
   },
   "outputs": [],
   "source": [
    "#train model\n",
    "data = coordinates.to_numpy()[:100000,:] #use only subset of the data to make it faster\n",
    "\n",
    "myKMeans.fit(data)"
   ]
  },
  {
   "cell_type": "code",
   "execution_count": null,
   "metadata": {
    "colab": {},
    "colab_type": "code",
    "id": "avQiMeDyIrpo"
   },
   "outputs": [],
   "source": [
    "#get cluster centers\n",
    "centers=myKMeans.cluster_centers_\n",
    "    "
   ]
  },
  {
   "cell_type": "code",
   "execution_count": null,
   "metadata": {
    "colab": {},
    "colab_type": "code",
    "id": "ox9NJbs4Irpr"
   },
   "outputs": [],
   "source": [
    "#draw map: green: start, red: end\n",
    "cluster_map = folium.Map(location = [40.730610,-73.935242],zoom_start = 12,)\n",
    "for i in range(clusters):\n",
    "    folium.CircleMarker([centers[i,0], centers[i,1]], radius=3,                \n",
    "                        color=\"green\", \n",
    "                        fill_opacity=0.9\n",
    "                       ).add_to(cluster_map)\n",
    "    folium.CircleMarker([centers[i,2], centers[i,3]], radius=3,                \n",
    "                        color=\"red\", \n",
    "                        fill_opacity=0.9\n",
    "                       ).add_to(cluster_map)\n",
    "    folium.PolyLine([ [centers[i,0],centers[i,1]] , [centers[i,2],centers[i,3]]  ], color=\"black\", weight=2.5, opacity=1).add_to(cluster_map)"
   ]
  },
  {
   "cell_type": "code",
   "execution_count": null,
   "metadata": {
    "colab": {},
    "colab_type": "code",
    "id": "jRWIZl3WIrpv"
   },
   "outputs": [],
   "source": [
    "#cluster_map"
   ]
  },
  {
   "cell_type": "markdown",
   "metadata": {
    "colab_type": "text",
    "id": "odzwcH64Irpz"
   },
   "source": [
    "## Exercise 1\n",
    "Write a function ```show_cluster(cluster_number,...)``` that draws the cluster centers and all start and end points of a given cluster in the map.\n",
    "* use the ```predict()``` method to map all data in ```train_data``` to a cluster center\n",
    "* use ```folium.CircleMarker``` to draw all members of a given cluster\n"
   ]
  },
  {
   "cell_type": "code",
   "execution_count": null,
   "metadata": {
    "colab": {},
    "colab_type": "code",
    "id": "ukHugXdLIrpz"
   },
   "outputs": [],
   "source": [
    "cluster_map_self = folium.Map(location = [40.730610,-73.935242],zoom_start = 12,)\n",
    "\n",
    "prediction = myKMeans.predict(data)"
   ]
  },
  {
   "cell_type": "code",
   "execution_count": null,
   "metadata": {
    "colab": {},
    "colab_type": "code",
    "id": "EuMTZ2UWuNBw"
   },
   "outputs": [],
   "source": [
    "def show_cluster(cluster_number):\n",
    "  folium.CircleMarker([centers[cluster_number,0], centers[cluster_number,1]], radius=3, color=\"black\", fill_opacity=0.9).add_to(cluster_map_self)\n",
    "  folium.CircleMarker([centers[cluster_number,2], centers[cluster_number,3]], radius=3, color=\"black\", fill_opacity=0.9).add_to(cluster_map_self)\n",
    "\n",
    "  for i in range(len(prediction)):\n",
    "    if(prediction[i] == cluster_number):\n",
    "      folium.CircleMarker([data[i, 0], data[i, 1]], radius=3, color=\"green\", fill_opacity=0.9).add_to(cluster_map_self)\n",
    "      folium.CircleMarker([data[i, 2], data[i, 3]], radius=3, color=\"red\", fill_opacity=0.9).add_to(cluster_map_self)\n",
    "      \n",
    "\n",
    "    "
   ]
  },
  {
   "cell_type": "code",
   "execution_count": null,
   "metadata": {
    "colab": {},
    "colab_type": "code",
    "id": "XDw7nLipmN1R"
   },
   "outputs": [],
   "source": [
    "show_cluster(61)"
   ]
  },
  {
   "cell_type": "code",
   "execution_count": null,
   "metadata": {
    "colab": {
     "base_uri": "https://localhost:8080/",
     "height": 1000
    },
    "colab_type": "code",
    "id": "637F4Px-sGm4",
    "outputId": "12340a37-db65-4e1c-8d23-2f686cf1313a"
   },
   "outputs": [],
   "source": [
    "cluster_map_self"
   ]
  },
  {
   "cell_type": "markdown",
   "metadata": {
    "colab_type": "text",
    "id": "tTWvXVvzIrp3"
   },
   "source": [
    "## Exercise 2\n",
    "Write a function ```cluster_var(cluster_number,...)``` that computes the intra- and extra cluster variance for a given cluster. Apply it to all clusters and compare the results for k=100 and k=10."
   ]
  },
  {
   "cell_type": "code",
   "execution_count": null,
   "metadata": {
    "colab": {},
    "colab_type": "code",
    "id": "B0kbkR-aIrp4"
   },
   "outputs": [],
   "source": [
    "def cluster_var(cluster_number):\n",
    "\n",
    "  cluster = []\n",
    "  for i in range(len(prediction)):\n",
    "    if(prediction[i] == cluster_number):\n",
    "      cluster.append([data[i,0], data[i,1]])\n",
    "\n",
    "  var = np.var(cluster)\n",
    "  return var"
   ]
  },
  {
   "cell_type": "code",
   "execution_count": null,
   "metadata": {
    "colab": {},
    "colab_type": "code",
    "id": "7o2b6NOaI9jz"
   },
   "outputs": [],
   "source": [
    "#define number of clusters and create instance\n",
    "clusters=100\n",
    "myKMeansVar=KMeans(n_clusters=clusters, n_jobs=-1)#parallelize to all cores\n",
    "\n",
    "myKMeansVar.fit(data)\n",
    "\n",
    "prediction = myKMeansVar.predict(data)"
   ]
  },
  {
   "cell_type": "code",
   "execution_count": null,
   "metadata": {
    "colab": {
     "base_uri": "https://localhost:8080/",
     "height": 1000
    },
    "colab_type": "code",
    "id": "b0BcyazOEjO4",
    "outputId": "f12df89a-20ea-4364-b2fa-bb5760bd398a"
   },
   "outputs": [],
   "source": [
    "clustervar= []\n",
    "for i in range(clusters):\n",
    "  clustervar.append(cluster_var(i))\n",
    "\n",
    "clustervar"
   ]
  },
  {
   "cell_type": "code",
   "execution_count": null,
   "metadata": {
    "colab": {},
    "colab_type": "code",
    "id": "TBGbbT0MIIi1"
   },
   "outputs": [],
   "source": [
    "#define number of clusters and create instance\n",
    "clusters=10\n",
    "myKMeansVar=KMeans(n_clusters=clusters, n_jobs=-1)#parallelize to all cores\n",
    "\n",
    "myKMeansVar.fit(data)\n",
    "\n",
    "prediction = myKMeansVar.predict(data)"
   ]
  },
  {
   "cell_type": "code",
   "execution_count": null,
   "metadata": {
    "colab": {
     "base_uri": "https://localhost:8080/",
     "height": 201
    },
    "colab_type": "code",
    "id": "ErkvuT0XJZXK",
    "outputId": "d80a843f-fe73-4316-8b12-b59d8e71fa0a"
   },
   "outputs": [],
   "source": [
    "clustervar= []\n",
    "for i in range(clusters):\n",
    "  clustervar.append(cluster_var(i))\n",
    "\n",
    "clustervar"
   ]
  },
  {
   "cell_type": "code",
   "execution_count": null,
   "metadata": {},
   "outputs": [],
   "source": []
  }
 ],
 "metadata": {
  "colab": {
   "name": "4_h_Clustering_II_NY_Taxy_II.ipynb",
   "provenance": []
  },
  "kernelspec": {
   "display_name": "Python 3",
   "language": "python",
   "name": "python3"
  },
  "language_info": {
   "codemirror_mode": {
    "name": "ipython",
    "version": 3
   },
   "file_extension": ".py",
   "mimetype": "text/x-python",
   "name": "python",
   "nbconvert_exporter": "python",
   "pygments_lexer": "ipython3",
   "version": "3.7.6"
  }
 },
 "nbformat": 4,
 "nbformat_minor": 4
}
