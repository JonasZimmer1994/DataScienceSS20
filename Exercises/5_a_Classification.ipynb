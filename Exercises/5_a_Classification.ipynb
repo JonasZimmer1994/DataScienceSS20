{
  "nbformat": 4,
  "nbformat_minor": 0,
  "metadata": {
    "kernelspec": {
      "display_name": "Python 3",
      "language": "python",
      "name": "python3"
    },
    "language_info": {
      "codemirror_mode": {
        "name": "ipython",
        "version": 3
      },
      "file_extension": ".py",
      "mimetype": "text/x-python",
      "name": "python",
      "nbconvert_exporter": "python",
      "pygments_lexer": "ipython3",
      "version": "3.7.6"
    },
    "colab": {
      "name": "5_a_Classification.ipynb",
      "provenance": []
    }
  },
  "cells": [
    {
      "cell_type": "markdown",
      "metadata": {
        "id": "Fu8Ys7LeOmtP",
        "colab_type": "text"
      },
      "source": [
        "# Block 5 Exercise 1: Classification"
      ]
    },
    {
      "cell_type": "markdown",
      "metadata": {
        "id": "lb7L8dsoOmtS",
        "colab_type": "text"
      },
      "source": [
        "## MNIST Data\n",
        "In these exercises we are using the MNIST data set on handwritten digits to compare supervised classification algorithms...   "
      ]
    },
    {
      "cell_type": "code",
      "metadata": {
        "id": "_1NMBej0OmtW",
        "colab_type": "code",
        "colab": {}
      },
      "source": [
        "#imports \n",
        "import matplotlib.pyplot as plt\n",
        "import numpy as np\n",
        "from sklearn.datasets import fetch_openml"
      ],
      "execution_count": 0,
      "outputs": []
    },
    {
      "cell_type": "code",
      "metadata": {
        "id": "5nDTCi7cOmtq",
        "colab_type": "code",
        "colab": {}
      },
      "source": [
        "# Load data from https://www.openml.org/d/554\n",
        "X, y = fetch_openml('mnist_784', version=1, return_X_y=True)\n"
      ],
      "execution_count": 0,
      "outputs": []
    },
    {
      "cell_type": "code",
      "metadata": {
        "id": "Bkqg_AI3Omt0",
        "colab_type": "code",
        "outputId": "30bfe397-0926-4841-ac43-ec6785e5e2d1",
        "colab": {
          "base_uri": "https://localhost:8080/",
          "height": 36
        }
      },
      "source": [
        "#the full MNIST data set contains 70k samples of digits 0-9 as 28*28 gray scale images (represented as 784 dim vectors)\n",
        "np.shape(X)"
      ],
      "execution_count": 3,
      "outputs": [
        {
          "output_type": "execute_result",
          "data": {
            "text/plain": [
              "(70000, 784)"
            ]
          },
          "metadata": {
            "tags": []
          },
          "execution_count": 3
        }
      ]
    },
    {
      "cell_type": "markdown",
      "metadata": {
        "id": "v6RvDJykOmuE",
        "colab_type": "text"
      },
      "source": [
        "### E1.1: Use SkLearn methods to split the MNIST data into random train and test sets. Use 60k samples for training.  \n"
      ]
    },
    {
      "cell_type": "code",
      "metadata": {
        "id": "3CGvluEfR0N0",
        "colab_type": "code",
        "colab": {}
      },
      "source": [
        "from sklearn.model_selection import train_test_split\n",
        "X_train, X_test, y_train, y_test = train_test_split(X, y, test_size=1/7, random_state=42)"
      ],
      "execution_count": 0,
      "outputs": []
    },
    {
      "cell_type": "markdown",
      "metadata": {
        "id": "jBQGyCbFOmuF",
        "colab_type": "text"
      },
      "source": [
        "### E1.2: Visualize the data.\n",
        "* Plot some data samples as images (use https://matplotlib.org/3.1.0/api/_as_gen/matplotlib.pyplot.imshow.html)"
      ]
    },
    {
      "cell_type": "code",
      "metadata": {
        "id": "WXBsEV3HTpT0",
        "colab_type": "code",
        "outputId": "3d932b4a-49d7-4d11-f2a0-06739ffff756",
        "colab": {
          "base_uri": "https://localhost:8080/",
          "height": 36
        }
      },
      "source": [
        "np.shape(X_train)"
      ],
      "execution_count": 5,
      "outputs": [
        {
          "output_type": "execute_result",
          "data": {
            "text/plain": [
              "(60000, 784)"
            ]
          },
          "metadata": {
            "tags": []
          },
          "execution_count": 5
        }
      ]
    },
    {
      "cell_type": "code",
      "metadata": {
        "id": "b8NpBSDhg2-K",
        "colab_type": "code",
        "colab": {}
      },
      "source": [
        "def showSample(sampleNumber):\n",
        "  image = X_train[sampleNumber:sampleNumber+1,:].reshape(28,28)\n",
        "  plt.imshow(image, cmap='gray')"
      ],
      "execution_count": 0,
      "outputs": []
    },
    {
      "cell_type": "code",
      "metadata": {
        "id": "fhvLJJFKhk79",
        "colab_type": "code",
        "outputId": "cda5564c-837b-47e2-dd75-3c08ef1acca0",
        "colab": {
          "base_uri": "https://localhost:8080/",
          "height": 268
        }
      },
      "source": [
        "fig=plt.figure()\n",
        "\n",
        "for i in range(1,21):\n",
        "  fig.add_subplot(4,5,i)\n",
        "  showSample(i)\n",
        "  \n",
        "plt.show()"
      ],
      "execution_count": 7,
      "outputs": [
        {
          "output_type": "display_data",
          "data": {
            "image/png": "[encoded data removed]",
            "text/plain": [
              "<Figure size 432x288 with 20 Axes>"
            ]
          },
          "metadata": {
            "tags": [],
            "needs_background": "light"
          }
        }
      ]
    },
    {
      "cell_type": "markdown",
      "metadata": {
        "id": "UKLZ0cLtOmuH",
        "colab_type": "text"
      },
      "source": [
        "### E1.3: Train models on the train data.\n",
        "Train the following models with default parameters on the train data.\n",
        "* [Naive Bayes](https://scikit-learn.org/stable/modules/generated/sklearn.naive_bayes.GaussianNB.html#sklearn.naive_bayes.GaussianNB) (assuming a Gaussian distribution of the data)\n",
        "* [Simple linear model](https://scikit-learn.org/stable/modules/generated/sklearn.linear_model.SGDClassifier.html#sklearn.linear_model.SGDClassifier)\n",
        "   * use ``loss='log'`` to reproduce our logistic loss function \n",
        "* [Random Forest](https://scikit-learn.org/stable/modules/generated/sklearn.ensemble.RandomForestClassifier.html#sklearn.ensemble.RandomForestClassifier)\n",
        "\n",
        "Compare the training accuracy (https://scikit-learn.org/stable/modules/generated/sklearn.metrics.accuracy_score.html#sklearn.metrics.accuracy_score) and [confusion matrix](https://scikit-learn.org/stable/modules/generated/sklearn.metrics.confusion_matrix.html#sklearn.metrics.confusion_matrix) for all three models."
      ]
    },
    {
      "cell_type": "code",
      "metadata": {
        "id": "J4IsbuEckjDQ",
        "colab_type": "code",
        "outputId": "54136769-67a6-486c-e855-8c666c0284a7",
        "colab": {
          "base_uri": "https://localhost:8080/",
          "height": 36
        }
      },
      "source": [
        "from sklearn.naive_bayes import GaussianNB\n",
        "clfNaive = GaussianNB()\n",
        "clfNaive.fit(X_train, y_train)"
      ],
      "execution_count": 8,
      "outputs": [
        {
          "output_type": "execute_result",
          "data": {
            "text/plain": [
              "GaussianNB(priors=None, var_smoothing=1e-09)"
            ]
          },
          "metadata": {
            "tags": []
          },
          "execution_count": 8
        }
      ]
    },
    {
      "cell_type": "code",
      "metadata": {
        "id": "teFqojdjjptR",
        "colab_type": "code",
        "outputId": "ce03df54-8ad8-429c-f40a-116ef406415f",
        "colab": {
          "base_uri": "https://localhost:8080/",
          "height": 129
        }
      },
      "source": [
        "from sklearn import linear_model\n",
        "clfLinear = linear_model.SGDClassifier(max_iter=100, tol=1e-3, loss='log')\n",
        "clfLinear.fit(X_train, y_train)"
      ],
      "execution_count": 9,
      "outputs": [
        {
          "output_type": "execute_result",
          "data": {
            "text/plain": [
              "SGDClassifier(alpha=0.0001, average=False, class_weight=None,\n",
              "              early_stopping=False, epsilon=0.1, eta0=0.0, fit_intercept=True,\n",
              "              l1_ratio=0.15, learning_rate='optimal', loss='log', max_iter=1000,\n",
              "              n_iter_no_change=5, n_jobs=None, penalty='l2', power_t=0.5,\n",
              "              random_state=None, shuffle=True, tol=0.001,\n",
              "              validation_fraction=0.1, verbose=0, warm_start=False)"
            ]
          },
          "metadata": {
            "tags": []
          },
          "execution_count": 9
        }
      ]
    },
    {
      "cell_type": "code",
      "metadata": {
        "id": "SwCapHXQnQ6g",
        "colab_type": "code",
        "outputId": "40c274f8-7464-4afd-c6b7-d831582c73d4",
        "colab": {
          "base_uri": "https://localhost:8080/",
          "height": 167
        }
      },
      "source": [
        "from sklearn.ensemble import RandomForestClassifier\n",
        "clfRandom = RandomForestClassifier()\n",
        "clfRandom.fit(X_train, y_train)"
      ],
      "execution_count": 14,
      "outputs": [
        {
          "output_type": "execute_result",
          "data": {
            "text/plain": [
              "RandomForestClassifier(bootstrap=True, ccp_alpha=0.0, class_weight=None,\n",
              "                       criterion='gini', max_depth=None, max_features='auto',\n",
              "                       max_leaf_nodes=None, max_samples=None,\n",
              "                       min_impurity_decrease=0.0, min_impurity_split=None,\n",
              "                       min_samples_leaf=1, min_samples_split=2,\n",
              "                       min_weight_fraction_leaf=0.0, n_estimators=100,\n",
              "                       n_jobs=None, oob_score=False, random_state=None,\n",
              "                       verbose=0, warm_start=False)"
            ]
          },
          "metadata": {
            "tags": []
          },
          "execution_count": 14
        }
      ]
    },
    {
      "cell_type": "code",
      "metadata": {
        "id": "07BudrSISxDb",
        "colab_type": "code",
        "colab": {}
      },
      "source": [
        "from sklearn.metrics import accuracy_score\n",
        "from sklearn.metrics import confusion_matrix\n",
        "\n",
        "\n",
        "gauss_train = clfNaive.predict(X_train)\n",
        "linear_train = clfLinear.predict(X_train)\n",
        "randomForest_train = clfRandom.predict(X_train)"
      ],
      "execution_count": 0,
      "outputs": []
    },
    {
      "cell_type": "code",
      "metadata": {
        "id": "u3wggiXUg9R_",
        "colab_type": "code",
        "colab": {}
      },
      "source": [
        "gauss_trainAccuracy = accuracy_score(y_train, gauss_train)\n",
        "linear_trainAccuracy = accuracy_score(y_train, linear_train)\n",
        "randomForest_trainAccuracy = accuracy_score(y_train, randomForest_train)"
      ],
      "execution_count": 0,
      "outputs": []
    },
    {
      "cell_type": "code",
      "metadata": {
        "id": "q1aLIYTVhj89",
        "colab_type": "code",
        "outputId": "89fc1c42-93ba-4b32-91bf-fc4b372e8636",
        "colab": {
          "base_uri": "https://localhost:8080/",
          "height": 36
        }
      },
      "source": [
        "print('NaiveGaussian Train Accuracy: ', gauss_trainAccuracy, ' Linear Train Accuracy: ', linear_trainAccuracy, ' RandomForest Train Accuracy', randomForest_trainAccuracy)"
      ],
      "execution_count": 17,
      "outputs": [
        {
          "output_type": "stream",
          "text": [
            "NaiveGaussian Train Accuracy:  0.5571666666666667  Linear Train Accuracy:  0.9001833333333333  RandomForest Train Accuracy 1.0\n"
          ],
          "name": "stdout"
        }
      ]
    },
    {
      "cell_type": "code",
      "metadata": {
        "id": "Bhi-rWk5h3iN",
        "colab_type": "code",
        "outputId": "5e98dd8d-6aae-4643-9c94-899f0610f223",
        "colab": {
          "base_uri": "https://localhost:8080/",
          "height": 298
        }
      },
      "source": [
        "plt.figure(figsize=(15,10))\n",
        "plt.subplot(1,3,1)\n",
        "plt.matshow(confusion_matrix(y_train, gauss_train), fignum=False)\n",
        "plt.subplot(1,3,2)\n",
        "plt.matshow(confusion_matrix(y_train, linear_train), fignum=False)\n",
        "plt.subplot(1,3,3)\n",
        "plt.matshow(confusion_matrix(y_train, randomForest_train), fignum=False)\n",
        "plt.show()"
      ],
      "execution_count": 18,
      "outputs": [
        {
          "output_type": "display_data",
          "data": {
            "image/png": "[encoded data removed]",
            "text/plain": [
              "<Figure size 1080x720 with 3 Axes>"
            ]
          },
          "metadata": {
            "tags": [],
            "needs_background": "light"
          }
        }
      ]
    },
    {
      "cell_type": "markdown",
      "metadata": {
        "id": "OuYQEUGMOmuK",
        "colab_type": "text"
      },
      "source": [
        "### E1.4: Evaluate and compare the models on the test set.\n",
        "* compute the test [accuracy](https://scikit-learn.org/stable/modules/generated/sklearn.metrics.accuracy_score.html#sklearn.metrics.accuracy_score) \n",
        "* compute the [F-Measure](https://scikit-learn.org/stable/modules/generated/sklearn.metrics.f1_score.html#sklearn.metrics.f1_score)\n",
        "* plot a [ROC curves](https://scikit-learn.org/stable/modules/generated/sklearn.metrics.roc_curve.html#sklearn.metrics.roc_curve) for the class \"5\" for all three models.\n",
        "                          "
      ]
    },
    {
      "cell_type": "code",
      "metadata": {
        "id": "ESjlaoq6onzP",
        "colab_type": "code",
        "colab": {}
      },
      "source": [
        "gaussian = clfNaive.predict(X_test)"
      ],
      "execution_count": 0,
      "outputs": []
    },
    {
      "cell_type": "code",
      "metadata": {
        "id": "-aLz6b3qpgOV",
        "colab_type": "code",
        "colab": {}
      },
      "source": [
        "linear = clfLinear.predict(X_test)"
      ],
      "execution_count": 0,
      "outputs": []
    },
    {
      "cell_type": "code",
      "metadata": {
        "id": "RLd9YPKupjqQ",
        "colab_type": "code",
        "colab": {}
      },
      "source": [
        "randomForest = clfRandom.predict(X_test)"
      ],
      "execution_count": 0,
      "outputs": []
    },
    {
      "cell_type": "code",
      "metadata": {
        "id": "1XWTOz3En5hv",
        "colab_type": "code",
        "colab": {}
      },
      "source": [
        "gaussianAccuracy = accuracy_score(y_test, gaussian)\n",
        "linearAccuracy = accuracy_score(y_test, linear)\n",
        "randomForestAccuracy = accuracy_score(y_test, randomForest)"
      ],
      "execution_count": 0,
      "outputs": []
    },
    {
      "cell_type": "code",
      "metadata": {
        "id": "FILadx9IoX5c",
        "colab_type": "code",
        "outputId": "ef9dab3a-6505-49ce-946c-67992e94402c",
        "colab": {
          "base_uri": "https://localhost:8080/",
          "height": 36
        }
      },
      "source": [
        "print('NaiveGaussian Test Accuracy: ', gaussianAccuracy, ' Linear Test Accuracy: ', linearAccuracy, ' RandomForest Test Accuracy', randomForestAccuracy)"
      ],
      "execution_count": 23,
      "outputs": [
        {
          "output_type": "stream",
          "text": [
            "NaiveGaussian Test Accuracy:  0.5604  Linear Test Accuracy:  0.8866  RandomForest Test Accuracy 0.9669\n"
          ],
          "name": "stdout"
        }
      ]
    },
    {
      "cell_type": "code",
      "metadata": {
        "id": "oB6WMHy3qKr7",
        "colab_type": "code",
        "colab": {}
      },
      "source": [
        "from sklearn.metrics import f1_score\n",
        "\n",
        "gaussianAccuracy = f1_score(y_test, gaussian, average='weighted')\n",
        "linearAccuracy = f1_score(y_test, linear, average='weighted')\n",
        "randomForestAccuracy = f1_score(y_test, randomForest, average='weighted')"
      ],
      "execution_count": 0,
      "outputs": []
    },
    {
      "cell_type": "code",
      "metadata": {
        "id": "aeFNidnaq-Az",
        "colab_type": "code",
        "outputId": "525b5cd8-eae5-4463-bf99-44bbe8676426",
        "colab": {
          "base_uri": "https://localhost:8080/",
          "height": 36
        }
      },
      "source": [
        "print('NaiveGaussian Accuracy: ', gaussianAccuracy, ' Linear Accuracy: ', linearAccuracy, ' RandomForest Accuracy', randomForestAccuracy)"
      ],
      "execution_count": 25,
      "outputs": [
        {
          "output_type": "stream",
          "text": [
            "NaiveGaussian Accuracy:  0.5187285177389869  Linear Accuracy:  0.8892857190643851  RandomForest Accuracy 0.9668851422115211\n"
          ],
          "name": "stdout"
        }
      ]
    },
    {
      "cell_type": "code",
      "metadata": {
        "id": "smGZAyZ5aFIP",
        "colab_type": "code",
        "colab": {}
      },
      "source": [
        "y_true = y_test.astype(int)==5"
      ],
      "execution_count": 0,
      "outputs": []
    },
    {
      "cell_type": "code",
      "metadata": {
        "id": "0LuXjKLKaJeP",
        "colab_type": "code",
        "colab": {}
      },
      "source": [
        "y_pred_gauss = gaussian.astype(int)==5"
      ],
      "execution_count": 0,
      "outputs": []
    },
    {
      "cell_type": "code",
      "metadata": {
        "id": "wvxu8JWZbW4c",
        "colab_type": "code",
        "colab": {}
      },
      "source": [
        "y_pred_linear = linear.astype(int)==5"
      ],
      "execution_count": 0,
      "outputs": []
    },
    {
      "cell_type": "code",
      "metadata": {
        "id": "U8dL6ESUbbVe",
        "colab_type": "code",
        "colab": {}
      },
      "source": [
        "y_pred_randomForest = randomForest.astype(int)==5"
      ],
      "execution_count": 0,
      "outputs": []
    },
    {
      "cell_type": "code",
      "metadata": {
        "id": "1pDIDSRnoJWa",
        "colab_type": "code",
        "outputId": "9d879b9d-abf7-44c5-9661-4c9ec12a413e",
        "colab": {
          "base_uri": "https://localhost:8080/",
          "height": 36
        }
      },
      "source": [
        "y_true"
      ],
      "execution_count": 30,
      "outputs": [
        {
          "output_type": "execute_result",
          "data": {
            "text/plain": [
              "array([False, False, False, ..., False, False, False])"
            ]
          },
          "metadata": {
            "tags": []
          },
          "execution_count": 30
        }
      ]
    },
    {
      "cell_type": "code",
      "metadata": {
        "id": "8QiW0pw9rW3u",
        "colab_type": "code",
        "colab": {}
      },
      "source": [
        "from sklearn.metrics import roc_curve\n",
        "\n",
        "fpr_gaussian, tpr_gaussian, _ = roc_curve(y_true, y_pred_gauss)\n",
        "\n",
        "fpr_linear, tpr_linear, _ = roc_curve(y_true, y_pred_linear)\n",
        "\n",
        "fpr_randomForest, tpr_randomForest, _ = roc_curve(y_true, y_pred_randomForest)"
      ],
      "execution_count": 0,
      "outputs": []
    },
    {
      "cell_type": "code",
      "metadata": {
        "id": "qiDIqumpbn5H",
        "colab_type": "code",
        "outputId": "d8389dae-28a3-4ef8-a0ff-7584b888a81e",
        "colab": {
          "base_uri": "https://localhost:8080/",
          "height": 295
        }
      },
      "source": [
        "plt.figure(1)\n",
        "plt.plot([0, 1], [0, 1], 'k--')\n",
        "plt.plot(fpr_gaussian, tpr_gaussian, label='Gaussian Naive Bayes')\n",
        "plt.plot(fpr_linear, tpr_linear, label='Linear Classifier')\n",
        "plt.plot(fpr_randomForest, tpr_randomForest, label='Random Forest')\n",
        "plt.xlabel('False positive rate')\n",
        "plt.ylabel('True positive rate')\n",
        "plt.title('ROC curve')\n",
        "plt.legend(loc='best')\n",
        "plt.show()"
      ],
      "execution_count": 32,
      "outputs": [
        {
          "output_type": "display_data",
          "data": {
            "image/png": "[encoded data removed]",
            "text/plain": [
              "<Figure size 432x288 with 1 Axes>"
            ]
          },
          "metadata": {
            "tags": [],
            "needs_background": "light"
          }
        }
      ]
    },
    {
      "cell_type": "code",
      "metadata": {
        "id": "chldlJBjpqrA",
        "colab_type": "code",
        "colab": {}
      },
      "source": [
        ""
      ],
      "execution_count": 0,
      "outputs": []
    }
  ]
}