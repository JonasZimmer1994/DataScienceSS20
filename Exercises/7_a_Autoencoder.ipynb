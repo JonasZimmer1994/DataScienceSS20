{
  "nbformat": 4,
  "nbformat_minor": 0,
  "metadata": {
    "colab": {
      "name": "Exercise 1.ipynb",
      "provenance": []
    },
    "kernelspec": {
      "name": "python3",
      "display_name": "Python 3"
    },
    "accelerator": "GPU"
  },
  "cells": [
    {
      "cell_type": "markdown",
      "metadata": {
        "id": "Nb5B49Gt2Tfr",
        "colab_type": "text"
      },
      "source": [
        "# Excercise 1: Autoencoder\n",
        "\n",
        "We have allready seen a simple MLP model for **MNIST** classification:"
      ]
    },
    {
      "cell_type": "code",
      "metadata": {
        "id": "R0ja22Zw2a08",
        "colab_type": "code",
        "outputId": "45d03136-d750-4823-eb55-89cfc841eecd",
        "colab": {
          "base_uri": "https://localhost:8080/",
          "height": 490
        }
      },
      "source": [
        "import numpy as np\n",
        "import tensorflow as tf\n",
        "from tensorflow import keras\n",
        "from tensorflow.keras import layers\n",
        "\n",
        "# Get the data as Numpy arrays\n",
        "(x_train, y_train), (x_test, y_test) = keras.datasets.mnist.load_data()\n",
        "\n",
        "# Build a simple model\n",
        "inputs = keras.Input(shape=(28, 28))\n",
        "l1 = layers.experimental.preprocessing.Rescaling(1.0 / 255)(inputs)\n",
        "l2 = layers.Flatten()(l1)\n",
        "l3 = layers.Dense(128, activation=\"tanh\")(l2)\n",
        "l4 = layers.Dense(128, activation=\"tanh\")(l3)\n",
        "outputs = layers.Dense(10, activation=\"softmax\")(l4)\n",
        "model = keras.Model(inputs, outputs)\n",
        "model.summary()\n",
        "\n",
        "# Compile the model\n",
        "model.compile(optimizer=\"adam\", loss=\"sparse_categorical_crossentropy\")\n",
        "\n",
        "# Train the model for 1 epoch from Numpy data\n",
        "batch_size = 64\n",
        "print(\"Fit on NumPy data\")\n",
        "history = model.fit(x_train, y_train, batch_size=batch_size, epochs=1)\n",
        "\n",
        "# Train the model for 1 epoch using a dataset\n",
        "dataset = tf.data.Dataset.from_tensor_slices((x_train, y_train)).batch(batch_size)\n",
        "print(\"Fit on Dataset\")\n",
        "history = model.fit(dataset, epochs=1)"
      ],
      "execution_count": 1,
      "outputs": [
        {
          "output_type": "stream",
          "text": [
            "Downloading data from https://storage.googleapis.com/tensorflow/tf-keras-datasets/mnist.npz\n",
            "11493376/11490434 [==============================] - 0s 0us/step\n",
            "Model: \"model\"\n",
            "_________________________________________________________________\n",
            "Layer (type)                 Output Shape              Param #   \n",
            "=================================================================\n",
            "input_1 (InputLayer)         [(None, 28, 28)]          0         \n",
            "_________________________________________________________________\n",
            "rescaling (Rescaling)        (None, 28, 28)            0         \n",
            "_________________________________________________________________\n",
            "flatten (Flatten)            (None, 784)               0         \n",
            "_________________________________________________________________\n",
            "dense (Dense)                (None, 128)               100480    \n",
            "_________________________________________________________________\n",
            "dense_1 (Dense)              (None, 128)               16512     \n",
            "_________________________________________________________________\n",
            "dense_2 (Dense)              (None, 10)                1290      \n",
            "=================================================================\n",
            "Total params: 118,282\n",
            "Trainable params: 118,282\n",
            "Non-trainable params: 0\n",
            "_________________________________________________________________\n",
            "Fit on NumPy data\n",
            "938/938 [==============================] - 3s 3ms/step - loss: 0.2870\n",
            "Fit on Dataset\n",
            "938/938 [==============================] - 3s 3ms/step - loss: 0.1422\n"
          ],
          "name": "stdout"
        }
      ]
    },
    {
      "cell_type": "markdown",
      "metadata": {
        "id": "1X8K2JP13RoC",
        "colab_type": "text"
      },
      "source": [
        "Now we want to change this model and build an **autoencoder** for **MNIST**:\n",
        "\n",
        "**1. change the network topology:** \n",
        "* use 5 dense layers to form \"bottleneck\" network (see lecture). \n",
        "* Layers 1+2 should be the encoder, 3 the lattent layer aner 4+5 the decoder\n",
        "* remove the softmax (we are not doing a classification anymore)\n",
        "\n",
        "**2. change the loss-function to compare input and output -> choose a suitable loss from https://keras.io/api/losses/**\n",
        "\n",
        "**3. train the model**\n",
        "\n",
        "**4. test the model**\n",
        "* visualize input and output images to inspect the reconstruction quallity (use MATPLOTLIB *imshow*)\n",
        "* implement a function to measure the reconstrunction error between in- and output\n",
        "* change network size (number of neurons per layer) and training paramters to optimize the ressults \n",
        "\n",
        "**5. Outlier detection**\n",
        "* plot a histogram over the the recostruction errors\n",
        "* find a cutoff value and visualize the outliers"
      ]
    },
    {
      "cell_type": "code",
      "metadata": {
        "id": "2BRusC-Z2yjD",
        "colab_type": "code",
        "outputId": "a74d3686-af52-4611-e968-a16b6dc669bf",
        "colab": {
          "base_uri": "https://localhost:8080/",
          "height": 381
        }
      },
      "source": [
        "myinputs = keras.Input(shape=(784,))\n",
        "#l1 = layers.experimental.preprocessing.Rescaling(1.0 / 255)(myinputs)\n",
        "#l2 = layers.Flatten()(l1)\n",
        "encode1 = layers.Dense(784, activation='tanh')(myinputs)\n",
        "encode2 = layers.Dense(64, activation=\"tanh\")(encode1)\n",
        "latent = layers.Dense(10, activation=\"tanh\")(encode2)\n",
        "decode1 = layers.Dense(64, activation=\"tanh\")(latent)\n",
        "decode2 = layers.Dense(784, activation=\"sigmoid\")(decode1)\n",
        "#reshape = layers.Reshape([28,28])(decode2)\n",
        "#myoutputs = layers.experimental.preprocessing.Rescaling(255)(reshape)\n",
        "mymodel = keras.Model(myinputs, decode2)\n",
        "mymodel.summary()"
      ],
      "execution_count": 2,
      "outputs": [
        {
          "output_type": "stream",
          "text": [
            "Model: \"model_1\"\n",
            "_________________________________________________________________\n",
            "Layer (type)                 Output Shape              Param #   \n",
            "=================================================================\n",
            "input_2 (InputLayer)         [(None, 784)]             0         \n",
            "_________________________________________________________________\n",
            "dense_3 (Dense)              (None, 784)               615440    \n",
            "_________________________________________________________________\n",
            "dense_4 (Dense)              (None, 64)                50240     \n",
            "_________________________________________________________________\n",
            "dense_5 (Dense)              (None, 10)                650       \n",
            "_________________________________________________________________\n",
            "dense_6 (Dense)              (None, 64)                704       \n",
            "_________________________________________________________________\n",
            "dense_7 (Dense)              (None, 784)               50960     \n",
            "=================================================================\n",
            "Total params: 717,994\n",
            "Trainable params: 717,994\n",
            "Non-trainable params: 0\n",
            "_________________________________________________________________\n"
          ],
          "name": "stdout"
        }
      ]
    },
    {
      "cell_type": "code",
      "metadata": {
        "id": "2IkZYM60v3xM",
        "colab_type": "code",
        "colab": {}
      },
      "source": [
        "optimizer = keras.optimizers.Adam(learning_rate=0.01)\n",
        "mymodel.compile(optimizer=optimizer, loss=\"binary_crossentropy\")"
      ],
      "execution_count": 0,
      "outputs": []
    },
    {
      "cell_type": "code",
      "metadata": {
        "id": "SkvQ8CJov7ia",
        "colab_type": "code",
        "colab": {}
      },
      "source": [
        "batch_size = 32"
      ],
      "execution_count": 0,
      "outputs": []
    },
    {
      "cell_type": "code",
      "metadata": {
        "id": "6GJ8_52AjNo9",
        "colab_type": "code",
        "colab": {}
      },
      "source": [
        "x_train = x_train /255\n",
        "x_test = x_test /255\n",
        "\n",
        "x_train = x_train.reshape(len(x_train), 784)\n",
        "x_test = x_test.reshape(len(x_test), 784)"
      ],
      "execution_count": 0,
      "outputs": []
    },
    {
      "cell_type": "code",
      "metadata": {
        "id": "_2U-JTthbNRF",
        "colab_type": "code",
        "outputId": "38da8339-98b8-4e79-bcc1-dc75d0edd254",
        "colab": {
          "base_uri": "https://localhost:8080/",
          "height": 35
        }
      },
      "source": [
        "x_train.shape"
      ],
      "execution_count": 6,
      "outputs": [
        {
          "output_type": "execute_result",
          "data": {
            "text/plain": [
              "(60000, 784)"
            ]
          },
          "metadata": {
            "tags": []
          },
          "execution_count": 6
        }
      ]
    },
    {
      "cell_type": "code",
      "metadata": {
        "id": "qgWO3tl4Ymi9",
        "colab_type": "code",
        "outputId": "a7adcadb-39b8-4910-f97f-59b04e8d9cf5",
        "colab": {
          "base_uri": "https://localhost:8080/",
          "height": 563
        }
      },
      "source": [
        "autoencoder = mymodel.fit(x_train, x_train,\n",
        "                epochs=15,\n",
        "                batch_size=batch_size,\n",
        "                #shuffle=False,\n",
        "                validation_data=(x_test, x_test))"
      ],
      "execution_count": 7,
      "outputs": [
        {
          "output_type": "stream",
          "text": [
            "Epoch 1/15\n",
            "1875/1875 [==============================] - 7s 4ms/step - loss: 0.2377 - val_loss: 0.2235\n",
            "Epoch 2/15\n",
            "1875/1875 [==============================] - 7s 4ms/step - loss: 0.2180 - val_loss: 0.2134\n",
            "Epoch 3/15\n",
            "1875/1875 [==============================] - 7s 4ms/step - loss: 0.2126 - val_loss: 0.2106\n",
            "Epoch 4/15\n",
            "1875/1875 [==============================] - 7s 4ms/step - loss: 0.2104 - val_loss: 0.2066\n",
            "Epoch 5/15\n",
            "1875/1875 [==============================] - 7s 4ms/step - loss: 0.2085 - val_loss: 0.2062\n",
            "Epoch 6/15\n",
            "1875/1875 [==============================] - 7s 4ms/step - loss: 0.2077 - val_loss: 0.2062\n",
            "Epoch 7/15\n",
            "1875/1875 [==============================] - 7s 4ms/step - loss: 0.2072 - val_loss: 0.2041\n",
            "Epoch 8/15\n",
            "1875/1875 [==============================] - 7s 4ms/step - loss: 0.2060 - val_loss: 0.2051\n",
            "Epoch 9/15\n",
            "1875/1875 [==============================] - 7s 4ms/step - loss: 0.2062 - val_loss: 0.2039\n",
            "Epoch 10/15\n",
            "1875/1875 [==============================] - 7s 4ms/step - loss: 0.2058 - val_loss: 0.2041\n",
            "Epoch 11/15\n",
            "1875/1875 [==============================] - 7s 4ms/step - loss: 0.2059 - val_loss: 0.2080\n",
            "Epoch 12/15\n",
            "1875/1875 [==============================] - 7s 4ms/step - loss: 0.2066 - val_loss: 0.2098\n",
            "Epoch 13/15\n",
            "1875/1875 [==============================] - 7s 4ms/step - loss: 0.2054 - val_loss: 0.2042\n",
            "Epoch 14/15\n",
            "1875/1875 [==============================] - 7s 4ms/step - loss: 0.2067 - val_loss: 0.2043\n",
            "Epoch 15/15\n",
            "1875/1875 [==============================] - 7s 4ms/step - loss: 0.2113 - val_loss: 0.2087\n"
          ],
          "name": "stdout"
        }
      ]
    },
    {
      "cell_type": "code",
      "metadata": {
        "id": "0_8KNaU7m4KE",
        "colab_type": "code",
        "outputId": "c89a4cae-f60a-4c1d-b009-7d12708f3c68",
        "colab": {
          "base_uri": "https://localhost:8080/",
          "height": 55
        }
      },
      "source": [
        "print(autoencoder.history)"
      ],
      "execution_count": 8,
      "outputs": [
        {
          "output_type": "stream",
          "text": [
            "{'loss': [0.23769676685333252, 0.21798734366893768, 0.21262246370315552, 0.21040962636470795, 0.20850324630737305, 0.2077401578426361, 0.20715342462062836, 0.20600226521492004, 0.20623056590557098, 0.20579741895198822, 0.20585127174854279, 0.2065597027540207, 0.20535872876644135, 0.20674721896648407, 0.21131111681461334], 'val_loss': [0.223497673869133, 0.2134236842393875, 0.21059760451316833, 0.20663537085056305, 0.20619961619377136, 0.2061726301908493, 0.20413191616535187, 0.20514479279518127, 0.20388400554656982, 0.20407474040985107, 0.20797529816627502, 0.20978036522865295, 0.20422367751598358, 0.2042749971151352, 0.20867548882961273]}\n"
          ],
          "name": "stdout"
        }
      ]
    },
    {
      "cell_type": "code",
      "metadata": {
        "id": "pUi-b4pzne1x",
        "colab_type": "code",
        "outputId": "00b6cddb-c1d3-42fa-ac5d-0f5c81da88b3",
        "colab": {
          "base_uri": "https://localhost:8080/",
          "height": 35
        }
      },
      "source": [
        "print(x_test.shape)"
      ],
      "execution_count": 9,
      "outputs": [
        {
          "output_type": "stream",
          "text": [
            "(10000, 784)\n"
          ],
          "name": "stdout"
        }
      ]
    },
    {
      "cell_type": "code",
      "metadata": {
        "id": "FEr7ThQPnUfm",
        "colab_type": "code",
        "outputId": "63217007-4809-46b9-eeab-a2048accca9c",
        "colab": {
          "base_uri": "https://localhost:8080/",
          "height": 35
        }
      },
      "source": [
        "predictions = mymodel.predict(x_test, batch_size=batch_size)\n",
        "print(predictions.shape)"
      ],
      "execution_count": 22,
      "outputs": [
        {
          "output_type": "stream",
          "text": [
            "(10000, 784)\n"
          ],
          "name": "stdout"
        }
      ]
    },
    {
      "cell_type": "code",
      "metadata": {
        "id": "QVVcEfOipzfL",
        "colab_type": "code",
        "colab": {}
      },
      "source": [
        "import matplotlib.pyplot as plt"
      ],
      "execution_count": 0,
      "outputs": []
    },
    {
      "cell_type": "code",
      "metadata": {
        "id": "Ep1IKWG62jhc",
        "colab_type": "code",
        "colab": {}
      },
      "source": [
        "sampleNumber = 30"
      ],
      "execution_count": 0,
      "outputs": []
    },
    {
      "cell_type": "code",
      "metadata": {
        "id": "aiXjaRCOnZfP",
        "colab_type": "code",
        "colab": {}
      },
      "source": [
        "input_image = x_train[sampleNumber:sampleNumber+1,:].reshape(28,28)"
      ],
      "execution_count": 0,
      "outputs": []
    },
    {
      "cell_type": "code",
      "metadata": {
        "id": "SycuaicrzMu7",
        "colab_type": "code",
        "colab": {}
      },
      "source": [
        "output_image = predictions[sampleNumber:sampleNumber+1,:].reshape(28,28)"
      ],
      "execution_count": 0,
      "outputs": []
    },
    {
      "cell_type": "code",
      "metadata": {
        "id": "V68KgwbEpKBy",
        "colab_type": "code",
        "outputId": "3a80b884-06a7-46bc-bd53-c6ef9777d033",
        "colab": {
          "base_uri": "https://localhost:8080/",
          "height": 283
        }
      },
      "source": [
        "plt.imshow(input_image)"
      ],
      "execution_count": 27,
      "outputs": [
        {
          "output_type": "execute_result",
          "data": {
            "text/plain": [
              "<matplotlib.image.AxesImage at 0x7f48b54eaf98>"
            ]
          },
          "metadata": {
            "tags": []
          },
          "execution_count": 27
        },
        {
          "output_type": "display_data",
          "data": {
            "image/png": "[encoded data removed]",
            "text/plain": [
              "<Figure size 432x288 with 1 Axes>"
            ]
          },
          "metadata": {
            "tags": [],
            "needs_background": "light"
          }
        }
      ]
    },
    {
      "cell_type": "code",
      "metadata": {
        "id": "Ow0cT3ajpmMB",
        "colab_type": "code",
        "outputId": "75afd98d-1e54-407d-9bb5-4d8b041e8d0e",
        "colab": {
          "base_uri": "https://localhost:8080/",
          "height": 283
        }
      },
      "source": [
        "plt.imshow(output_image)"
      ],
      "execution_count": 28,
      "outputs": [
        {
          "output_type": "execute_result",
          "data": {
            "text/plain": [
              "<matplotlib.image.AxesImage at 0x7f48b544e0b8>"
            ]
          },
          "metadata": {
            "tags": []
          },
          "execution_count": 28
        },
        {
          "output_type": "display_data",
          "data": {
            "image/png": "[encoded data removed]",
            "text/plain": [
              "<Figure size 432x288 with 1 Axes>"
            ]
          },
          "metadata": {
            "tags": [],
            "needs_background": "light"
          }
        }
      ]
    },
    {
      "cell_type": "code",
      "metadata": {
        "id": "BW3OfJB57s28",
        "colab_type": "code",
        "outputId": "d37bd483-eb5a-4eee-d42a-1ad5b0ae8360",
        "colab": {
          "base_uri": "https://localhost:8080/",
          "height": 247
        }
      },
      "source": [
        "n = 20  # how many digits we will display\n",
        "plt.figure(figsize=(40, 4))\n",
        "for i in range(n):\n",
        "    # display original\n",
        "    ax = plt.subplot(2, n, i + 1)\n",
        "    plt.imshow(x_test[i].reshape(28, 28))\n",
        "    plt.gray()\n",
        "    ax.get_xaxis().set_visible(False)\n",
        "    ax.get_yaxis().set_visible(False)\n",
        "\n",
        "    # display reconstruction\n",
        "    ax = plt.subplot(2, n, i + 1 + n)\n",
        "    plt.imshow(predictions[i].reshape(28, 28))\n",
        "    plt.gray()\n",
        "    ax.get_xaxis().set_visible(False)\n",
        "    ax.get_yaxis().set_visible(False)\n",
        "plt.show()"
      ],
      "execution_count": 29,
      "outputs": [
        {
          "output_type": "display_data",
          "data": {
            "image/png": "[encoded data removed]",
            "text/plain": [
              "<Figure size 2880x288 with 40 Axes>"
            ]
          },
          "metadata": {
            "tags": [],
            "needs_background": "light"
          }
        }
      ]
    },
    {
      "cell_type": "code",
      "metadata": {
        "id": "eV50dpt4zJdt",
        "colab_type": "code",
        "colab": {}
      },
      "source": [
        "def reconstruction_error(original, reconstructed):\n",
        "  rec_error = np.absolute(original - reconstructed).sum()\n",
        "  return rec_error"
      ],
      "execution_count": 0,
      "outputs": []
    },
    {
      "cell_type": "code",
      "metadata": {
        "id": "wEpnyLhY9Qb6",
        "colab_type": "code",
        "outputId": "6e1aa5a4-de5a-4b7d-f971-5eecff7d543d",
        "colab": {
          "base_uri": "https://localhost:8080/",
          "height": 35
        }
      },
      "source": [
        "reconstruction_error(x_test[6], predictions[6])"
      ],
      "execution_count": 21,
      "outputs": [
        {
          "output_type": "execute_result",
          "data": {
            "text/plain": [
              "88.79620252449301"
            ]
          },
          "metadata": {
            "tags": []
          },
          "execution_count": 21
        }
      ]
    },
    {
      "cell_type": "code",
      "metadata": {
        "id": "I2-QKQjC9bp0",
        "colab_type": "code",
        "colab": {}
      },
      "source": [
        "#encoder = keras.Model(myinputs, latent)\n",
        "#encoded_imgs = encoder.predict(x_test)\n",
        "\n",
        "#encoded_input = keras.Input(shape=(10,))\n",
        "\n",
        "#decoder_layer = mymodel.layers[-4]\n",
        "\n",
        "#decoder = keras.Model(encoded_input, decoder_layer(encoded_input))\n",
        "#decoded_imgs = decoder.predict(encoded_imgs)\n",
        "\n",
        "#decoderInput = mymodel.layers[-4]\n",
        "#decodeLayer1 = layers.Dense(32, activation=\"tanh\")(decoderInput)\n",
        "#decodeOutputs = layers.Dense(784, activation=\"tanh\")(decodeLayer1)\n",
        "#decodeReshape = layers.Reshape([28,28])(decodeLayer2)\n",
        "#decodeOutputs = layers.experimental.preprocessing.Rescaling(255)(decodeReshape)\n",
        "#mymodel = keras.Model(encoded_input, decodeOutputs)"
      ],
      "execution_count": 0,
      "outputs": []
    },
    {
      "cell_type": "code",
      "metadata": {
        "id": "8aTwilHZQ-qs",
        "colab_type": "code",
        "colab": {}
      },
      "source": [
        "#decoderInput = mymodel.layers[-4]\n",
        "#decodeLayer1 = layers.Dense(32, activation=\"tanh\")(decoderInput)\n",
        "#decodeOutputs = layers.Dense(784, activation=\"tanh\")(decodeLayer1)\n",
        "#mymodel = keras.Model(encoded_input, decodeOutputs)\n",
        "\n",
        "#encoded_imgs = encoder.predict(x_test)\n",
        "#decoded_imgs = decoder.predict(encoded_imgs)\n",
        "\n",
        "#n = 10  # how many digits we will display\n",
        "#plt.figure(figsize=(20, 4))\n",
        "#for i in range(n):\n",
        "    # display original\n",
        "#    ax = plt.subplot(2, n, i + 1)\n",
        "#    plt.imshow(x_test[i].reshape(28, 28))\n",
        "#    plt.gray()\n",
        "#    ax.get_xaxis().set_visible(False)\n",
        "#    ax.get_yaxis().set_visible(False)\n",
        "\n",
        "    # display reconstruction\n",
        "#    ax = plt.subplot(2, n, i + 1 + n)\n",
        "#    plt.imshow(decoded_imgs[i].reshape(28, 28))\n",
        "#    plt.gray()\n",
        "#    ax.get_xaxis().set_visible(False)\n",
        "#    ax.get_yaxis().set_visible(False)\n",
        "#plt.show()"
      ],
      "execution_count": 0,
      "outputs": []
    },
    {
      "cell_type": "code",
      "metadata": {
        "id": "dwCCrxIkTboT",
        "colab_type": "code",
        "colab": {}
      },
      "source": [
        ""
      ],
      "execution_count": 0,
      "outputs": []
    },
    {
      "cell_type": "code",
      "metadata": {
        "id": "_C3xDublGJ8G",
        "colab_type": "code",
        "colab": {}
      },
      "source": [
        ""
      ],
      "execution_count": 0,
      "outputs": []
    },
    {
      "cell_type": "code",
      "metadata": {
        "id": "Q9QgbzH5vHll",
        "colab_type": "code",
        "colab": {}
      },
      "source": [
        ""
      ],
      "execution_count": 0,
      "outputs": []
    }
  ]
}