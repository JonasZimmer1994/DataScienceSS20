{
  "nbformat": 4,
  "nbformat_minor": 0,
  "metadata": {
    "accelerator": "GPU",
    "colab": {
      "name": "Copy of Exercise 1.ipynb",
      "provenance": []
    },
    "kernelspec": {
      "display_name": "Python 3",
      "language": "python",
      "name": "python3"
    },
    "language_info": {
      "codemirror_mode": {
        "name": "ipython",
        "version": 3
      },
      "file_extension": ".py",
      "mimetype": "text/x-python",
      "name": "python",
      "nbconvert_exporter": "python",
      "pygments_lexer": "ipython3",
      "version": "3.7.6"
    }
  },
  "cells": [
    {
      "cell_type": "markdown",
      "metadata": {
        "colab_type": "text",
        "id": "Nb5B49Gt2Tfr"
      },
      "source": [
        "# Excercise 1: Autoencoder\n",
        "\n",
        "We have allready seen a simple MLP model for **MNIST** classification:"
      ]
    },
    {
      "cell_type": "code",
      "metadata": {
        "colab_type": "code",
        "id": "R0ja22Zw2a08",
        "outputId": "355f6026-1eee-49fa-8974-548df35784b8",
        "colab": {
          "base_uri": "https://localhost:8080/",
          "height": 454
        }
      },
      "source": [
        "import numpy as np\n",
        "import tensorflow as tf\n",
        "from tensorflow import keras\n",
        "from tensorflow.keras import layers\n",
        "\n",
        "# Get the data as Numpy arrays\n",
        "(x_train, y_train), (x_test, y_test) = keras.datasets.mnist.load_data()\n",
        "\n",
        "# Build a simple model\n",
        "inputs = keras.Input(shape=(28, 28))\n",
        "l1 = layers.experimental.preprocessing.Rescaling(1.0 / 255)(inputs)\n",
        "l2 = layers.Flatten()(l1)\n",
        "l3 = layers.Dense(128, activation=\"tanh\")(l2)\n",
        "l4 = layers.Dense(128, activation=\"tanh\")(l3)\n",
        "outputs = layers.Dense(10, activation=\"softmax\")(l4)\n",
        "model = keras.Model(inputs, outputs)\n",
        "model.summary()\n",
        "\n",
        "# Compile the model\n",
        "model.compile(optimizer=\"adam\", loss=\"sparse_categorical_crossentropy\")\n",
        "\n",
        "# Train the model for 1 epoch from Numpy data\n",
        "batch_size = 64\n",
        "print(\"Fit on NumPy data\")\n",
        "history = model.fit(x_train, y_train, batch_size=batch_size, epochs=1)\n",
        "\n",
        "# Train the model for 1 epoch using a dataset\n",
        "dataset = tf.data.Dataset.from_tensor_slices((x_train, y_train)).batch(batch_size)\n",
        "print(\"Fit on Dataset\")\n",
        "history = model.fit(dataset, epochs=1)"
      ],
      "execution_count": 0,
      "outputs": [
        {
          "output_type": "stream",
          "text": [
            "Model: \"model\"\n",
            "_________________________________________________________________\n",
            "Layer (type)                 Output Shape              Param #   \n",
            "=================================================================\n",
            "input_1 (InputLayer)         [(None, 28, 28)]          0         \n",
            "_________________________________________________________________\n",
            "rescaling (Rescaling)        (None, 28, 28)            0         \n",
            "_________________________________________________________________\n",
            "flatten (Flatten)            (None, 784)               0         \n",
            "_________________________________________________________________\n",
            "dense (Dense)                (None, 128)               100480    \n",
            "_________________________________________________________________\n",
            "dense_1 (Dense)              (None, 128)               16512     \n",
            "_________________________________________________________________\n",
            "dense_2 (Dense)              (None, 10)                1290      \n",
            "=================================================================\n",
            "Total params: 118,282\n",
            "Trainable params: 118,282\n",
            "Non-trainable params: 0\n",
            "_________________________________________________________________\n",
            "Fit on NumPy data\n",
            "938/938 [==============================] - 3s 3ms/step - loss: 0.2893\n",
            "Fit on Dataset\n",
            "938/938 [==============================] - 3s 3ms/step - loss: 0.1416\n"
          ],
          "name": "stdout"
        }
      ]
    },
    {
      "cell_type": "markdown",
      "metadata": {
        "colab_type": "text",
        "id": "1X8K2JP13RoC"
      },
      "source": [
        "Now we want to change this model and build an **autoencoder** for **MNIST**:\n",
        "\n",
        "**1. change the network topology:** \n",
        "* use 5 dense layers to form \"bottleneck\" network (see lecture). \n",
        "* Layers 1+2 should be the encoder, 3 the lattent layer aner 4+5 the decoder\n",
        "* remove the softmax (we are not doing a classification anymore)\n",
        "\n",
        "**2. change the loss-function to compare input and output -> choose a suitable loss from https://keras.io/api/losses/**\n",
        "\n",
        "**3. train the model**\n",
        "\n",
        "**4. test the model**\n",
        "* visualize input and output images to inspect the reconstruction quallity (use MATPLOTLIB *imshow*)\n",
        "* implement a function to measure the reconstrunction error between in- and output\n",
        "* change network size (number of neurons per layer) and training paramters to optimize the ressults \n",
        "\n",
        "**5. Outlier detection**\n",
        "* plot a histogram over the the recostruction errors\n",
        "* find a cutoff value and visualize the outliers"
      ]
    },
    {
      "cell_type": "code",
      "metadata": {
        "colab_type": "code",
        "id": "2BRusC-Z2yjD",
        "outputId": "36b04148-45ed-4087-ad81-f276d4818162",
        "colab": {
          "base_uri": "https://localhost:8080/",
          "height": 381
        }
      },
      "source": [
        "myinputs = keras.Input(shape=(784,))\n",
        "#l1 = layers.experimental.preprocessing.Rescaling(1.0 / 255)(myinputs)\n",
        "#l2 = layers.Flatten()(l1)\n",
        "encode1 = layers.Dense(784, activation='tanh')(myinputs)\n",
        "encode2 = layers.Dense(64, activation=\"tanh\")(encode1)\n",
        "latent = layers.Dense(10, activation=\"tanh\")(encode2)\n",
        "decode1 = layers.Dense(64, activation=\"tanh\")(latent)\n",
        "decode2 = layers.Dense(784, activation=\"sigmoid\")(decode1)\n",
        "#reshape = layers.Reshape([28,28])(decode2)\n",
        "#myoutputs = layers.experimental.preprocessing.Rescaling(255)(reshape)\n",
        "mymodel = keras.Model(myinputs, decode2)\n",
        "mymodel.summary()"
      ],
      "execution_count": 0,
      "outputs": [
        {
          "output_type": "stream",
          "text": [
            "Model: \"model_1\"\n",
            "_________________________________________________________________\n",
            "Layer (type)                 Output Shape              Param #   \n",
            "=================================================================\n",
            "input_2 (InputLayer)         [(None, 784)]             0         \n",
            "_________________________________________________________________\n",
            "dense_3 (Dense)              (None, 784)               615440    \n",
            "_________________________________________________________________\n",
            "dense_4 (Dense)              (None, 64)                50240     \n",
            "_________________________________________________________________\n",
            "dense_5 (Dense)              (None, 10)                650       \n",
            "_________________________________________________________________\n",
            "dense_6 (Dense)              (None, 64)                704       \n",
            "_________________________________________________________________\n",
            "dense_7 (Dense)              (None, 784)               50960     \n",
            "=================================================================\n",
            "Total params: 717,994\n",
            "Trainable params: 717,994\n",
            "Non-trainable params: 0\n",
            "_________________________________________________________________\n"
          ],
          "name": "stdout"
        }
      ]
    },
    {
      "cell_type": "code",
      "metadata": {
        "colab_type": "code",
        "id": "2IkZYM60v3xM",
        "colab": {}
      },
      "source": [
        "optimizer = keras.optimizers.Adam(learning_rate=0.01)\n",
        "mymodel.compile(optimizer=optimizer, loss=\"binary_crossentropy\")"
      ],
      "execution_count": 0,
      "outputs": []
    },
    {
      "cell_type": "code",
      "metadata": {
        "colab_type": "code",
        "id": "SkvQ8CJov7ia",
        "colab": {}
      },
      "source": [
        "batch_size = 32"
      ],
      "execution_count": 0,
      "outputs": []
    },
    {
      "cell_type": "code",
      "metadata": {
        "colab_type": "code",
        "id": "6GJ8_52AjNo9",
        "colab": {}
      },
      "source": [
        "x_train = x_train /255\n",
        "x_test = x_test /255\n",
        "\n",
        "x_train = x_train.reshape(len(x_train), 784)\n",
        "x_test = x_test.reshape(len(x_test), 784)"
      ],
      "execution_count": 0,
      "outputs": []
    },
    {
      "cell_type": "code",
      "metadata": {
        "colab_type": "code",
        "id": "_2U-JTthbNRF",
        "outputId": "95b6aa86-302a-4d6a-aa2d-396c2825bd0a",
        "colab": {
          "base_uri": "https://localhost:8080/",
          "height": 35
        }
      },
      "source": [
        "x_train.shape"
      ],
      "execution_count": 0,
      "outputs": [
        {
          "output_type": "execute_result",
          "data": {
            "text/plain": [
              "(60000, 784)"
            ]
          },
          "metadata": {
            "tags": []
          },
          "execution_count": 6
        }
      ]
    },
    {
      "cell_type": "code",
      "metadata": {
        "colab_type": "code",
        "id": "qgWO3tl4Ymi9",
        "outputId": "021d7916-095d-4a7e-ee76-730203e813d0",
        "colab": {
          "base_uri": "https://localhost:8080/",
          "height": 563
        }
      },
      "source": [
        "autoencoder = mymodel.fit(x_train, x_train,\n",
        "                epochs=15,\n",
        "                batch_size=batch_size,\n",
        "                #shuffle=False,\n",
        "                validation_data=(x_test, x_test))"
      ],
      "execution_count": 0,
      "outputs": [
        {
          "output_type": "stream",
          "text": [
            "Epoch 1/15\n",
            "1875/1875 [==============================] - 7s 4ms/step - loss: 0.2391 - val_loss: 0.2264\n",
            "Epoch 2/15\n",
            "1875/1875 [==============================] - 7s 4ms/step - loss: 0.2254 - val_loss: 0.2188\n",
            "Epoch 3/15\n",
            "1875/1875 [==============================] - 7s 4ms/step - loss: 0.2205 - val_loss: 0.2172\n",
            "Epoch 4/15\n",
            "1875/1875 [==============================] - 7s 4ms/step - loss: 0.2180 - val_loss: 0.2137\n",
            "Epoch 5/15\n",
            "1875/1875 [==============================] - 7s 4ms/step - loss: 0.2159 - val_loss: 0.2140\n",
            "Epoch 6/15\n",
            "1875/1875 [==============================] - 7s 4ms/step - loss: 0.2146 - val_loss: 0.2131\n",
            "Epoch 7/15\n",
            "1875/1875 [==============================] - 7s 4ms/step - loss: 0.2145 - val_loss: 0.2127\n",
            "Epoch 8/15\n",
            "1875/1875 [==============================] - 7s 4ms/step - loss: 0.2138 - val_loss: 0.2149\n",
            "Epoch 9/15\n",
            "1875/1875 [==============================] - 7s 4ms/step - loss: 0.2137 - val_loss: 0.2190\n",
            "Epoch 10/15\n",
            "1875/1875 [==============================] - 7s 4ms/step - loss: 0.2134 - val_loss: 0.2121\n",
            "Epoch 11/15\n",
            "1875/1875 [==============================] - 7s 4ms/step - loss: 0.2150 - val_loss: 0.2167\n",
            "Epoch 12/15\n",
            "1875/1875 [==============================] - 7s 4ms/step - loss: 0.2133 - val_loss: 0.2145\n",
            "Epoch 13/15\n",
            "1875/1875 [==============================] - 7s 4ms/step - loss: 0.2151 - val_loss: 0.2130\n",
            "Epoch 14/15\n",
            "1875/1875 [==============================] - 7s 4ms/step - loss: 0.2131 - val_loss: 0.2130\n",
            "Epoch 15/15\n",
            "1875/1875 [==============================] - 7s 4ms/step - loss: 0.2146 - val_loss: 0.2130\n"
          ],
          "name": "stdout"
        }
      ]
    },
    {
      "cell_type": "code",
      "metadata": {
        "colab_type": "code",
        "id": "0_8KNaU7m4KE",
        "outputId": "4714c7a4-fe3d-45ce-fd4e-a737ed87d46c",
        "colab": {
          "base_uri": "https://localhost:8080/",
          "height": 55
        }
      },
      "source": [
        "print(autoencoder.history)"
      ],
      "execution_count": 0,
      "outputs": [
        {
          "output_type": "stream",
          "text": [
            "{'loss': [0.23908936977386475, 0.22536438703536987, 0.220460444688797, 0.21799397468566895, 0.2158808708190918, 0.21458907425403595, 0.21447058022022247, 0.21382252871990204, 0.21368493139743805, 0.21339935064315796, 0.21495510637760162, 0.21328580379486084, 0.21513047814369202, 0.21307314932346344, 0.21461261808872223], 'val_loss': [0.22639934718608856, 0.21878407895565033, 0.21720010042190552, 0.21369720995426178, 0.21399962902069092, 0.21313980221748352, 0.21268108487129211, 0.21491076052188873, 0.21897533535957336, 0.21212293207645416, 0.21671564877033234, 0.2145376205444336, 0.21301127970218658, 0.21301418542861938, 0.2129913866519928]}\n"
          ],
          "name": "stdout"
        }
      ]
    },
    {
      "cell_type": "code",
      "metadata": {
        "colab_type": "code",
        "id": "pUi-b4pzne1x",
        "outputId": "1483cf3b-9dc2-47f9-8337-54f6a4478e2c",
        "colab": {
          "base_uri": "https://localhost:8080/",
          "height": 35
        }
      },
      "source": [
        "print(x_test.shape)"
      ],
      "execution_count": 0,
      "outputs": [
        {
          "output_type": "stream",
          "text": [
            "(10000, 784)\n"
          ],
          "name": "stdout"
        }
      ]
    },
    {
      "cell_type": "code",
      "metadata": {
        "colab_type": "code",
        "id": "FEr7ThQPnUfm",
        "outputId": "5bc7b488-1c83-4098-d2f4-3ec53420979d",
        "colab": {
          "base_uri": "https://localhost:8080/",
          "height": 35
        }
      },
      "source": [
        "predictions = mymodel.predict(x_test, batch_size=batch_size)\n",
        "print(predictions.shape)"
      ],
      "execution_count": 0,
      "outputs": [
        {
          "output_type": "stream",
          "text": [
            "(10000, 784)\n"
          ],
          "name": "stdout"
        }
      ]
    },
    {
      "cell_type": "code",
      "metadata": {
        "colab_type": "code",
        "id": "QVVcEfOipzfL",
        "colab": {}
      },
      "source": [
        "import matplotlib.pyplot as plt"
      ],
      "execution_count": 0,
      "outputs": []
    },
    {
      "cell_type": "code",
      "metadata": {
        "colab_type": "code",
        "id": "Ep1IKWG62jhc",
        "colab": {}
      },
      "source": [
        "sampleNumber = 30"
      ],
      "execution_count": 0,
      "outputs": []
    },
    {
      "cell_type": "code",
      "metadata": {
        "colab_type": "code",
        "id": "aiXjaRCOnZfP",
        "colab": {}
      },
      "source": [
        "input_image = x_train[sampleNumber:sampleNumber+1,:].reshape(28,28)"
      ],
      "execution_count": 0,
      "outputs": []
    },
    {
      "cell_type": "code",
      "metadata": {
        "colab_type": "code",
        "id": "SycuaicrzMu7",
        "colab": {}
      },
      "source": [
        "output_image = predictions[sampleNumber:sampleNumber+1,:].reshape(28,28)"
      ],
      "execution_count": 0,
      "outputs": []
    },
    {
      "cell_type": "code",
      "metadata": {
        "colab_type": "code",
        "id": "V68KgwbEpKBy",
        "outputId": "1df72c84-4b5e-4394-df4e-626dce5a4ef0",
        "colab": {
          "base_uri": "https://localhost:8080/",
          "height": 283
        }
      },
      "source": [
        "plt.imshow(input_image)"
      ],
      "execution_count": 0,
      "outputs": [
        {
          "output_type": "execute_result",
          "data": {
            "text/plain": [
              "<matplotlib.image.AxesImage at 0x7f5910215438>"
            ]
          },
          "metadata": {
            "tags": []
          },
          "execution_count": 15
        },
        {
          "output_type": "display_data",
          "data": {
            "image/png": "[encoded data removed]",
            "text/plain": [
              "<Figure size 432x288 with 1 Axes>"
            ]
          },
          "metadata": {
            "tags": [],
            "needs_background": "light"
          }
        }
      ]
    },
    {
      "cell_type": "code",
      "metadata": {
        "colab_type": "code",
        "id": "Ow0cT3ajpmMB",
        "outputId": "04387607-c611-423b-d621-1c0e69b1cce8",
        "colab": {
          "base_uri": "https://localhost:8080/",
          "height": 283
        }
      },
      "source": [
        "plt.imshow(output_image)"
      ],
      "execution_count": 0,
      "outputs": [
        {
          "output_type": "execute_result",
          "data": {
            "text/plain": [
              "<matplotlib.image.AxesImage at 0x7f59100c70f0>"
            ]
          },
          "metadata": {
            "tags": []
          },
          "execution_count": 16
        },
        {
          "output_type": "display_data",
          "data": {
            "image/png": "[encoded data removed]",
            "text/plain": [
              "<Figure size 432x288 with 1 Axes>"
            ]
          },
          "metadata": {
            "tags": [],
            "needs_background": "light"
          }
        }
      ]
    },
    {
      "cell_type": "code",
      "metadata": {
        "colab_type": "code",
        "id": "BW3OfJB57s28",
        "outputId": "9f30602d-161f-44de-ea83-0b7ae55a0efe",
        "colab": {
          "base_uri": "https://localhost:8080/",
          "height": 247
        }
      },
      "source": [
        "n = 20  # how many digits we will display\n",
        "plt.figure(figsize=(40, 4))\n",
        "for i in range(n):\n",
        "    # display original\n",
        "    ax = plt.subplot(2, n, i + 1)\n",
        "    plt.imshow(x_test[i].reshape(28, 28))\n",
        "    plt.gray()\n",
        "    ax.get_xaxis().set_visible(False)\n",
        "    ax.get_yaxis().set_visible(False)\n",
        "\n",
        "    # display reconstruction\n",
        "    ax = plt.subplot(2, n, i + 1 + n)\n",
        "    plt.imshow(predictions[i].reshape(28, 28))\n",
        "    plt.gray()\n",
        "    ax.get_xaxis().set_visible(False)\n",
        "    ax.get_yaxis().set_visible(False)\n",
        "plt.show()"
      ],
      "execution_count": 0,
      "outputs": [
        {
          "output_type": "display_data",
          "data": {
            "image/png": "[encoded data removed]",
            "text/plain": [
              "<Figure size 2880x288 with 40 Axes>"
            ]
          },
          "metadata": {
            "tags": [],
            "needs_background": "light"
          }
        }
      ]
    },
    {
      "cell_type": "code",
      "metadata": {
        "colab_type": "code",
        "id": "eV50dpt4zJdt",
        "colab": {}
      },
      "source": [
        "def reconstruction_error(original, reconstructed):\n",
        "  rec_error = np.absolute(original - reconstructed).sum()\n",
        "  return rec_error"
      ],
      "execution_count": 0,
      "outputs": []
    },
    {
      "cell_type": "code",
      "metadata": {
        "colab_type": "code",
        "id": "wEpnyLhY9Qb6",
        "outputId": "d964976c-2dcc-4fe8-de1e-9982227624fa",
        "colab": {
          "base_uri": "https://localhost:8080/",
          "height": 35
        }
      },
      "source": [
        "reconstruction_error(x_test[2], predictions[2])"
      ],
      "execution_count": 0,
      "outputs": [
        {
          "output_type": "execute_result",
          "data": {
            "text/plain": [
              "33.69287625534359"
            ]
          },
          "metadata": {
            "tags": []
          },
          "execution_count": 22
        }
      ]
    },
    {
      "cell_type": "code",
      "metadata": {
        "colab_type": "code",
        "id": "I2-QKQjC9bp0",
        "colab": {}
      },
      "source": [
        "#encoder = keras.Model(myinputs, latent)\n",
        "#encoded_imgs = encoder.predict(x_test)\n",
        "\n",
        "#encoded_input = keras.Input(shape=(10,))\n",
        "\n",
        "#decoder_layer = mymodel.layers[-4]\n",
        "\n",
        "#decoder = keras.Model(encoded_input, decoder_layer(encoded_input))\n",
        "#decoded_imgs = decoder.predict(encoded_imgs)\n",
        "\n",
        "#decoderInput = mymodel.layers[-4]\n",
        "#decodeLayer1 = layers.Dense(32, activation=\"tanh\")(decoderInput)\n",
        "#decodeOutputs = layers.Dense(784, activation=\"tanh\")(decodeLayer1)\n",
        "#decodeReshape = layers.Reshape([28,28])(decodeLayer2)\n",
        "#decodeOutputs = layers.experimental.preprocessing.Rescaling(255)(decodeReshape)\n",
        "#mymodel = keras.Model(encoded_input, decodeOutputs)"
      ],
      "execution_count": 0,
      "outputs": []
    },
    {
      "cell_type": "code",
      "metadata": {
        "colab_type": "code",
        "id": "8aTwilHZQ-qs",
        "colab": {}
      },
      "source": [
        "#decoderInput = mymodel.layers[-4]\n",
        "#decodeLayer1 = layers.Dense(32, activation=\"tanh\")(decoderInput)\n",
        "#decodeOutputs = layers.Dense(784, activation=\"tanh\")(decodeLayer1)\n",
        "#mymodel = keras.Model(encoded_input, decodeOutputs)\n",
        "\n",
        "#encoded_imgs = encoder.predict(x_test)\n",
        "#decoded_imgs = decoder.predict(encoded_imgs)\n",
        "\n",
        "#n = 10  # how many digits we will display\n",
        "#plt.figure(figsize=(20, 4))\n",
        "#for i in range(n):\n",
        "    # display original\n",
        "#    ax = plt.subplot(2, n, i + 1)\n",
        "#    plt.imshow(x_test[i].reshape(28, 28))\n",
        "#    plt.gray()\n",
        "#    ax.get_xaxis().set_visible(False)\n",
        "#    ax.get_yaxis().set_visible(False)\n",
        "\n",
        "    # display reconstruction\n",
        "#    ax = plt.subplot(2, n, i + 1 + n)\n",
        "#    plt.imshow(decoded_imgs[i].reshape(28, 28))\n",
        "#    plt.gray()\n",
        "#    ax.get_xaxis().set_visible(False)\n",
        "#    ax.get_yaxis().set_visible(False)\n",
        "#plt.show()"
      ],
      "execution_count": 0,
      "outputs": []
    },
    {
      "cell_type": "code",
      "metadata": {
        "colab_type": "code",
        "id": "dwCCrxIkTboT",
        "colab": {}
      },
      "source": [
        "rec_error = np.absolute(x_test, predictions).sum(axis=1)"
      ],
      "execution_count": 0,
      "outputs": []
    },
    {
      "cell_type": "code",
      "metadata": {
        "colab_type": "code",
        "id": "_C3xDublGJ8G",
        "outputId": "97422f8b-beb8-45df-e470-365176361a5a",
        "colab": {
          "base_uri": "https://localhost:8080/",
          "height": 847
        }
      },
      "source": [
        "plt.hist(rec_error, bins=100)"
      ],
      "execution_count": 0,
      "outputs": [
        {
          "output_type": "execute_result",
          "data": {
            "text/plain": [
              "(array([  1.,   5.,   8.,  14.,  17.,  27.,  34.,  51.,  77.,  61.,  64.,\n",
              "         74., 112.,  98.,  99., 140., 120., 145., 152., 196., 225., 190.,\n",
              "        218., 234., 256., 253., 246., 256., 280., 261., 266., 278., 283.,\n",
              "        295., 303., 284., 270., 250., 284., 244., 252., 205., 206., 182.,\n",
              "        181., 179., 166., 144., 177., 171., 117., 129., 123., 107., 103.,\n",
              "        100.,  71.,  78.,  55.,  57.,  56.,  42.,  34.,  40.,  41.,  41.,\n",
              "         23.,  17.,  20.,  19.,  19.,  17.,  18.,  16.,  17.,  13.,   9.,\n",
              "          5.,  10.,  11.,   8.,   7.,   4.,   5.,   3.,   5.,   4.,   6.,\n",
              "          2.,   5.,   2.,   1.,   1.,   1.,   1.,   1.,   0.,   0.,   0.,\n",
              "          2.]),\n",
              " array([ 22.039215,  24.384039,  26.728863,  29.073687,  31.41851 ,\n",
              "         33.763332,  36.10816 ,  38.45298 ,  40.797806,  43.142628,\n",
              "         45.48745 ,  47.832275,  50.177097,  52.521923,  54.866745,\n",
              "         57.21157 ,  59.556393,  61.901215,  64.24604 ,  66.590866,\n",
              "         68.935684,  71.28051 ,  73.625336,  75.97016 ,  78.31498 ,\n",
              "         80.659805,  83.00463 ,  85.34945 ,  87.694275,  90.0391  ,\n",
              "         92.38393 ,  94.728745,  97.07357 ,  99.418396, 101.763214,\n",
              "        104.10804 , 106.452866, 108.79769 , 111.14251 , 113.487335,\n",
              "        115.83216 , 118.17699 , 120.521805, 122.86663 , 125.21146 ,\n",
              "        127.556274, 129.90111 , 132.24593 , 134.59074 , 136.93558 ,\n",
              "        139.2804  , 141.62521 , 143.97005 , 146.31487 , 148.65968 ,\n",
              "        151.00452 , 153.34933 , 155.69417 , 158.03899 , 160.3838  ,\n",
              "        162.72864 , 165.07346 , 167.41827 , 169.7631  , 172.10793 ,\n",
              "        174.45274 , 176.79758 , 179.1424  , 181.48721 , 183.83205 ,\n",
              "        186.17686 , 188.5217  , 190.86652 , 193.21133 , 195.55617 ,\n",
              "        197.90099 , 200.2458  , 202.59064 , 204.93546 , 207.28027 ,\n",
              "        209.6251  , 211.96992 , 214.31476 , 216.65958 , 219.0044  ,\n",
              "        221.34923 , 223.69405 , 226.03886 , 228.3837  , 230.72852 ,\n",
              "        233.07333 , 235.41817 , 237.76299 , 240.1078  , 242.45264 ,\n",
              "        244.79745 , 247.14229 , 249.4871  , 251.83192 , 254.17676 ,\n",
              "        256.52158 ], dtype=float32),\n",
              " <a list of 100 Patch objects>)"
            ]
          },
          "metadata": {
            "tags": []
          },
          "execution_count": 38
        },
        {
          "output_type": "display_data",
          "data": {
            "image/png": "[encoded data removed]",
            "text/plain": [
              "<Figure size 432x288 with 1 Axes>"
            ]
          },
          "metadata": {
            "tags": [],
            "needs_background": "light"
          }
        }
      ]
    },
    {
      "cell_type": "code",
      "metadata": {
        "colab_type": "code",
        "id": "Q9QgbzH5vHll",
        "colab": {}
      },
      "source": [
        "test_outliers = x_test[rec_error>200]\n",
        "prediction_outliers = predictions[rec_error>200]"
      ],
      "execution_count": 0,
      "outputs": []
    },
    {
      "cell_type": "code",
      "metadata": {
        "colab_type": "code",
        "id": "Kyu9H7RqzLoC",
        "outputId": "fe5a1e66-2fd1-4274-da5a-37b00a2a1931",
        "colab": {
          "base_uri": "https://localhost:8080/",
          "height": 247
        }
      },
      "source": [
        "n = 20  # how many digits we will display\n",
        "plt.figure(figsize=(40, 4))\n",
        "for i in range(n):\n",
        "    # display original\n",
        "    ax = plt.subplot(2, n, i + 1)\n",
        "    plt.imshow(test_outliers[i].reshape(28, 28))\n",
        "    plt.gray()\n",
        "    ax.get_xaxis().set_visible(False)\n",
        "    ax.get_yaxis().set_visible(False)\n",
        "\n",
        "    # display reconstruction\n",
        "    ax = plt.subplot(2, n, i + 1 + n)\n",
        "    plt.imshow(prediction_outliers[i].reshape(28, 28))\n",
        "    plt.gray()\n",
        "    ax.get_xaxis().set_visible(False)\n",
        "    ax.get_yaxis().set_visible(False)\n",
        "plt.show()"
      ],
      "execution_count": 0,
      "outputs": [
        {
          "output_type": "display_data",
          "data": {
            "image/png": "[encoded data removed]",
            "text/plain": [
              "<Figure size 2880x288 with 40 Axes>"
            ]
          },
          "metadata": {
            "tags": [],
            "needs_background": "light"
          }
        }
      ]
    },
    {
      "cell_type": "code",
      "metadata": {
        "colab_type": "code",
        "id": "W9WPd21xzNRv",
        "colab": {}
      },
      "source": [
        ""
      ],
      "execution_count": 0,
      "outputs": []
    }
  ]
}
