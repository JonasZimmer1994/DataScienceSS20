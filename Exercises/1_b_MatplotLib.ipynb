{
  "nbformat": 4,
  "nbformat_minor": 0,
  "metadata": {
    "kernelspec": {
      "display_name": "Python 3",
      "language": "python",
      "name": "python3"
    },
    "language_info": {
      "codemirror_mode": {
        "name": "ipython",
        "version": 3
      },
      "file_extension": ".py",
      "mimetype": "text/x-python",
      "name": "python",
      "nbconvert_exporter": "python",
      "pygments_lexer": "ipython3",
      "version": "3.7.1"
    },
    "colab": {
      "name": "1_b_MatplotLib.ipynb",
      "provenance": [],
      "toc_visible": true
    }
  },
  "cells": [
    {
      "cell_type": "markdown",
      "metadata": {
        "id": "CVaXNC8ACOqt",
        "colab_type": "text"
      },
      "source": [
        "# Exercise II - Matplotlib\n",
        "Use the Big-Mart Data for some plotting exercises"
      ]
    },
    {
      "cell_type": "code",
      "metadata": {
        "id": "qhyOlWsCCOqv",
        "colab_type": "code",
        "colab": {
          "base_uri": "https://localhost:8080/",
          "height": 126
        },
        "outputId": "c916df43-44d6-42a1-dce9-d56e7a1799b3"
      },
      "source": [
        "#check if notebook runs in colab\n",
        "import sys\n",
        "IN_COLAB = 'google.colab' in sys.modules\n",
        "print('running in Colab:',IN_COLAB)\n",
        "path='..'\n",
        "if IN_COLAB:\n",
        "  #in colab, we need to clone the data from the repo\n",
        "  !git clone https://github.com/JonasZimmer1994/DataScienceSS20.git\n",
        "  path='DataScienceSS20'"
      ],
      "execution_count": 1,
      "outputs": [
        {
          "output_type": "stream",
          "text": [
            "running in Colab: True\n",
            "Cloning into 'DataScienceSS20'...\n",
            "remote: Enumerating objects: 150, done.\u001b[K\n",
            "remote: Total 150 (delta 0), reused 0 (delta 0), pack-reused 150\u001b[K\n",
            "Receiving objects: 100% (150/150), 26.31 MiB | 17.20 MiB/s, done.\n",
            "Resolving deltas: 100% (64/64), done.\n"
          ],
          "name": "stdout"
        }
      ]
    },
    {
      "cell_type": "code",
      "metadata": {
        "id": "uJqk4h8GCOq6",
        "colab_type": "code",
        "colab": {}
      },
      "source": [
        "#import an read big-mart data\n",
        "import pandas as pd\n",
        "import matplotlib.pyplot as plt\n",
        "%matplotlib inline\n",
        "\n",
        "data = pd.read_csv(path+\"/DATA/company_sales_data.csv\") \n"
      ],
      "execution_count": 0,
      "outputs": []
    },
    {
      "cell_type": "code",
      "metadata": {
        "id": "WT23N4TLCOrF",
        "colab_type": "code",
        "colab": {
          "base_uri": "https://localhost:8080/",
          "height": 206
        },
        "outputId": "c98fbcdf-5116-4272-ce53-c8bb9cf6b871"
      },
      "source": [
        "#short preview of the data table\n",
        "data.head()"
      ],
      "execution_count": 3,
      "outputs": [
        {
          "output_type": "execute_result",
          "data": {
            "text/html": [
              "<div>\n",
              "<style scoped>\n",
              "    .dataframe tbody tr th:only-of-type {\n",
              "        vertical-align: middle;\n",
              "    }\n",
              "\n",
              "    .dataframe tbody tr th {\n",
              "        vertical-align: top;\n",
              "    }\n",
              "\n",
              "    .dataframe thead th {\n",
              "        text-align: right;\n",
              "    }\n",
              "</style>\n",
              "<table border=\"1\" class=\"dataframe\">\n",
              "  <thead>\n",
              "    <tr style=\"text-align: right;\">\n",
              "      <th></th>\n",
              "      <th>month_number</th>\n",
              "      <th>facecream</th>\n",
              "      <th>facewash</th>\n",
              "      <th>toothpaste</th>\n",
              "      <th>bathingsoap</th>\n",
              "      <th>shampoo</th>\n",
              "      <th>moisturizer</th>\n",
              "      <th>total_units</th>\n",
              "      <th>total_profit</th>\n",
              "    </tr>\n",
              "  </thead>\n",
              "  <tbody>\n",
              "    <tr>\n",
              "      <th>0</th>\n",
              "      <td>1</td>\n",
              "      <td>2500</td>\n",
              "      <td>1500</td>\n",
              "      <td>5200</td>\n",
              "      <td>9200</td>\n",
              "      <td>1200</td>\n",
              "      <td>1500</td>\n",
              "      <td>21100</td>\n",
              "      <td>211000</td>\n",
              "    </tr>\n",
              "    <tr>\n",
              "      <th>1</th>\n",
              "      <td>2</td>\n",
              "      <td>2630</td>\n",
              "      <td>1200</td>\n",
              "      <td>5100</td>\n",
              "      <td>6100</td>\n",
              "      <td>2100</td>\n",
              "      <td>1200</td>\n",
              "      <td>18330</td>\n",
              "      <td>183300</td>\n",
              "    </tr>\n",
              "    <tr>\n",
              "      <th>2</th>\n",
              "      <td>3</td>\n",
              "      <td>2140</td>\n",
              "      <td>1340</td>\n",
              "      <td>4550</td>\n",
              "      <td>9550</td>\n",
              "      <td>3550</td>\n",
              "      <td>1340</td>\n",
              "      <td>22470</td>\n",
              "      <td>224700</td>\n",
              "    </tr>\n",
              "    <tr>\n",
              "      <th>3</th>\n",
              "      <td>4</td>\n",
              "      <td>3400</td>\n",
              "      <td>1130</td>\n",
              "      <td>5870</td>\n",
              "      <td>8870</td>\n",
              "      <td>1870</td>\n",
              "      <td>1130</td>\n",
              "      <td>22270</td>\n",
              "      <td>222700</td>\n",
              "    </tr>\n",
              "    <tr>\n",
              "      <th>4</th>\n",
              "      <td>5</td>\n",
              "      <td>3600</td>\n",
              "      <td>1740</td>\n",
              "      <td>4560</td>\n",
              "      <td>7760</td>\n",
              "      <td>1560</td>\n",
              "      <td>1740</td>\n",
              "      <td>20960</td>\n",
              "      <td>209600</td>\n",
              "    </tr>\n",
              "  </tbody>\n",
              "</table>\n",
              "</div>"
            ],
            "text/plain": [
              "   month_number  facecream  facewash  ...  moisturizer  total_units  total_profit\n",
              "0             1       2500      1500  ...         1500        21100        211000\n",
              "1             2       2630      1200  ...         1200        18330        183300\n",
              "2             3       2140      1340  ...         1340        22470        224700\n",
              "3             4       3400      1130  ...         1130        22270        222700\n",
              "4             5       3600      1740  ...         1740        20960        209600\n",
              "\n",
              "[5 rows x 9 columns]"
            ]
          },
          "metadata": {
            "tags": []
          },
          "execution_count": 3
        }
      ]
    },
    {
      "cell_type": "code",
      "metadata": {
        "id": "8LQO_9-JCOrL",
        "colab_type": "code",
        "colab": {
          "base_uri": "https://localhost:8080/",
          "height": 283
        },
        "outputId": "7d09059e-3512-449f-9146-0bb89f647da5"
      },
      "source": [
        "#access data rows by name\n",
        "plt.plot(data.toothpaste)"
      ],
      "execution_count": 4,
      "outputs": [
        {
          "output_type": "execute_result",
          "data": {
            "text/plain": [
              "[<matplotlib.lines.Line2D at 0x7f310a51deb8>]"
            ]
          },
          "metadata": {
            "tags": []
          },
          "execution_count": 4
        },
        {
          "output_type": "display_data",
          "data": {
            "image/png": "[encoded data removed]",
            "text/plain": [
              "<Figure size 432x288 with 1 Axes>"
            ]
          },
          "metadata": {
            "tags": []
          }
        }
      ]
    },
    {
      "cell_type": "markdown",
      "metadata": {
        "id": "Zt4Iv0fyCOrS",
        "colab_type": "text"
      },
      "source": [
        "## Exercise 1\n",
        "Read Total profit of all months and show it using a line plot\n",
        "Total profit data provided for each month. Generated line plot must include the following properties: \n",
        "\n",
        "* X label name = Month Number\n",
        "* Y label name = Total profit\n"
      ]
    },
    {
      "cell_type": "code",
      "metadata": {
        "id": "YYxgJ3rICOrV",
        "colab_type": "code",
        "colab": {
          "base_uri": "https://localhost:8080/",
          "height": 297
        },
        "outputId": "4f464c3c-5455-4f6e-b5ba-c6f6f899f213"
      },
      "source": [
        "plt.plot(data.total_profit)\n",
        "plt.xlabel('Month Number')\n",
        "plt.ylabel('Total profit')"
      ],
      "execution_count": 7,
      "outputs": [
        {
          "output_type": "execute_result",
          "data": {
            "text/plain": [
              "Text(0, 0.5, 'Total profit')"
            ]
          },
          "metadata": {
            "tags": []
          },
          "execution_count": 7
        },
        {
          "output_type": "display_data",
          "data": {
            "image/png": "[encoded data removed]",
            "text/plain": [
              "<Figure size 432x288 with 1 Axes>"
            ]
          },
          "metadata": {
            "tags": []
          }
        }
      ]
    },
    {
      "cell_type": "markdown",
      "metadata": {
        "id": "I4x8jDsLCOrc",
        "colab_type": "text"
      },
      "source": [
        "## Exercise 2\n",
        "Get Total profit of all months and show line plot with the following Style properties\n",
        "Generated line plot must include following Style properties:\n",
        "\n",
        "* Line Style dotted and Line color should be red\n",
        "* Show legend at the lower right location.\n",
        "* X label name = Month Number\n",
        "* Y label name = Sold units number\n",
        "* Add a circle marker.\n",
        "* Line marker color as read\n",
        "* Line width should be 3\n"
      ]
    },
    {
      "cell_type": "code",
      "metadata": {
        "id": "hp7_OslACOrd",
        "colab_type": "code",
        "colab": {
          "base_uri": "https://localhost:8080/",
          "height": 297
        },
        "outputId": "3326a83c-b202-4606-a4ab-d23786c88c6a"
      },
      "source": [
        "plt.plot(data.total_profit, color='red', ls='dotted', marker='o', linewidth='3')\n",
        "plt.xlabel('Month Number')\n",
        "plt.ylabel('Sold units number')\n",
        "plt.legend(data.total_profit, loc='lower right')"
      ],
      "execution_count": 26,
      "outputs": [
        {
          "output_type": "execute_result",
          "data": {
            "text/plain": [
              "<matplotlib.legend.Legend at 0x7f3109317278>"
            ]
          },
          "metadata": {
            "tags": []
          },
          "execution_count": 26
        },
        {
          "output_type": "display_data",
          "data": {
            "image/png": "[encoded data removed]",
            "text/plain": [
              "<Figure size 432x288 with 1 Axes>"
            ]
          },
          "metadata": {
            "tags": []
          }
        }
      ]
    },
    {
      "cell_type": "markdown",
      "metadata": {
        "id": "BhvKxEWSCOri",
        "colab_type": "text"
      },
      "source": [
        "## Exercise 3\n",
        "Read all product sales data and show it  using a multiline plot\n",
        "Display the number of units sold per month for each product using multiline plots. (i.e., Separate Plotline for each product for each product)."
      ]
    },
    {
      "cell_type": "code",
      "metadata": {
        "id": "VhrE5HXvCOrk",
        "colab_type": "code",
        "colab": {}
      },
      "source": [
        ""
      ],
      "execution_count": 0,
      "outputs": []
    },
    {
      "cell_type": "markdown",
      "metadata": {
        "id": "BzoM2nghCOrp",
        "colab_type": "text"
      },
      "source": [
        "## Exercise 4\n",
        "Read toothpaste sales data of each month and show it using a scatter plot\n",
        "Also, add a grid in the plot."
      ]
    },
    {
      "cell_type": "code",
      "metadata": {
        "id": "pf9aRyJBCOrq",
        "colab_type": "code",
        "colab": {}
      },
      "source": [
        ""
      ],
      "execution_count": 0,
      "outputs": []
    },
    {
      "cell_type": "markdown",
      "metadata": {
        "id": "vdYxweEuCOrv",
        "colab_type": "text"
      },
      "source": [
        "## Exercise 5\n",
        "Read face cream and facewash product sales data and show it using the bar chart\n",
        "Bar chart should display the number of units sold per month for each product. Add a separate bar for each product in the same chart."
      ]
    },
    {
      "cell_type": "code",
      "metadata": {
        "id": "AztGT9s3COrw",
        "colab_type": "code",
        "colab": {}
      },
      "source": [
        ""
      ],
      "execution_count": 0,
      "outputs": []
    },
    {
      "cell_type": "markdown",
      "metadata": {
        "id": "TZeQgSWJCOr3",
        "colab_type": "text"
      },
      "source": [
        "## Exercise 6\n",
        "Calculate total sale data for last year for each product and show it using a Pie chart\n",
        "Note: In Pie chart display Number of units sold per year for each product in percentage.\n",
        "\n",
        "***Note:*** use ``data[item].sum()`` to compute sums over columns "
      ]
    },
    {
      "cell_type": "code",
      "metadata": {
        "id": "kS2yeGOqCOr5",
        "colab_type": "code",
        "colab": {
          "base_uri": "https://localhost:8080/",
          "height": 35
        },
        "outputId": "79b0b5be-d0c5-4f45-942d-e119e213b816"
      },
      "source": [
        "data['toothpaste'].sum()"
      ],
      "execution_count": 5,
      "outputs": [
        {
          "output_type": "execute_result",
          "data": {
            "text/plain": [
              "69910"
            ]
          },
          "metadata": {
            "tags": []
          },
          "execution_count": 5
        }
      ]
    },
    {
      "cell_type": "code",
      "metadata": {
        "id": "dInt7LV9COr9",
        "colab_type": "code",
        "colab": {}
      },
      "source": [
        ""
      ],
      "execution_count": 0,
      "outputs": []
    }
  ]
}