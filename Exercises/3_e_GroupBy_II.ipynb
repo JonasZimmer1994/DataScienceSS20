{
  "nbformat": 4,
  "nbformat_minor": 0,
  "metadata": {
    "kernelspec": {
      "display_name": "Python 3",
      "language": "python",
      "name": "python3"
    },
    "language_info": {
      "codemirror_mode": {
        "name": "ipython",
        "version": 3
      },
      "file_extension": ".py",
      "mimetype": "text/x-python",
      "name": "python",
      "nbconvert_exporter": "python",
      "pygments_lexer": "ipython3",
      "version": "3.7.6"
    },
    "colab": {
      "name": "3_e_GroupBy_II.ipynb",
      "provenance": []
    }
  },
  "cells": [
    {
      "cell_type": "markdown",
      "metadata": {
        "id": "iimDFIM9aoB-",
        "colab_type": "text"
      },
      "source": [
        "# GroupBy II"
      ]
    },
    {
      "cell_type": "code",
      "metadata": {
        "id": "qwaU-a5WaoCA",
        "colab_type": "code",
        "colab": {}
      },
      "source": [
        "import pandas as pd"
      ],
      "execution_count": 0,
      "outputs": []
    },
    {
      "cell_type": "markdown",
      "metadata": {
        "id": "vLIEC8tmaoCN",
        "colab_type": "text"
      },
      "source": [
        "### Use Case: statistics on Occupations. "
      ]
    },
    {
      "cell_type": "code",
      "metadata": {
        "id": "CF74eDrwaoCS",
        "colab_type": "code",
        "colab": {
          "base_uri": "https://localhost:8080/",
          "height": 237
        },
        "outputId": "d6f94190-f0ab-4283-a67d-0d78396462a8"
      },
      "source": [
        "users = pd.read_table('https://raw.githubusercontent.com/justmarkham/DAT8/master/data/u.user', \n",
        "                      sep='|', index_col='user_id')\n",
        "users.head()"
      ],
      "execution_count": 9,
      "outputs": [
        {
          "output_type": "execute_result",
          "data": {
            "text/html": [
              "<div>\n",
              "<style scoped>\n",
              "    .dataframe tbody tr th:only-of-type {\n",
              "        vertical-align: middle;\n",
              "    }\n",
              "\n",
              "    .dataframe tbody tr th {\n",
              "        vertical-align: top;\n",
              "    }\n",
              "\n",
              "    .dataframe thead th {\n",
              "        text-align: right;\n",
              "    }\n",
              "</style>\n",
              "<table border=\"1\" class=\"dataframe\">\n",
              "  <thead>\n",
              "    <tr style=\"text-align: right;\">\n",
              "      <th></th>\n",
              "      <th>age</th>\n",
              "      <th>gender</th>\n",
              "      <th>occupation</th>\n",
              "      <th>zip_code</th>\n",
              "    </tr>\n",
              "    <tr>\n",
              "      <th>user_id</th>\n",
              "      <th></th>\n",
              "      <th></th>\n",
              "      <th></th>\n",
              "      <th></th>\n",
              "    </tr>\n",
              "  </thead>\n",
              "  <tbody>\n",
              "    <tr>\n",
              "      <th>1</th>\n",
              "      <td>24</td>\n",
              "      <td>M</td>\n",
              "      <td>technician</td>\n",
              "      <td>85711</td>\n",
              "    </tr>\n",
              "    <tr>\n",
              "      <th>2</th>\n",
              "      <td>53</td>\n",
              "      <td>F</td>\n",
              "      <td>other</td>\n",
              "      <td>94043</td>\n",
              "    </tr>\n",
              "    <tr>\n",
              "      <th>3</th>\n",
              "      <td>23</td>\n",
              "      <td>M</td>\n",
              "      <td>writer</td>\n",
              "      <td>32067</td>\n",
              "    </tr>\n",
              "    <tr>\n",
              "      <th>4</th>\n",
              "      <td>24</td>\n",
              "      <td>M</td>\n",
              "      <td>technician</td>\n",
              "      <td>43537</td>\n",
              "    </tr>\n",
              "    <tr>\n",
              "      <th>5</th>\n",
              "      <td>33</td>\n",
              "      <td>F</td>\n",
              "      <td>other</td>\n",
              "      <td>15213</td>\n",
              "    </tr>\n",
              "  </tbody>\n",
              "</table>\n",
              "</div>"
            ],
            "text/plain": [
              "         age gender  occupation zip_code\n",
              "user_id                                 \n",
              "1         24      M  technician    85711\n",
              "2         53      F       other    94043\n",
              "3         23      M      writer    32067\n",
              "4         24      M  technician    43537\n",
              "5         33      F       other    15213"
            ]
          },
          "metadata": {
            "tags": []
          },
          "execution_count": 9
        }
      ]
    },
    {
      "cell_type": "markdown",
      "metadata": {
        "id": "2GjQaHCfaoCd",
        "colab_type": "text"
      },
      "source": [
        "### Get the mean age per occupation"
      ]
    },
    {
      "cell_type": "code",
      "metadata": {
        "id": "xTxS_iXpaoCf",
        "colab_type": "code",
        "colab": {
          "base_uri": "https://localhost:8080/",
          "height": 435
        },
        "outputId": "bbe154ed-f929-4eba-e2f4-d648a761a68e"
      },
      "source": [
        "occupation = users.groupby('occupation')\n",
        "\n",
        "occupation['age'].mean()"
      ],
      "execution_count": 70,
      "outputs": [
        {
          "output_type": "execute_result",
          "data": {
            "text/plain": [
              "occupation\n",
              "administrator    38.746835\n",
              "artist           31.392857\n",
              "doctor           43.571429\n",
              "educator         42.010526\n",
              "engineer         36.388060\n",
              "entertainment    29.222222\n",
              "executive        38.718750\n",
              "healthcare       41.562500\n",
              "homemaker        32.571429\n",
              "lawyer           36.750000\n",
              "librarian        40.000000\n",
              "marketing        37.615385\n",
              "none             26.555556\n",
              "other            34.523810\n",
              "programmer       33.121212\n",
              "retired          63.071429\n",
              "salesman         35.666667\n",
              "scientist        35.548387\n",
              "student          22.081633\n",
              "technician       33.148148\n",
              "writer           36.311111\n",
              "Name: age, dtype: float64"
            ]
          },
          "metadata": {
            "tags": []
          },
          "execution_count": 70
        }
      ]
    },
    {
      "cell_type": "markdown",
      "metadata": {
        "id": "q6WU6NAbaoCl",
        "colab_type": "text"
      },
      "source": [
        "### Get the Male ratio per occupation and sort it from the most to the least"
      ]
    },
    {
      "cell_type": "code",
      "metadata": {
        "id": "6RkSj-t2aoCo",
        "colab_type": "code",
        "colab": {
          "base_uri": "https://localhost:8080/",
          "height": 798
        },
        "outputId": "a8fbf894-1be3-455a-adbe-5974260be3f9"
      },
      "source": [
        "occupation['gender'].value_counts()\n",
        "\n"
      ],
      "execution_count": 93,
      "outputs": [
        {
          "output_type": "execute_result",
          "data": {
            "text/plain": [
              "occupation     gender\n",
              "administrator  M          43\n",
              "               F          36\n",
              "artist         M          15\n",
              "               F          13\n",
              "doctor         M           7\n",
              "educator       M          69\n",
              "               F          26\n",
              "engineer       M          65\n",
              "               F           2\n",
              "entertainment  M          16\n",
              "               F           2\n",
              "executive      M          29\n",
              "               F           3\n",
              "healthcare     F          11\n",
              "               M           5\n",
              "homemaker      F           6\n",
              "               M           1\n",
              "lawyer         M          10\n",
              "               F           2\n",
              "librarian      F          29\n",
              "               M          22\n",
              "marketing      M          16\n",
              "               F          10\n",
              "none           M           5\n",
              "               F           4\n",
              "other          M          69\n",
              "               F          36\n",
              "programmer     M          60\n",
              "               F           6\n",
              "retired        M          13\n",
              "               F           1\n",
              "salesman       M           9\n",
              "               F           3\n",
              "scientist      M          28\n",
              "               F           3\n",
              "student        M         136\n",
              "               F          60\n",
              "technician     M          26\n",
              "               F           1\n",
              "writer         M          26\n",
              "               F          19\n",
              "Name: gender, dtype: int64"
            ]
          },
          "metadata": {
            "tags": []
          },
          "execution_count": 93
        }
      ]
    },
    {
      "cell_type": "code",
      "metadata": {
        "id": "zdNgp9rmrl83",
        "colab_type": "code",
        "colab": {
          "base_uri": "https://localhost:8080/",
          "height": 435
        },
        "outputId": "534262f2-9be0-427d-d275-300d76c5e5db"
      },
      "source": [
        "import numpy as np\n",
        "occupations = pd.pivot_table(users,index='occupation', columns='gender', aggfunc='count')\n",
        "male=occupations['age']['M'] / (occupations['age']['M']+ occupations['age']['F'])\n",
        "male.sort_values(ascending=False)"
      ],
      "execution_count": 97,
      "outputs": [
        {
          "output_type": "execute_result",
          "data": {
            "text/plain": [
              "occupation\n",
              "engineer         0.970149\n",
              "technician       0.962963\n",
              "retired          0.928571\n",
              "programmer       0.909091\n",
              "executive        0.906250\n",
              "scientist        0.903226\n",
              "entertainment    0.888889\n",
              "lawyer           0.833333\n",
              "salesman         0.750000\n",
              "educator         0.726316\n",
              "student          0.693878\n",
              "other            0.657143\n",
              "marketing        0.615385\n",
              "writer           0.577778\n",
              "none             0.555556\n",
              "administrator    0.544304\n",
              "artist           0.535714\n",
              "librarian        0.431373\n",
              "healthcare       0.312500\n",
              "homemaker        0.142857\n",
              "doctor                NaN\n",
              "dtype: float64"
            ]
          },
          "metadata": {
            "tags": []
          },
          "execution_count": 97
        }
      ]
    },
    {
      "cell_type": "code",
      "metadata": {
        "id": "P8PMCT7WtIV3",
        "colab_type": "code",
        "colab": {}
      },
      "source": [
        ""
      ],
      "execution_count": 0,
      "outputs": []
    },
    {
      "cell_type": "markdown",
      "metadata": {
        "id": "ZEnVkDmYaoCv",
        "colab_type": "text"
      },
      "source": [
        "### For each occupation, calculate the minimum and maximum ages"
      ]
    },
    {
      "cell_type": "code",
      "metadata": {
        "id": "KMNnq4kxaoCx",
        "colab_type": "code",
        "colab": {}
      },
      "source": [
        ""
      ],
      "execution_count": 0,
      "outputs": []
    },
    {
      "cell_type": "markdown",
      "metadata": {
        "id": "tmQNzCG3aoC5",
        "colab_type": "text"
      },
      "source": [
        "### For each combination of occupation and gender, calculate the mean age"
      ]
    },
    {
      "cell_type": "code",
      "metadata": {
        "id": "qFs-RrQraoC8",
        "colab_type": "code",
        "colab": {}
      },
      "source": [
        ""
      ],
      "execution_count": 0,
      "outputs": []
    },
    {
      "cell_type": "markdown",
      "metadata": {
        "id": "CaXyQSSWaoDA",
        "colab_type": "text"
      },
      "source": [
        "### [dificult] For each occupation present the percentage of women and men"
      ]
    },
    {
      "cell_type": "code",
      "metadata": {
        "id": "g1cz0Z4daoDB",
        "colab_type": "code",
        "colab": {}
      },
      "source": [
        ""
      ],
      "execution_count": 0,
      "outputs": []
    },
    {
      "cell_type": "code",
      "metadata": {
        "id": "n1pef1izaoDG",
        "colab_type": "code",
        "colab": {}
      },
      "source": [
        ""
      ],
      "execution_count": 0,
      "outputs": []
    }
  ]
}