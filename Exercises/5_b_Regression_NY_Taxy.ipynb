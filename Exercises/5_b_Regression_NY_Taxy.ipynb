{
  "nbformat": 4,
  "nbformat_minor": 0,
  "metadata": {
    "kernelspec": {
      "display_name": "Python 3",
      "language": "python",
      "name": "python3"
    },
    "language_info": {
      "codemirror_mode": {
        "name": "ipython",
        "version": 3
      },
      "file_extension": ".py",
      "mimetype": "text/x-python",
      "name": "python",
      "nbconvert_exporter": "python",
      "pygments_lexer": "ipython3",
      "version": "3.7.6"
    },
    "colab": {
      "name": "5_b_Regression_NY_Taxy.ipynb",
      "provenance": []
    }
  },
  "cells": [
    {
      "cell_type": "markdown",
      "metadata": {
        "id": "CIsJ3kZBZWRq",
        "colab_type": "text"
      },
      "source": [
        "# Block 5 Exercise 2: Predicting the fare of taxi rides\n",
        "Using the NY Taxi data set (see Use Case Block I) and the use case from the lecture..."
      ]
    },
    {
      "cell_type": "code",
      "metadata": {
        "id": "pwesqiL6ZWRr",
        "colab_type": "code",
        "colab": {}
      },
      "source": [
        "import pandas as pd\n",
        "import numpy as np\n",
        "import folium\n"
      ],
      "execution_count": 0,
      "outputs": []
    },
    {
      "cell_type": "code",
      "metadata": {
        "id": "XwfXJHOVZWRz",
        "colab_type": "code",
        "outputId": "a297c73b-79fe-46cb-8574-016f0c5b9d3c",
        "colab": {
          "base_uri": "https://localhost:8080/",
          "height": 185
        }
      },
      "source": [
        "#check if notebook runs in colab\n",
        "import sys\n",
        "IN_COLAB = 'google.colab' in sys.modules\n",
        "print('running in Colab:',IN_COLAB)\n",
        "path='..'\n",
        "if IN_COLAB:\n",
        "  #in colab, we need to clone the data from the repo\n",
        "  !git clone https://github.com/JonasZimmer1994/DataScienceSS20.git\n",
        "  path='DataScienceSS20'"
      ],
      "execution_count": 3,
      "outputs": [
        {
          "output_type": "stream",
          "text": [
            "running in Colab: True\n",
            "Cloning into 'DataScienceSS20'...\n",
            "remote: Enumerating objects: 8, done.\u001b[K\n",
            "remote: Counting objects: 100% (8/8), done.\u001b[K\n",
            "remote: Compressing objects: 100% (8/8), done.\u001b[K\n",
            "remote: Total 767 (delta 3), reused 0 (delta 0), pack-reused 759\u001b[K\n",
            "Receiving objects: 100% (767/767), 111.67 MiB | 21.41 MiB/s, done.\n",
            "Resolving deltas: 100% (371/371), done.\n",
            "Checking out files: 100% (204/204), done.\n"
          ],
          "name": "stdout"
        }
      ]
    },
    {
      "cell_type": "code",
      "metadata": {
        "id": "t80QeVHgZWR-",
        "colab_type": "code",
        "colab": {}
      },
      "source": [
        "# we load the data we have saved after wrangling and pre-processing in block I\n",
        "X=pd.read_csv(path+'/DATA/train_cleaned.csv')\n",
        "drop_columns=['Unnamed: 0','Unnamed: 0.1','Unnamed: 0.1.1','key','pickup_datetime','pickup_date','pickup_latitude_round3','pickup_longitude_round3','dropoff_latitude_round3','dropoff_longitude_round3']\n",
        "X=X.drop(drop_columns,axis=1)\n",
        "X=pd.get_dummies(X)# one hot coding\n",
        "#generate labels\n",
        "y=X['fare_amount']\n",
        "X=X.drop(['fare_amount'],axis=1)"
      ],
      "execution_count": 0,
      "outputs": []
    },
    {
      "cell_type": "code",
      "metadata": {
        "id": "b5xFZAQFZWSD",
        "colab_type": "code",
        "outputId": "7e131a63-5689-431f-dd3f-c6d1f6d61f9c",
        "colab": {
          "base_uri": "https://localhost:8080/",
          "height": 226
        }
      },
      "source": [
        "# a quick look at the data\n",
        "X.head()"
      ],
      "execution_count": 5,
      "outputs": [
        {
          "output_type": "execute_result",
          "data": {
            "text/html": [
              "<div>\n",
              "<style scoped>\n",
              "    .dataframe tbody tr th:only-of-type {\n",
              "        vertical-align: middle;\n",
              "    }\n",
              "\n",
              "    .dataframe tbody tr th {\n",
              "        vertical-align: top;\n",
              "    }\n",
              "\n",
              "    .dataframe thead th {\n",
              "        text-align: right;\n",
              "    }\n",
              "</style>\n",
              "<table border=\"1\" class=\"dataframe\">\n",
              "  <thead>\n",
              "    <tr style=\"text-align: right;\">\n",
              "      <th></th>\n",
              "      <th>pickup_longitude</th>\n",
              "      <th>pickup_latitude</th>\n",
              "      <th>dropoff_longitude</th>\n",
              "      <th>dropoff_latitude</th>\n",
              "      <th>passenger_count</th>\n",
              "      <th>pickup_day</th>\n",
              "      <th>pickup_hour</th>\n",
              "      <th>pickup_day_of_week</th>\n",
              "      <th>pickup_month</th>\n",
              "      <th>pickup_year</th>\n",
              "      <th>is_pickup_JFK</th>\n",
              "      <th>is_dropoff_JFK</th>\n",
              "      <th>is_pickup_EWR</th>\n",
              "      <th>is_dropoff_EWR</th>\n",
              "      <th>is_pickup_la_guardia</th>\n",
              "      <th>is_dropoff_la_guardia</th>\n",
              "      <th>trip_distance</th>\n",
              "      <th>is_pickup_lower_manhattan</th>\n",
              "      <th>is_dropoff_lower_manhattan</th>\n",
              "      <th>pickup_borough_bronx</th>\n",
              "      <th>pickup_borough_brooklyn</th>\n",
              "      <th>pickup_borough_manhattan</th>\n",
              "      <th>pickup_borough_others</th>\n",
              "      <th>pickup_borough_queens</th>\n",
              "      <th>pickup_borough_staten_island</th>\n",
              "      <th>dropoff_borough_bronx</th>\n",
              "      <th>dropoff_borough_brooklyn</th>\n",
              "      <th>dropoff_borough_manhattan</th>\n",
              "      <th>dropoff_borough_others</th>\n",
              "      <th>dropoff_borough_queens</th>\n",
              "      <th>dropoff_borough_staten_island</th>\n",
              "    </tr>\n",
              "  </thead>\n",
              "  <tbody>\n",
              "    <tr>\n",
              "      <th>0</th>\n",
              "      <td>-73.844311</td>\n",
              "      <td>40.721319</td>\n",
              "      <td>-73.841610</td>\n",
              "      <td>40.712278</td>\n",
              "      <td>1</td>\n",
              "      <td>15</td>\n",
              "      <td>17</td>\n",
              "      <td>1</td>\n",
              "      <td>6</td>\n",
              "      <td>2009</td>\n",
              "      <td>0</td>\n",
              "      <td>0</td>\n",
              "      <td>0</td>\n",
              "      <td>0</td>\n",
              "      <td>0</td>\n",
              "      <td>0</td>\n",
              "      <td>0.640487</td>\n",
              "      <td>0</td>\n",
              "      <td>0</td>\n",
              "      <td>0</td>\n",
              "      <td>0</td>\n",
              "      <td>0</td>\n",
              "      <td>0</td>\n",
              "      <td>1</td>\n",
              "      <td>0</td>\n",
              "      <td>0</td>\n",
              "      <td>0</td>\n",
              "      <td>0</td>\n",
              "      <td>0</td>\n",
              "      <td>1</td>\n",
              "      <td>0</td>\n",
              "    </tr>\n",
              "    <tr>\n",
              "      <th>1</th>\n",
              "      <td>-74.016048</td>\n",
              "      <td>40.711303</td>\n",
              "      <td>-73.979268</td>\n",
              "      <td>40.782004</td>\n",
              "      <td>1</td>\n",
              "      <td>5</td>\n",
              "      <td>16</td>\n",
              "      <td>2</td>\n",
              "      <td>1</td>\n",
              "      <td>2010</td>\n",
              "      <td>0</td>\n",
              "      <td>0</td>\n",
              "      <td>0</td>\n",
              "      <td>0</td>\n",
              "      <td>0</td>\n",
              "      <td>0</td>\n",
              "      <td>5.250670</td>\n",
              "      <td>1</td>\n",
              "      <td>0</td>\n",
              "      <td>0</td>\n",
              "      <td>0</td>\n",
              "      <td>1</td>\n",
              "      <td>0</td>\n",
              "      <td>0</td>\n",
              "      <td>0</td>\n",
              "      <td>0</td>\n",
              "      <td>0</td>\n",
              "      <td>1</td>\n",
              "      <td>0</td>\n",
              "      <td>0</td>\n",
              "      <td>0</td>\n",
              "    </tr>\n",
              "    <tr>\n",
              "      <th>2</th>\n",
              "      <td>-73.982738</td>\n",
              "      <td>40.761270</td>\n",
              "      <td>-73.991242</td>\n",
              "      <td>40.750562</td>\n",
              "      <td>2</td>\n",
              "      <td>18</td>\n",
              "      <td>0</td>\n",
              "      <td>4</td>\n",
              "      <td>8</td>\n",
              "      <td>2011</td>\n",
              "      <td>0</td>\n",
              "      <td>0</td>\n",
              "      <td>0</td>\n",
              "      <td>0</td>\n",
              "      <td>0</td>\n",
              "      <td>0</td>\n",
              "      <td>0.863411</td>\n",
              "      <td>0</td>\n",
              "      <td>0</td>\n",
              "      <td>0</td>\n",
              "      <td>0</td>\n",
              "      <td>1</td>\n",
              "      <td>0</td>\n",
              "      <td>0</td>\n",
              "      <td>0</td>\n",
              "      <td>0</td>\n",
              "      <td>0</td>\n",
              "      <td>1</td>\n",
              "      <td>0</td>\n",
              "      <td>0</td>\n",
              "      <td>0</td>\n",
              "    </tr>\n",
              "    <tr>\n",
              "      <th>3</th>\n",
              "      <td>-73.987130</td>\n",
              "      <td>40.733143</td>\n",
              "      <td>-73.991567</td>\n",
              "      <td>40.758092</td>\n",
              "      <td>1</td>\n",
              "      <td>21</td>\n",
              "      <td>4</td>\n",
              "      <td>6</td>\n",
              "      <td>4</td>\n",
              "      <td>2012</td>\n",
              "      <td>0</td>\n",
              "      <td>0</td>\n",
              "      <td>0</td>\n",
              "      <td>0</td>\n",
              "      <td>0</td>\n",
              "      <td>0</td>\n",
              "      <td>1.739386</td>\n",
              "      <td>1</td>\n",
              "      <td>0</td>\n",
              "      <td>0</td>\n",
              "      <td>0</td>\n",
              "      <td>1</td>\n",
              "      <td>0</td>\n",
              "      <td>0</td>\n",
              "      <td>0</td>\n",
              "      <td>0</td>\n",
              "      <td>0</td>\n",
              "      <td>1</td>\n",
              "      <td>0</td>\n",
              "      <td>0</td>\n",
              "      <td>0</td>\n",
              "    </tr>\n",
              "    <tr>\n",
              "      <th>4</th>\n",
              "      <td>-73.968095</td>\n",
              "      <td>40.768008</td>\n",
              "      <td>-73.956655</td>\n",
              "      <td>40.783762</td>\n",
              "      <td>1</td>\n",
              "      <td>9</td>\n",
              "      <td>7</td>\n",
              "      <td>2</td>\n",
              "      <td>3</td>\n",
              "      <td>2010</td>\n",
              "      <td>0</td>\n",
              "      <td>0</td>\n",
              "      <td>0</td>\n",
              "      <td>0</td>\n",
              "      <td>0</td>\n",
              "      <td>0</td>\n",
              "      <td>1.242218</td>\n",
              "      <td>0</td>\n",
              "      <td>0</td>\n",
              "      <td>0</td>\n",
              "      <td>0</td>\n",
              "      <td>1</td>\n",
              "      <td>0</td>\n",
              "      <td>0</td>\n",
              "      <td>0</td>\n",
              "      <td>0</td>\n",
              "      <td>0</td>\n",
              "      <td>1</td>\n",
              "      <td>0</td>\n",
              "      <td>0</td>\n",
              "      <td>0</td>\n",
              "    </tr>\n",
              "  </tbody>\n",
              "</table>\n",
              "</div>"
            ],
            "text/plain": [
              "   pickup_longitude  ...  dropoff_borough_staten_island\n",
              "0        -73.844311  ...                              0\n",
              "1        -74.016048  ...                              0\n",
              "2        -73.982738  ...                              0\n",
              "3        -73.987130  ...                              0\n",
              "4        -73.968095  ...                              0\n",
              "\n",
              "[5 rows x 31 columns]"
            ]
          },
          "metadata": {
            "tags": []
          },
          "execution_count": 5
        }
      ]
    },
    {
      "cell_type": "code",
      "metadata": {
        "id": "VptG21l3ZWSP",
        "colab_type": "code",
        "outputId": "e1714187-6a05-475e-e75d-02519928dd10",
        "colab": {
          "base_uri": "https://localhost:8080/",
          "height": 129
        }
      },
      "source": [
        "y.head()"
      ],
      "execution_count": 6,
      "outputs": [
        {
          "output_type": "execute_result",
          "data": {
            "text/plain": [
              "0     4.5\n",
              "1    16.9\n",
              "2     5.7\n",
              "3     7.7\n",
              "4     5.3\n",
              "Name: fare_amount, dtype: float64"
            ]
          },
          "metadata": {
            "tags": []
          },
          "execution_count": 6
        }
      ]
    },
    {
      "cell_type": "markdown",
      "metadata": {
        "id": "zHzHKPphZWST",
        "colab_type": "text"
      },
      "source": [
        "### E 2.1 Split data into train and test data\n",
        "* use data from 2009-2014 for training and 2015 for evaluation\n"
      ]
    },
    {
      "cell_type": "code",
      "metadata": {
        "id": "CYZPihYgZ3OM",
        "colab_type": "code",
        "outputId": "b8ef54f2-bc7a-4082-bcb3-bd29a615a431",
        "colab": {
          "base_uri": "https://localhost:8080/",
          "height": 443
        }
      },
      "source": [
        "Years = X.groupby(X['pickup_year'])\n",
        "Years.get_group(2009)"
      ],
      "execution_count": 7,
      "outputs": [
        {
          "output_type": "execute_result",
          "data": {
            "text/html": [
              "<div>\n",
              "<style scoped>\n",
              "    .dataframe tbody tr th:only-of-type {\n",
              "        vertical-align: middle;\n",
              "    }\n",
              "\n",
              "    .dataframe tbody tr th {\n",
              "        vertical-align: top;\n",
              "    }\n",
              "\n",
              "    .dataframe thead th {\n",
              "        text-align: right;\n",
              "    }\n",
              "</style>\n",
              "<table border=\"1\" class=\"dataframe\">\n",
              "  <thead>\n",
              "    <tr style=\"text-align: right;\">\n",
              "      <th></th>\n",
              "      <th>pickup_longitude</th>\n",
              "      <th>pickup_latitude</th>\n",
              "      <th>dropoff_longitude</th>\n",
              "      <th>dropoff_latitude</th>\n",
              "      <th>passenger_count</th>\n",
              "      <th>pickup_day</th>\n",
              "      <th>pickup_hour</th>\n",
              "      <th>pickup_day_of_week</th>\n",
              "      <th>pickup_month</th>\n",
              "      <th>pickup_year</th>\n",
              "      <th>is_pickup_JFK</th>\n",
              "      <th>is_dropoff_JFK</th>\n",
              "      <th>is_pickup_EWR</th>\n",
              "      <th>is_dropoff_EWR</th>\n",
              "      <th>is_pickup_la_guardia</th>\n",
              "      <th>is_dropoff_la_guardia</th>\n",
              "      <th>trip_distance</th>\n",
              "      <th>is_pickup_lower_manhattan</th>\n",
              "      <th>is_dropoff_lower_manhattan</th>\n",
              "      <th>pickup_borough_bronx</th>\n",
              "      <th>pickup_borough_brooklyn</th>\n",
              "      <th>pickup_borough_manhattan</th>\n",
              "      <th>pickup_borough_others</th>\n",
              "      <th>pickup_borough_queens</th>\n",
              "      <th>pickup_borough_staten_island</th>\n",
              "      <th>dropoff_borough_bronx</th>\n",
              "      <th>dropoff_borough_brooklyn</th>\n",
              "      <th>dropoff_borough_manhattan</th>\n",
              "      <th>dropoff_borough_others</th>\n",
              "      <th>dropoff_borough_queens</th>\n",
              "      <th>dropoff_borough_staten_island</th>\n",
              "    </tr>\n",
              "  </thead>\n",
              "  <tbody>\n",
              "    <tr>\n",
              "      <th>0</th>\n",
              "      <td>-73.844311</td>\n",
              "      <td>40.721319</td>\n",
              "      <td>-73.841610</td>\n",
              "      <td>40.712278</td>\n",
              "      <td>1</td>\n",
              "      <td>15</td>\n",
              "      <td>17</td>\n",
              "      <td>1</td>\n",
              "      <td>6</td>\n",
              "      <td>2009</td>\n",
              "      <td>0</td>\n",
              "      <td>0</td>\n",
              "      <td>0</td>\n",
              "      <td>0</td>\n",
              "      <td>0</td>\n",
              "      <td>0</td>\n",
              "      <td>0.640487</td>\n",
              "      <td>0</td>\n",
              "      <td>0</td>\n",
              "      <td>0</td>\n",
              "      <td>0</td>\n",
              "      <td>0</td>\n",
              "      <td>0</td>\n",
              "      <td>1</td>\n",
              "      <td>0</td>\n",
              "      <td>0</td>\n",
              "      <td>0</td>\n",
              "      <td>0</td>\n",
              "      <td>0</td>\n",
              "      <td>1</td>\n",
              "      <td>0</td>\n",
              "    </tr>\n",
              "    <tr>\n",
              "      <th>9</th>\n",
              "      <td>-73.980658</td>\n",
              "      <td>40.733873</td>\n",
              "      <td>-73.991540</td>\n",
              "      <td>40.758138</td>\n",
              "      <td>2</td>\n",
              "      <td>2</td>\n",
              "      <td>1</td>\n",
              "      <td>3</td>\n",
              "      <td>9</td>\n",
              "      <td>2009</td>\n",
              "      <td>0</td>\n",
              "      <td>0</td>\n",
              "      <td>0</td>\n",
              "      <td>0</td>\n",
              "      <td>0</td>\n",
              "      <td>0</td>\n",
              "      <td>1.770676</td>\n",
              "      <td>1</td>\n",
              "      <td>0</td>\n",
              "      <td>0</td>\n",
              "      <td>0</td>\n",
              "      <td>1</td>\n",
              "      <td>0</td>\n",
              "      <td>0</td>\n",
              "      <td>0</td>\n",
              "      <td>0</td>\n",
              "      <td>0</td>\n",
              "      <td>1</td>\n",
              "      <td>0</td>\n",
              "      <td>0</td>\n",
              "      <td>0</td>\n",
              "    </tr>\n",
              "    <tr>\n",
              "      <th>11</th>\n",
              "      <td>-73.991601</td>\n",
              "      <td>40.744712</td>\n",
              "      <td>-73.983081</td>\n",
              "      <td>40.744682</td>\n",
              "      <td>2</td>\n",
              "      <td>6</td>\n",
              "      <td>1</td>\n",
              "      <td>5</td>\n",
              "      <td>11</td>\n",
              "      <td>2009</td>\n",
              "      <td>0</td>\n",
              "      <td>0</td>\n",
              "      <td>0</td>\n",
              "      <td>0</td>\n",
              "      <td>0</td>\n",
              "      <td>0</td>\n",
              "      <td>0.446000</td>\n",
              "      <td>0</td>\n",
              "      <td>0</td>\n",
              "      <td>0</td>\n",
              "      <td>0</td>\n",
              "      <td>1</td>\n",
              "      <td>0</td>\n",
              "      <td>0</td>\n",
              "      <td>0</td>\n",
              "      <td>0</td>\n",
              "      <td>0</td>\n",
              "      <td>1</td>\n",
              "      <td>0</td>\n",
              "      <td>0</td>\n",
              "      <td>0</td>\n",
              "    </tr>\n",
              "    <tr>\n",
              "      <th>15</th>\n",
              "      <td>-73.981060</td>\n",
              "      <td>40.737690</td>\n",
              "      <td>-73.994177</td>\n",
              "      <td>40.728412</td>\n",
              "      <td>1</td>\n",
              "      <td>22</td>\n",
              "      <td>16</td>\n",
              "      <td>3</td>\n",
              "      <td>7</td>\n",
              "      <td>2009</td>\n",
              "      <td>0</td>\n",
              "      <td>0</td>\n",
              "      <td>0</td>\n",
              "      <td>0</td>\n",
              "      <td>0</td>\n",
              "      <td>0</td>\n",
              "      <td>0.939454</td>\n",
              "      <td>1</td>\n",
              "      <td>1</td>\n",
              "      <td>0</td>\n",
              "      <td>0</td>\n",
              "      <td>1</td>\n",
              "      <td>0</td>\n",
              "      <td>0</td>\n",
              "      <td>0</td>\n",
              "      <td>0</td>\n",
              "      <td>0</td>\n",
              "      <td>1</td>\n",
              "      <td>0</td>\n",
              "      <td>0</td>\n",
              "      <td>0</td>\n",
              "    </tr>\n",
              "    <tr>\n",
              "      <th>20</th>\n",
              "      <td>-73.991707</td>\n",
              "      <td>40.770505</td>\n",
              "      <td>-73.985459</td>\n",
              "      <td>40.763671</td>\n",
              "      <td>1</td>\n",
              "      <td>6</td>\n",
              "      <td>18</td>\n",
              "      <td>4</td>\n",
              "      <td>8</td>\n",
              "      <td>2009</td>\n",
              "      <td>0</td>\n",
              "      <td>0</td>\n",
              "      <td>0</td>\n",
              "      <td>0</td>\n",
              "      <td>0</td>\n",
              "      <td>0</td>\n",
              "      <td>0.574331</td>\n",
              "      <td>0</td>\n",
              "      <td>0</td>\n",
              "      <td>0</td>\n",
              "      <td>0</td>\n",
              "      <td>1</td>\n",
              "      <td>0</td>\n",
              "      <td>0</td>\n",
              "      <td>0</td>\n",
              "      <td>0</td>\n",
              "      <td>0</td>\n",
              "      <td>1</td>\n",
              "      <td>0</td>\n",
              "      <td>0</td>\n",
              "      <td>0</td>\n",
              "    </tr>\n",
              "    <tr>\n",
              "      <th>...</th>\n",
              "      <td>...</td>\n",
              "      <td>...</td>\n",
              "      <td>...</td>\n",
              "      <td>...</td>\n",
              "      <td>...</td>\n",
              "      <td>...</td>\n",
              "      <td>...</td>\n",
              "      <td>...</td>\n",
              "      <td>...</td>\n",
              "      <td>...</td>\n",
              "      <td>...</td>\n",
              "      <td>...</td>\n",
              "      <td>...</td>\n",
              "      <td>...</td>\n",
              "      <td>...</td>\n",
              "      <td>...</td>\n",
              "      <td>...</td>\n",
              "      <td>...</td>\n",
              "      <td>...</td>\n",
              "      <td>...</td>\n",
              "      <td>...</td>\n",
              "      <td>...</td>\n",
              "      <td>...</td>\n",
              "      <td>...</td>\n",
              "      <td>...</td>\n",
              "      <td>...</td>\n",
              "      <td>...</td>\n",
              "      <td>...</td>\n",
              "      <td>...</td>\n",
              "      <td>...</td>\n",
              "      <td>...</td>\n",
              "    </tr>\n",
              "    <tr>\n",
              "      <th>399963</th>\n",
              "      <td>-73.992709</td>\n",
              "      <td>40.740467</td>\n",
              "      <td>-73.972586</td>\n",
              "      <td>40.754990</td>\n",
              "      <td>1</td>\n",
              "      <td>19</td>\n",
              "      <td>1</td>\n",
              "      <td>4</td>\n",
              "      <td>2</td>\n",
              "      <td>2009</td>\n",
              "      <td>0</td>\n",
              "      <td>0</td>\n",
              "      <td>0</td>\n",
              "      <td>0</td>\n",
              "      <td>0</td>\n",
              "      <td>0</td>\n",
              "      <td>1.454784</td>\n",
              "      <td>1</td>\n",
              "      <td>0</td>\n",
              "      <td>0</td>\n",
              "      <td>0</td>\n",
              "      <td>1</td>\n",
              "      <td>0</td>\n",
              "      <td>0</td>\n",
              "      <td>0</td>\n",
              "      <td>0</td>\n",
              "      <td>0</td>\n",
              "      <td>1</td>\n",
              "      <td>0</td>\n",
              "      <td>0</td>\n",
              "      <td>0</td>\n",
              "    </tr>\n",
              "    <tr>\n",
              "      <th>399986</th>\n",
              "      <td>-74.008813</td>\n",
              "      <td>40.713915</td>\n",
              "      <td>-73.979168</td>\n",
              "      <td>40.757925</td>\n",
              "      <td>1</td>\n",
              "      <td>12</td>\n",
              "      <td>9</td>\n",
              "      <td>2</td>\n",
              "      <td>5</td>\n",
              "      <td>2009</td>\n",
              "      <td>0</td>\n",
              "      <td>0</td>\n",
              "      <td>0</td>\n",
              "      <td>0</td>\n",
              "      <td>0</td>\n",
              "      <td>0</td>\n",
              "      <td>3.413977</td>\n",
              "      <td>1</td>\n",
              "      <td>0</td>\n",
              "      <td>0</td>\n",
              "      <td>0</td>\n",
              "      <td>1</td>\n",
              "      <td>0</td>\n",
              "      <td>0</td>\n",
              "      <td>0</td>\n",
              "      <td>0</td>\n",
              "      <td>0</td>\n",
              "      <td>1</td>\n",
              "      <td>0</td>\n",
              "      <td>0</td>\n",
              "      <td>0</td>\n",
              "    </tr>\n",
              "    <tr>\n",
              "      <th>399989</th>\n",
              "      <td>-73.983200</td>\n",
              "      <td>40.722297</td>\n",
              "      <td>-73.982277</td>\n",
              "      <td>40.735242</td>\n",
              "      <td>1</td>\n",
              "      <td>17</td>\n",
              "      <td>22</td>\n",
              "      <td>2</td>\n",
              "      <td>3</td>\n",
              "      <td>2009</td>\n",
              "      <td>0</td>\n",
              "      <td>0</td>\n",
              "      <td>0</td>\n",
              "      <td>0</td>\n",
              "      <td>0</td>\n",
              "      <td>0</td>\n",
              "      <td>0.895718</td>\n",
              "      <td>1</td>\n",
              "      <td>1</td>\n",
              "      <td>0</td>\n",
              "      <td>0</td>\n",
              "      <td>1</td>\n",
              "      <td>0</td>\n",
              "      <td>0</td>\n",
              "      <td>0</td>\n",
              "      <td>0</td>\n",
              "      <td>0</td>\n",
              "      <td>1</td>\n",
              "      <td>0</td>\n",
              "      <td>0</td>\n",
              "      <td>0</td>\n",
              "    </tr>\n",
              "    <tr>\n",
              "      <th>399994</th>\n",
              "      <td>-73.951399</td>\n",
              "      <td>40.770201</td>\n",
              "      <td>-73.973983</td>\n",
              "      <td>40.763075</td>\n",
              "      <td>1</td>\n",
              "      <td>2</td>\n",
              "      <td>11</td>\n",
              "      <td>4</td>\n",
              "      <td>7</td>\n",
              "      <td>2009</td>\n",
              "      <td>0</td>\n",
              "      <td>0</td>\n",
              "      <td>0</td>\n",
              "      <td>0</td>\n",
              "      <td>0</td>\n",
              "      <td>0</td>\n",
              "      <td>1.280272</td>\n",
              "      <td>0</td>\n",
              "      <td>0</td>\n",
              "      <td>0</td>\n",
              "      <td>0</td>\n",
              "      <td>1</td>\n",
              "      <td>0</td>\n",
              "      <td>0</td>\n",
              "      <td>0</td>\n",
              "      <td>0</td>\n",
              "      <td>0</td>\n",
              "      <td>1</td>\n",
              "      <td>0</td>\n",
              "      <td>0</td>\n",
              "      <td>0</td>\n",
              "    </tr>\n",
              "    <tr>\n",
              "      <th>399999</th>\n",
              "      <td>-73.969164</td>\n",
              "      <td>40.763518</td>\n",
              "      <td>-73.956014</td>\n",
              "      <td>40.781614</td>\n",
              "      <td>2</td>\n",
              "      <td>8</td>\n",
              "      <td>11</td>\n",
              "      <td>4</td>\n",
              "      <td>10</td>\n",
              "      <td>2009</td>\n",
              "      <td>0</td>\n",
              "      <td>0</td>\n",
              "      <td>0</td>\n",
              "      <td>0</td>\n",
              "      <td>0</td>\n",
              "      <td>0</td>\n",
              "      <td>1.427139</td>\n",
              "      <td>0</td>\n",
              "      <td>0</td>\n",
              "      <td>0</td>\n",
              "      <td>0</td>\n",
              "      <td>1</td>\n",
              "      <td>0</td>\n",
              "      <td>0</td>\n",
              "      <td>0</td>\n",
              "      <td>0</td>\n",
              "      <td>0</td>\n",
              "      <td>1</td>\n",
              "      <td>0</td>\n",
              "      <td>0</td>\n",
              "      <td>0</td>\n",
              "    </tr>\n",
              "  </tbody>\n",
              "</table>\n",
              "<p>62037 rows × 31 columns</p>\n",
              "</div>"
            ],
            "text/plain": [
              "        pickup_longitude  ...  dropoff_borough_staten_island\n",
              "0             -73.844311  ...                              0\n",
              "9             -73.980658  ...                              0\n",
              "11            -73.991601  ...                              0\n",
              "15            -73.981060  ...                              0\n",
              "20            -73.991707  ...                              0\n",
              "...                  ...  ...                            ...\n",
              "399963        -73.992709  ...                              0\n",
              "399986        -74.008813  ...                              0\n",
              "399989        -73.983200  ...                              0\n",
              "399994        -73.951399  ...                              0\n",
              "399999        -73.969164  ...                              0\n",
              "\n",
              "[62037 rows x 31 columns]"
            ]
          },
          "metadata": {
            "tags": []
          },
          "execution_count": 7
        }
      ]
    },
    {
      "cell_type": "code",
      "metadata": {
        "id": "sLyd-0zhfdqS",
        "colab_type": "code",
        "colab": {}
      },
      "source": [
        "#X_test = Years.get_group(2015)\n",
        "#X_train = X.drop(Years.get_group(2015).index)\n",
        "X_train=X[X['pickup_year']<2015]\n",
        "y_train=y[X['pickup_year']<2015]\n",
        "X_test=X[X['pickup_year']==2015]\n",
        "y_test=y[X['pickup_year']==2015]"
      ],
      "execution_count": 0,
      "outputs": []
    },
    {
      "cell_type": "code",
      "metadata": {
        "id": "_j33M92PasDO",
        "colab_type": "code",
        "colab": {}
      },
      "source": [
        "#y_grouped = y.groupby(X['pickup_year'])\n",
        "#y_test = y_grouped.get_group(2015)\n",
        "#y_train = y.drop(y_grouped.get_group(2015).index)"
      ],
      "execution_count": 0,
      "outputs": []
    },
    {
      "cell_type": "code",
      "metadata": {
        "id": "h6-g0fuxgbk7",
        "colab_type": "code",
        "colab": {}
      },
      "source": [
        ""
      ],
      "execution_count": 0,
      "outputs": []
    },
    {
      "cell_type": "code",
      "metadata": {
        "id": "iFRqSrvcU0UN",
        "colab_type": "code",
        "colab": {}
      },
      "source": [
        "#print(X_train.shape())"
      ],
      "execution_count": 0,
      "outputs": []
    },
    {
      "cell_type": "markdown",
      "metadata": {
        "id": "zdWBku-7ZWSU",
        "colab_type": "text"
      },
      "source": [
        "### E 2.2 Train a Random Forest Regression Model\n",
        "* train model using [RF regression](https://scikit-learn.org/stable/modules/generated/sklearn.ensemble.RandomForestRegressor.html#sklearn.ensemble.RandomForestRegressor)\n",
        "* optimize the model parameters (#trees, depth, vars per split, ...) and evaluate the [MSE](https://scikit-learn.org/stable/modules/generated/sklearn.metrics.mean_squared_error.html#sklearn.metrics.mean_squared_error) on train and test data\n",
        "* Analyze the model error: are there typical settings where the model fails?"
      ]
    },
    {
      "cell_type": "code",
      "metadata": {
        "id": "fXur8t9igDN4",
        "colab_type": "code",
        "colab": {}
      },
      "source": [
        "from sklearn.ensemble import RandomForestRegressor\n",
        "from sklearn.datasets import make_regression"
      ],
      "execution_count": 0,
      "outputs": []
    },
    {
      "cell_type": "code",
      "metadata": {
        "id": "8NSQfZssgQwe",
        "colab_type": "code",
        "colab": {}
      },
      "source": [
        "X_train, y_train = make_regression(n_features=31, n_informative=2, random_state=0, shuffle=False)"
      ],
      "execution_count": 0,
      "outputs": []
    },
    {
      "cell_type": "code",
      "metadata": {
        "id": "4wlJ-yRIg6XS",
        "colab_type": "code",
        "colab": {}
      },
      "source": [
        "regr = RandomForestRegressor(n_jobs=5, n_estimators=20)"
      ],
      "execution_count": 0,
      "outputs": []
    },
    {
      "cell_type": "code",
      "metadata": {
        "id": "W7AJsPLqg_jH",
        "colab_type": "code",
        "outputId": "2e35eb07-8c85-49ad-b751-042079c6fa90",
        "colab": {
          "base_uri": "https://localhost:8080/",
          "height": 148
        }
      },
      "source": [
        "regr.fit(X_train, y_train)"
      ],
      "execution_count": 68,
      "outputs": [
        {
          "output_type": "execute_result",
          "data": {
            "text/plain": [
              "RandomForestRegressor(bootstrap=True, ccp_alpha=0.0, criterion='mse',\n",
              "                      max_depth=None, max_features='auto', max_leaf_nodes=None,\n",
              "                      max_samples=None, min_impurity_decrease=0.0,\n",
              "                      min_impurity_split=None, min_samples_leaf=1,\n",
              "                      min_samples_split=2, min_weight_fraction_leaf=0.0,\n",
              "                      n_estimators=20, n_jobs=5, oob_score=False,\n",
              "                      random_state=None, verbose=0, warm_start=False)"
            ]
          },
          "metadata": {
            "tags": []
          },
          "execution_count": 68
        }
      ]
    },
    {
      "cell_type": "code",
      "metadata": {
        "id": "4xyLxG9whF8u",
        "colab_type": "code",
        "colab": {
          "base_uri": "https://localhost:8080/",
          "height": 36
        },
        "outputId": "c5a66396-22d5-4035-a8ca-b90af855bcd1"
      },
      "source": [
        "from sklearn.metrics import mean_squared_error\n",
        "pred = regr.predict(X_test)\n",
        "mean_squared_error(y_test, pred)"
      ],
      "execution_count": 69,
      "outputs": [
        {
          "output_type": "execute_result",
          "data": {
            "text/plain": [
              "13666.271894362579"
            ]
          },
          "metadata": {
            "tags": []
          },
          "execution_count": 69
        }
      ]
    },
    {
      "cell_type": "code",
      "metadata": {
        "id": "_feJiSRnV_zY",
        "colab_type": "code",
        "colab": {}
      },
      "source": [
        "dif = np.abs(y_test - pred)"
      ],
      "execution_count": 0,
      "outputs": []
    },
    {
      "cell_type": "code",
      "metadata": {
        "id": "nooZpNNhWFh4",
        "colab_type": "code",
        "colab": {
          "base_uri": "https://localhost:8080/",
          "height": 1000
        },
        "outputId": "8267f105-3f0b-4584-d888-101e5df24873"
      },
      "source": [
        "import matplotlib.pyplot as plt\n",
        "plt.hist(dif, bins=100)"
      ],
      "execution_count": 74,
      "outputs": [
        {
          "output_type": "execute_result",
          "data": {
            "text/plain": [
              "(array([4.000e+00, 3.000e+00, 0.000e+00, 1.000e+00, 1.000e+00, 2.000e+00,\n",
              "        3.000e+00, 2.000e+00, 5.000e+00, 2.000e+00, 4.000e+00, 6.000e+00,\n",
              "        5.000e+00, 7.000e+00, 1.000e+01, 5.000e+00, 4.000e+00, 8.000e+00,\n",
              "        6.000e+00, 7.000e+00, 8.000e+00, 1.000e+01, 3.930e+02, 4.300e+01,\n",
              "        1.500e+02, 9.000e+01, 1.130e+02, 1.820e+02, 2.540e+02, 3.420e+02,\n",
              "        3.670e+02, 3.580e+02, 5.910e+02, 8.630e+02, 1.645e+03, 2.323e+03,\n",
              "        3.933e+03, 7.013e+03, 6.993e+03, 2.121e+03, 1.200e+01, 0.000e+00,\n",
              "        0.000e+00, 0.000e+00, 0.000e+00, 0.000e+00, 0.000e+00, 0.000e+00,\n",
              "        0.000e+00, 0.000e+00, 0.000e+00, 0.000e+00, 0.000e+00, 0.000e+00,\n",
              "        0.000e+00, 0.000e+00, 0.000e+00, 0.000e+00, 0.000e+00, 0.000e+00,\n",
              "        0.000e+00, 0.000e+00, 0.000e+00, 0.000e+00, 0.000e+00, 0.000e+00,\n",
              "        0.000e+00, 0.000e+00, 0.000e+00, 0.000e+00, 0.000e+00, 0.000e+00,\n",
              "        0.000e+00, 0.000e+00, 0.000e+00, 0.000e+00, 0.000e+00, 0.000e+00,\n",
              "        0.000e+00, 0.000e+00, 0.000e+00, 0.000e+00, 0.000e+00, 0.000e+00,\n",
              "        0.000e+00, 0.000e+00, 0.000e+00, 0.000e+00, 0.000e+00, 0.000e+00,\n",
              "        0.000e+00, 0.000e+00, 0.000e+00, 0.000e+00, 0.000e+00, 0.000e+00,\n",
              "        0.000e+00, 0.000e+00, 0.000e+00, 1.000e+00]),\n",
              " array([2.91498212e-01, 3.48909715e+00, 6.68669609e+00, 9.88429502e+00,\n",
              "        1.30818940e+01, 1.62794929e+01, 1.94770918e+01, 2.26746908e+01,\n",
              "        2.58722897e+01, 2.90698886e+01, 3.22674876e+01, 3.54650865e+01,\n",
              "        3.86626855e+01, 4.18602844e+01, 4.50578833e+01, 4.82554823e+01,\n",
              "        5.14530812e+01, 5.46506801e+01, 5.78482791e+01, 6.10458780e+01,\n",
              "        6.42434770e+01, 6.74410759e+01, 7.06386748e+01, 7.38362738e+01,\n",
              "        7.70338727e+01, 8.02314716e+01, 8.34290706e+01, 8.66266695e+01,\n",
              "        8.98242684e+01, 9.30218674e+01, 9.62194663e+01, 9.94170653e+01,\n",
              "        1.02614664e+02, 1.05812263e+02, 1.09009862e+02, 1.12207461e+02,\n",
              "        1.15405060e+02, 1.18602659e+02, 1.21800258e+02, 1.24997857e+02,\n",
              "        1.28195456e+02, 1.31393055e+02, 1.34590654e+02, 1.37788253e+02,\n",
              "        1.40985851e+02, 1.44183450e+02, 1.47381049e+02, 1.50578648e+02,\n",
              "        1.53776247e+02, 1.56973846e+02, 1.60171445e+02, 1.63369044e+02,\n",
              "        1.66566643e+02, 1.69764242e+02, 1.72961841e+02, 1.76159440e+02,\n",
              "        1.79357039e+02, 1.82554638e+02, 1.85752237e+02, 1.88949835e+02,\n",
              "        1.92147434e+02, 1.95345033e+02, 1.98542632e+02, 2.01740231e+02,\n",
              "        2.04937830e+02, 2.08135429e+02, 2.11333028e+02, 2.14530627e+02,\n",
              "        2.17728226e+02, 2.20925825e+02, 2.24123424e+02, 2.27321023e+02,\n",
              "        2.30518622e+02, 2.33716221e+02, 2.36913820e+02, 2.40111418e+02,\n",
              "        2.43309017e+02, 2.46506616e+02, 2.49704215e+02, 2.52901814e+02,\n",
              "        2.56099413e+02, 2.59297012e+02, 2.62494611e+02, 2.65692210e+02,\n",
              "        2.68889809e+02, 2.72087408e+02, 2.75285007e+02, 2.78482606e+02,\n",
              "        2.81680205e+02, 2.84877804e+02, 2.88075403e+02, 2.91273001e+02,\n",
              "        2.94470600e+02, 2.97668199e+02, 3.00865798e+02, 3.04063397e+02,\n",
              "        3.07260996e+02, 3.10458595e+02, 3.13656194e+02, 3.16853793e+02,\n",
              "        3.20051392e+02]),\n",
              " <a list of 100 Patch objects>)"
            ]
          },
          "metadata": {
            "tags": []
          },
          "execution_count": 74
        },
        {
          "output_type": "display_data",
          "data": {
            "image/png": "[encoded data removed]",
            "text/plain": [
              "<Figure size 432x288 with 1 Axes>"
            ]
          },
          "metadata": {
            "tags": [],
            "needs_background": "light"
          }
        }
      ]
    },
    {
      "cell_type": "code",
      "metadata": {
        "id": "LeciyYa4WHui",
        "colab_type": "code",
        "colab": {}
      },
      "source": [
        "dif_kleiner = dif[dif<150]"
      ],
      "execution_count": 0,
      "outputs": []
    },
    {
      "cell_type": "code",
      "metadata": {
        "id": "Fs_hzXZ4h-g_",
        "colab_type": "code",
        "colab": {
          "base_uri": "https://localhost:8080/",
          "height": 1000
        },
        "outputId": "27435cf0-92fe-4e35-ed7b-98da4082f117"
      },
      "source": [
        "plt.hist(dif_kleiner, bins=100)"
      ],
      "execution_count": 85,
      "outputs": [
        {
          "output_type": "execute_result",
          "data": {
            "text/plain": [
              "(array([3.000e+00, 0.000e+00, 3.000e+00, 1.000e+00, 0.000e+00, 0.000e+00,\n",
              "        0.000e+00, 0.000e+00, 0.000e+00, 1.000e+00, 0.000e+00, 1.000e+00,\n",
              "        1.000e+00, 1.000e+00, 2.000e+00, 1.000e+00, 0.000e+00, 1.000e+00,\n",
              "        0.000e+00, 1.000e+00, 3.000e+00, 2.000e+00, 0.000e+00, 1.000e+00,\n",
              "        2.000e+00, 1.000e+00, 2.000e+00, 2.000e+00, 3.000e+00, 2.000e+00,\n",
              "        2.000e+00, 2.000e+00, 3.000e+00, 3.000e+00, 5.000e+00, 3.000e+00,\n",
              "        4.000e+00, 2.000e+00, 2.000e+00, 1.000e+00, 2.000e+00, 1.000e+00,\n",
              "        1.000e+00, 3.000e+00, 5.000e+00, 2.000e+00, 4.000e+00, 2.000e+00,\n",
              "        3.000e+00, 4.000e+00, 2.000e+00, 5.000e+00, 2.000e+00, 6.000e+00,\n",
              "        6.800e+01, 3.210e+02, 9.000e+00, 1.800e+01, 2.000e+01, 1.080e+02,\n",
              "        1.700e+01, 4.400e+01, 3.000e+01, 4.100e+01, 4.300e+01, 4.600e+01,\n",
              "        6.200e+01, 7.600e+01, 7.500e+01, 1.140e+02, 9.200e+01, 1.240e+02,\n",
              "        1.500e+02, 1.210e+02, 1.460e+02, 1.560e+02, 1.510e+02, 1.710e+02,\n",
              "        1.530e+02, 2.360e+02, 1.910e+02, 3.450e+02, 4.240e+02, 3.760e+02,\n",
              "        6.710e+02, 5.150e+02, 9.550e+02, 1.189e+03, 9.880e+02, 1.851e+03,\n",
              "        1.550e+03, 2.564e+03, 3.291e+03, 2.281e+03, 2.809e+03, 3.065e+03,\n",
              "        1.668e+03, 4.340e+02, 1.900e+01, 8.000e+00]),\n",
              " array([  0.29149821,   1.59097321,   2.89044822,   4.18992322,\n",
              "          5.48939822,   6.78887322,   8.08834823,   9.38782323,\n",
              "         10.68729823,  11.98677323,  13.28624823,  14.58572324,\n",
              "         15.88519824,  17.18467324,  18.48414824,  19.78362324,\n",
              "         21.08309825,  22.38257325,  23.68204825,  24.98152325,\n",
              "         26.28099826,  27.58047326,  28.87994826,  30.17942326,\n",
              "         31.47889826,  32.77837327,  34.07784827,  35.37732327,\n",
              "         36.67679827,  37.97627327,  39.27574828,  40.57522328,\n",
              "         41.87469828,  43.17417328,  44.47364829,  45.77312329,\n",
              "         47.07259829,  48.37207329,  49.67154829,  50.9710233 ,\n",
              "         52.2704983 ,  53.5699733 ,  54.8694483 ,  56.1689233 ,\n",
              "         57.46839831,  58.76787331,  60.06734831,  61.36682331,\n",
              "         62.66629832,  63.96577332,  65.26524832,  66.56472332,\n",
              "         67.86419832,  69.16367333,  70.46314833,  71.76262333,\n",
              "         73.06209833,  74.36157334,  75.66104834,  76.96052334,\n",
              "         78.25999834,  79.55947334,  80.85894835,  82.15842335,\n",
              "         83.45789835,  84.75737335,  86.05684835,  87.35632336,\n",
              "         88.65579836,  89.95527336,  91.25474836,  92.55422337,\n",
              "         93.85369837,  95.15317337,  96.45264837,  97.75212337,\n",
              "         99.05159838, 100.35107338, 101.65054838, 102.95002338,\n",
              "        104.24949838, 105.54897339, 106.84844839, 108.14792339,\n",
              "        109.44739839, 110.7468734 , 112.0463484 , 113.3458234 ,\n",
              "        114.6452984 , 115.9447734 , 117.24424841, 118.54372341,\n",
              "        119.84319841, 121.14267341, 122.44214841, 123.74162342,\n",
              "        125.04109842, 126.34057342, 127.64004842, 128.93952343,\n",
              "        130.23899843]),\n",
              " <a list of 100 Patch objects>)"
            ]
          },
          "metadata": {
            "tags": []
          },
          "execution_count": 85
        },
        {
          "output_type": "display_data",
          "data": {
            "image/png": "[encoded data removed]",
            "text/plain": [
              "<Figure size 432x288 with 1 Axes>"
            ]
          },
          "metadata": {
            "tags": [],
            "needs_background": "light"
          }
        }
      ]
    },
    {
      "cell_type": "code",
      "metadata": {
        "id": "r2yWB8hVWNnI",
        "colab_type": "code",
        "colab": {
          "base_uri": "https://localhost:8080/",
          "height": 36
        },
        "outputId": "48a64b93-00fc-4862-d1ec-8d2437c1dba8"
      },
      "source": [
        "np.median(dif)"
      ],
      "execution_count": 86,
      "outputs": [
        {
          "output_type": "execute_result",
          "data": {
            "text/plain": [
              "119.61935667774156"
            ]
          },
          "metadata": {
            "tags": []
          },
          "execution_count": 86
        }
      ]
    },
    {
      "cell_type": "code",
      "metadata": {
        "id": "yzHEr11MWnWS",
        "colab_type": "code",
        "colab": {}
      },
      "source": [
        ""
      ],
      "execution_count": 0,
      "outputs": []
    },
    {
      "cell_type": "code",
      "metadata": {
        "id": "AyBml59HXnqg",
        "colab_type": "code",
        "colab": {}
      },
      "source": [
        ""
      ],
      "execution_count": 0,
      "outputs": []
    }
  ]
}