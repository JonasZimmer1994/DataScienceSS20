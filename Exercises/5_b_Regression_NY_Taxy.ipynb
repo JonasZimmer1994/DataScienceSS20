{
  "nbformat": 4,
  "nbformat_minor": 0,
  "metadata": {
    "kernelspec": {
      "display_name": "Python 3",
      "language": "python",
      "name": "python3"
    },
    "language_info": {
      "codemirror_mode": {
        "name": "ipython",
        "version": 3
      },
      "file_extension": ".py",
      "mimetype": "text/x-python",
      "name": "python",
      "nbconvert_exporter": "python",
      "pygments_lexer": "ipython3",
      "version": "3.7.6"
    },
    "colab": {
      "name": "5_b_Regression_NY_Taxy.ipynb",
      "provenance": []
    }
  },
  "cells": [
    {
      "cell_type": "markdown",
      "metadata": {
        "id": "CIsJ3kZBZWRq",
        "colab_type": "text"
      },
      "source": [
        "# Block 5 Exercise 2: Predicting the fare of taxi rides\n",
        "Using the NY Taxi data set (see Use Case Block I) and the use case from the lecture..."
      ]
    },
    {
      "cell_type": "code",
      "metadata": {
        "id": "pwesqiL6ZWRr",
        "colab_type": "code",
        "colab": {}
      },
      "source": [
        "import pandas as pd\n",
        "import numpy as np\n",
        "import folium\n"
      ],
      "execution_count": 0,
      "outputs": []
    },
    {
      "cell_type": "code",
      "metadata": {
        "id": "XwfXJHOVZWRz",
        "colab_type": "code",
        "outputId": "e912301a-0cd3-4741-f90b-d7ba66822fa9",
        "colab": {
          "base_uri": "https://localhost:8080/",
          "height": 185
        }
      },
      "source": [
        "#check if notebook runs in colab\n",
        "import sys\n",
        "IN_COLAB = 'google.colab' in sys.modules\n",
        "print('running in Colab:',IN_COLAB)\n",
        "path='..'\n",
        "if IN_COLAB:\n",
        "  #in colab, we need to clone the data from the repo\n",
        "  !git clone https://github.com/JonasZimmer1994/DataScienceSS20.git\n",
        "  path='DataScienceSS20'"
      ],
      "execution_count": 3,
      "outputs": [
        {
          "output_type": "stream",
          "text": [
            "running in Colab: True\n",
            "Cloning into 'DataScienceSS20'...\n",
            "remote: Enumerating objects: 32, done.\u001b[K\n",
            "remote: Counting objects: 100% (32/32), done.\u001b[K\n",
            "remote: Compressing objects: 100% (32/32), done.\u001b[K\n",
            "remote: Total 877 (delta 20), reused 0 (delta 0), pack-reused 845\u001b[K\n",
            "Receiving objects: 100% (877/877), 125.10 MiB | 23.19 MiB/s, done.\n",
            "Resolving deltas: 100% (449/449), done.\n",
            "Checking out files: 100% (211/211), done.\n"
          ],
          "name": "stdout"
        }
      ]
    },
    {
      "cell_type": "code",
      "metadata": {
        "id": "t80QeVHgZWR-",
        "colab_type": "code",
        "colab": {}
      },
      "source": [
        "# we load the data we have saved after wrangling and pre-processing in block I\n",
        "X=pd.read_csv(path+'/DATA/train_cleaned.csv')\n",
        "drop_columns=['Unnamed: 0','Unnamed: 0.1','Unnamed: 0.1.1','key','pickup_datetime','pickup_date','pickup_latitude_round3','pickup_longitude_round3','dropoff_latitude_round3','dropoff_longitude_round3']\n",
        "X=X.drop(drop_columns,axis=1)\n",
        "X=pd.get_dummies(X)# one hot coding\n",
        "#generate labels\n",
        "y=X['fare_amount']\n",
        "X=X.drop(['fare_amount'],axis=1)"
      ],
      "execution_count": 0,
      "outputs": []
    },
    {
      "cell_type": "code",
      "metadata": {
        "id": "b5xFZAQFZWSD",
        "colab_type": "code",
        "outputId": "8eb9ec69-48a8-4658-ecb7-0004504b2faf",
        "colab": {
          "base_uri": "https://localhost:8080/",
          "height": 226
        }
      },
      "source": [
        "# a quick look at the data\n",
        "X.head()"
      ],
      "execution_count": 5,
      "outputs": [
        {
          "output_type": "execute_result",
          "data": {
            "text/html": [
              "<div>\n",
              "<style scoped>\n",
              "    .dataframe tbody tr th:only-of-type {\n",
              "        vertical-align: middle;\n",
              "    }\n",
              "\n",
              "    .dataframe tbody tr th {\n",
              "        vertical-align: top;\n",
              "    }\n",
              "\n",
              "    .dataframe thead th {\n",
              "        text-align: right;\n",
              "    }\n",
              "</style>\n",
              "<table border=\"1\" class=\"dataframe\">\n",
              "  <thead>\n",
              "    <tr style=\"text-align: right;\">\n",
              "      <th></th>\n",
              "      <th>pickup_longitude</th>\n",
              "      <th>pickup_latitude</th>\n",
              "      <th>dropoff_longitude</th>\n",
              "      <th>dropoff_latitude</th>\n",
              "      <th>passenger_count</th>\n",
              "      <th>pickup_day</th>\n",
              "      <th>pickup_hour</th>\n",
              "      <th>pickup_day_of_week</th>\n",
              "      <th>pickup_month</th>\n",
              "      <th>pickup_year</th>\n",
              "      <th>is_pickup_JFK</th>\n",
              "      <th>is_dropoff_JFK</th>\n",
              "      <th>is_pickup_EWR</th>\n",
              "      <th>is_dropoff_EWR</th>\n",
              "      <th>is_pickup_la_guardia</th>\n",
              "      <th>is_dropoff_la_guardia</th>\n",
              "      <th>trip_distance</th>\n",
              "      <th>is_pickup_lower_manhattan</th>\n",
              "      <th>is_dropoff_lower_manhattan</th>\n",
              "      <th>pickup_borough_bronx</th>\n",
              "      <th>pickup_borough_brooklyn</th>\n",
              "      <th>pickup_borough_manhattan</th>\n",
              "      <th>pickup_borough_others</th>\n",
              "      <th>pickup_borough_queens</th>\n",
              "      <th>pickup_borough_staten_island</th>\n",
              "      <th>dropoff_borough_bronx</th>\n",
              "      <th>dropoff_borough_brooklyn</th>\n",
              "      <th>dropoff_borough_manhattan</th>\n",
              "      <th>dropoff_borough_others</th>\n",
              "      <th>dropoff_borough_queens</th>\n",
              "      <th>dropoff_borough_staten_island</th>\n",
              "    </tr>\n",
              "  </thead>\n",
              "  <tbody>\n",
              "    <tr>\n",
              "      <th>0</th>\n",
              "      <td>-73.844311</td>\n",
              "      <td>40.721319</td>\n",
              "      <td>-73.841610</td>\n",
              "      <td>40.712278</td>\n",
              "      <td>1</td>\n",
              "      <td>15</td>\n",
              "      <td>17</td>\n",
              "      <td>1</td>\n",
              "      <td>6</td>\n",
              "      <td>2009</td>\n",
              "      <td>0</td>\n",
              "      <td>0</td>\n",
              "      <td>0</td>\n",
              "      <td>0</td>\n",
              "      <td>0</td>\n",
              "      <td>0</td>\n",
              "      <td>0.640487</td>\n",
              "      <td>0</td>\n",
              "      <td>0</td>\n",
              "      <td>0</td>\n",
              "      <td>0</td>\n",
              "      <td>0</td>\n",
              "      <td>0</td>\n",
              "      <td>1</td>\n",
              "      <td>0</td>\n",
              "      <td>0</td>\n",
              "      <td>0</td>\n",
              "      <td>0</td>\n",
              "      <td>0</td>\n",
              "      <td>1</td>\n",
              "      <td>0</td>\n",
              "    </tr>\n",
              "    <tr>\n",
              "      <th>1</th>\n",
              "      <td>-74.016048</td>\n",
              "      <td>40.711303</td>\n",
              "      <td>-73.979268</td>\n",
              "      <td>40.782004</td>\n",
              "      <td>1</td>\n",
              "      <td>5</td>\n",
              "      <td>16</td>\n",
              "      <td>2</td>\n",
              "      <td>1</td>\n",
              "      <td>2010</td>\n",
              "      <td>0</td>\n",
              "      <td>0</td>\n",
              "      <td>0</td>\n",
              "      <td>0</td>\n",
              "      <td>0</td>\n",
              "      <td>0</td>\n",
              "      <td>5.250670</td>\n",
              "      <td>1</td>\n",
              "      <td>0</td>\n",
              "      <td>0</td>\n",
              "      <td>0</td>\n",
              "      <td>1</td>\n",
              "      <td>0</td>\n",
              "      <td>0</td>\n",
              "      <td>0</td>\n",
              "      <td>0</td>\n",
              "      <td>0</td>\n",
              "      <td>1</td>\n",
              "      <td>0</td>\n",
              "      <td>0</td>\n",
              "      <td>0</td>\n",
              "    </tr>\n",
              "    <tr>\n",
              "      <th>2</th>\n",
              "      <td>-73.982738</td>\n",
              "      <td>40.761270</td>\n",
              "      <td>-73.991242</td>\n",
              "      <td>40.750562</td>\n",
              "      <td>2</td>\n",
              "      <td>18</td>\n",
              "      <td>0</td>\n",
              "      <td>4</td>\n",
              "      <td>8</td>\n",
              "      <td>2011</td>\n",
              "      <td>0</td>\n",
              "      <td>0</td>\n",
              "      <td>0</td>\n",
              "      <td>0</td>\n",
              "      <td>0</td>\n",
              "      <td>0</td>\n",
              "      <td>0.863411</td>\n",
              "      <td>0</td>\n",
              "      <td>0</td>\n",
              "      <td>0</td>\n",
              "      <td>0</td>\n",
              "      <td>1</td>\n",
              "      <td>0</td>\n",
              "      <td>0</td>\n",
              "      <td>0</td>\n",
              "      <td>0</td>\n",
              "      <td>0</td>\n",
              "      <td>1</td>\n",
              "      <td>0</td>\n",
              "      <td>0</td>\n",
              "      <td>0</td>\n",
              "    </tr>\n",
              "    <tr>\n",
              "      <th>3</th>\n",
              "      <td>-73.987130</td>\n",
              "      <td>40.733143</td>\n",
              "      <td>-73.991567</td>\n",
              "      <td>40.758092</td>\n",
              "      <td>1</td>\n",
              "      <td>21</td>\n",
              "      <td>4</td>\n",
              "      <td>6</td>\n",
              "      <td>4</td>\n",
              "      <td>2012</td>\n",
              "      <td>0</td>\n",
              "      <td>0</td>\n",
              "      <td>0</td>\n",
              "      <td>0</td>\n",
              "      <td>0</td>\n",
              "      <td>0</td>\n",
              "      <td>1.739386</td>\n",
              "      <td>1</td>\n",
              "      <td>0</td>\n",
              "      <td>0</td>\n",
              "      <td>0</td>\n",
              "      <td>1</td>\n",
              "      <td>0</td>\n",
              "      <td>0</td>\n",
              "      <td>0</td>\n",
              "      <td>0</td>\n",
              "      <td>0</td>\n",
              "      <td>1</td>\n",
              "      <td>0</td>\n",
              "      <td>0</td>\n",
              "      <td>0</td>\n",
              "    </tr>\n",
              "    <tr>\n",
              "      <th>4</th>\n",
              "      <td>-73.968095</td>\n",
              "      <td>40.768008</td>\n",
              "      <td>-73.956655</td>\n",
              "      <td>40.783762</td>\n",
              "      <td>1</td>\n",
              "      <td>9</td>\n",
              "      <td>7</td>\n",
              "      <td>2</td>\n",
              "      <td>3</td>\n",
              "      <td>2010</td>\n",
              "      <td>0</td>\n",
              "      <td>0</td>\n",
              "      <td>0</td>\n",
              "      <td>0</td>\n",
              "      <td>0</td>\n",
              "      <td>0</td>\n",
              "      <td>1.242218</td>\n",
              "      <td>0</td>\n",
              "      <td>0</td>\n",
              "      <td>0</td>\n",
              "      <td>0</td>\n",
              "      <td>1</td>\n",
              "      <td>0</td>\n",
              "      <td>0</td>\n",
              "      <td>0</td>\n",
              "      <td>0</td>\n",
              "      <td>0</td>\n",
              "      <td>1</td>\n",
              "      <td>0</td>\n",
              "      <td>0</td>\n",
              "      <td>0</td>\n",
              "    </tr>\n",
              "  </tbody>\n",
              "</table>\n",
              "</div>"
            ],
            "text/plain": [
              "   pickup_longitude  ...  dropoff_borough_staten_island\n",
              "0        -73.844311  ...                              0\n",
              "1        -74.016048  ...                              0\n",
              "2        -73.982738  ...                              0\n",
              "3        -73.987130  ...                              0\n",
              "4        -73.968095  ...                              0\n",
              "\n",
              "[5 rows x 31 columns]"
            ]
          },
          "metadata": {
            "tags": []
          },
          "execution_count": 5
        }
      ]
    },
    {
      "cell_type": "code",
      "metadata": {
        "id": "VptG21l3ZWSP",
        "colab_type": "code",
        "outputId": "edb8b8cd-0119-43f9-fda0-5ef8974affca",
        "colab": {
          "base_uri": "https://localhost:8080/",
          "height": 129
        }
      },
      "source": [
        "y.head()"
      ],
      "execution_count": 6,
      "outputs": [
        {
          "output_type": "execute_result",
          "data": {
            "text/plain": [
              "0     4.5\n",
              "1    16.9\n",
              "2     5.7\n",
              "3     7.7\n",
              "4     5.3\n",
              "Name: fare_amount, dtype: float64"
            ]
          },
          "metadata": {
            "tags": []
          },
          "execution_count": 6
        }
      ]
    },
    {
      "cell_type": "markdown",
      "metadata": {
        "id": "zHzHKPphZWST",
        "colab_type": "text"
      },
      "source": [
        "### E 2.1 Split data into train and test data\n",
        "* use data from 2009-2014 for training and 2015 for evaluation\n"
      ]
    },
    {
      "cell_type": "code",
      "metadata": {
        "id": "CYZPihYgZ3OM",
        "colab_type": "code",
        "outputId": "b9cbdb35-9431-41c2-983e-8df8500ecf01",
        "colab": {
          "base_uri": "https://localhost:8080/",
          "height": 443
        }
      },
      "source": [
        "Years = X.groupby(X['pickup_year'])\n",
        "Years.get_group(2009)"
      ],
      "execution_count": 7,
      "outputs": [
        {
          "output_type": "execute_result",
          "data": {
            "text/html": [
              "<div>\n",
              "<style scoped>\n",
              "    .dataframe tbody tr th:only-of-type {\n",
              "        vertical-align: middle;\n",
              "    }\n",
              "\n",
              "    .dataframe tbody tr th {\n",
              "        vertical-align: top;\n",
              "    }\n",
              "\n",
              "    .dataframe thead th {\n",
              "        text-align: right;\n",
              "    }\n",
              "</style>\n",
              "<table border=\"1\" class=\"dataframe\">\n",
              "  <thead>\n",
              "    <tr style=\"text-align: right;\">\n",
              "      <th></th>\n",
              "      <th>pickup_longitude</th>\n",
              "      <th>pickup_latitude</th>\n",
              "      <th>dropoff_longitude</th>\n",
              "      <th>dropoff_latitude</th>\n",
              "      <th>passenger_count</th>\n",
              "      <th>pickup_day</th>\n",
              "      <th>pickup_hour</th>\n",
              "      <th>pickup_day_of_week</th>\n",
              "      <th>pickup_month</th>\n",
              "      <th>pickup_year</th>\n",
              "      <th>is_pickup_JFK</th>\n",
              "      <th>is_dropoff_JFK</th>\n",
              "      <th>is_pickup_EWR</th>\n",
              "      <th>is_dropoff_EWR</th>\n",
              "      <th>is_pickup_la_guardia</th>\n",
              "      <th>is_dropoff_la_guardia</th>\n",
              "      <th>trip_distance</th>\n",
              "      <th>is_pickup_lower_manhattan</th>\n",
              "      <th>is_dropoff_lower_manhattan</th>\n",
              "      <th>pickup_borough_bronx</th>\n",
              "      <th>pickup_borough_brooklyn</th>\n",
              "      <th>pickup_borough_manhattan</th>\n",
              "      <th>pickup_borough_others</th>\n",
              "      <th>pickup_borough_queens</th>\n",
              "      <th>pickup_borough_staten_island</th>\n",
              "      <th>dropoff_borough_bronx</th>\n",
              "      <th>dropoff_borough_brooklyn</th>\n",
              "      <th>dropoff_borough_manhattan</th>\n",
              "      <th>dropoff_borough_others</th>\n",
              "      <th>dropoff_borough_queens</th>\n",
              "      <th>dropoff_borough_staten_island</th>\n",
              "    </tr>\n",
              "  </thead>\n",
              "  <tbody>\n",
              "    <tr>\n",
              "      <th>0</th>\n",
              "      <td>-73.844311</td>\n",
              "      <td>40.721319</td>\n",
              "      <td>-73.841610</td>\n",
              "      <td>40.712278</td>\n",
              "      <td>1</td>\n",
              "      <td>15</td>\n",
              "      <td>17</td>\n",
              "      <td>1</td>\n",
              "      <td>6</td>\n",
              "      <td>2009</td>\n",
              "      <td>0</td>\n",
              "      <td>0</td>\n",
              "      <td>0</td>\n",
              "      <td>0</td>\n",
              "      <td>0</td>\n",
              "      <td>0</td>\n",
              "      <td>0.640487</td>\n",
              "      <td>0</td>\n",
              "      <td>0</td>\n",
              "      <td>0</td>\n",
              "      <td>0</td>\n",
              "      <td>0</td>\n",
              "      <td>0</td>\n",
              "      <td>1</td>\n",
              "      <td>0</td>\n",
              "      <td>0</td>\n",
              "      <td>0</td>\n",
              "      <td>0</td>\n",
              "      <td>0</td>\n",
              "      <td>1</td>\n",
              "      <td>0</td>\n",
              "    </tr>\n",
              "    <tr>\n",
              "      <th>9</th>\n",
              "      <td>-73.980658</td>\n",
              "      <td>40.733873</td>\n",
              "      <td>-73.991540</td>\n",
              "      <td>40.758138</td>\n",
              "      <td>2</td>\n",
              "      <td>2</td>\n",
              "      <td>1</td>\n",
              "      <td>3</td>\n",
              "      <td>9</td>\n",
              "      <td>2009</td>\n",
              "      <td>0</td>\n",
              "      <td>0</td>\n",
              "      <td>0</td>\n",
              "      <td>0</td>\n",
              "      <td>0</td>\n",
              "      <td>0</td>\n",
              "      <td>1.770676</td>\n",
              "      <td>1</td>\n",
              "      <td>0</td>\n",
              "      <td>0</td>\n",
              "      <td>0</td>\n",
              "      <td>1</td>\n",
              "      <td>0</td>\n",
              "      <td>0</td>\n",
              "      <td>0</td>\n",
              "      <td>0</td>\n",
              "      <td>0</td>\n",
              "      <td>1</td>\n",
              "      <td>0</td>\n",
              "      <td>0</td>\n",
              "      <td>0</td>\n",
              "    </tr>\n",
              "    <tr>\n",
              "      <th>11</th>\n",
              "      <td>-73.991601</td>\n",
              "      <td>40.744712</td>\n",
              "      <td>-73.983081</td>\n",
              "      <td>40.744682</td>\n",
              "      <td>2</td>\n",
              "      <td>6</td>\n",
              "      <td>1</td>\n",
              "      <td>5</td>\n",
              "      <td>11</td>\n",
              "      <td>2009</td>\n",
              "      <td>0</td>\n",
              "      <td>0</td>\n",
              "      <td>0</td>\n",
              "      <td>0</td>\n",
              "      <td>0</td>\n",
              "      <td>0</td>\n",
              "      <td>0.446000</td>\n",
              "      <td>0</td>\n",
              "      <td>0</td>\n",
              "      <td>0</td>\n",
              "      <td>0</td>\n",
              "      <td>1</td>\n",
              "      <td>0</td>\n",
              "      <td>0</td>\n",
              "      <td>0</td>\n",
              "      <td>0</td>\n",
              "      <td>0</td>\n",
              "      <td>1</td>\n",
              "      <td>0</td>\n",
              "      <td>0</td>\n",
              "      <td>0</td>\n",
              "    </tr>\n",
              "    <tr>\n",
              "      <th>15</th>\n",
              "      <td>-73.981060</td>\n",
              "      <td>40.737690</td>\n",
              "      <td>-73.994177</td>\n",
              "      <td>40.728412</td>\n",
              "      <td>1</td>\n",
              "      <td>22</td>\n",
              "      <td>16</td>\n",
              "      <td>3</td>\n",
              "      <td>7</td>\n",
              "      <td>2009</td>\n",
              "      <td>0</td>\n",
              "      <td>0</td>\n",
              "      <td>0</td>\n",
              "      <td>0</td>\n",
              "      <td>0</td>\n",
              "      <td>0</td>\n",
              "      <td>0.939454</td>\n",
              "      <td>1</td>\n",
              "      <td>1</td>\n",
              "      <td>0</td>\n",
              "      <td>0</td>\n",
              "      <td>1</td>\n",
              "      <td>0</td>\n",
              "      <td>0</td>\n",
              "      <td>0</td>\n",
              "      <td>0</td>\n",
              "      <td>0</td>\n",
              "      <td>1</td>\n",
              "      <td>0</td>\n",
              "      <td>0</td>\n",
              "      <td>0</td>\n",
              "    </tr>\n",
              "    <tr>\n",
              "      <th>20</th>\n",
              "      <td>-73.991707</td>\n",
              "      <td>40.770505</td>\n",
              "      <td>-73.985459</td>\n",
              "      <td>40.763671</td>\n",
              "      <td>1</td>\n",
              "      <td>6</td>\n",
              "      <td>18</td>\n",
              "      <td>4</td>\n",
              "      <td>8</td>\n",
              "      <td>2009</td>\n",
              "      <td>0</td>\n",
              "      <td>0</td>\n",
              "      <td>0</td>\n",
              "      <td>0</td>\n",
              "      <td>0</td>\n",
              "      <td>0</td>\n",
              "      <td>0.574331</td>\n",
              "      <td>0</td>\n",
              "      <td>0</td>\n",
              "      <td>0</td>\n",
              "      <td>0</td>\n",
              "      <td>1</td>\n",
              "      <td>0</td>\n",
              "      <td>0</td>\n",
              "      <td>0</td>\n",
              "      <td>0</td>\n",
              "      <td>0</td>\n",
              "      <td>1</td>\n",
              "      <td>0</td>\n",
              "      <td>0</td>\n",
              "      <td>0</td>\n",
              "    </tr>\n",
              "    <tr>\n",
              "      <th>...</th>\n",
              "      <td>...</td>\n",
              "      <td>...</td>\n",
              "      <td>...</td>\n",
              "      <td>...</td>\n",
              "      <td>...</td>\n",
              "      <td>...</td>\n",
              "      <td>...</td>\n",
              "      <td>...</td>\n",
              "      <td>...</td>\n",
              "      <td>...</td>\n",
              "      <td>...</td>\n",
              "      <td>...</td>\n",
              "      <td>...</td>\n",
              "      <td>...</td>\n",
              "      <td>...</td>\n",
              "      <td>...</td>\n",
              "      <td>...</td>\n",
              "      <td>...</td>\n",
              "      <td>...</td>\n",
              "      <td>...</td>\n",
              "      <td>...</td>\n",
              "      <td>...</td>\n",
              "      <td>...</td>\n",
              "      <td>...</td>\n",
              "      <td>...</td>\n",
              "      <td>...</td>\n",
              "      <td>...</td>\n",
              "      <td>...</td>\n",
              "      <td>...</td>\n",
              "      <td>...</td>\n",
              "      <td>...</td>\n",
              "    </tr>\n",
              "    <tr>\n",
              "      <th>399963</th>\n",
              "      <td>-73.992709</td>\n",
              "      <td>40.740467</td>\n",
              "      <td>-73.972586</td>\n",
              "      <td>40.754990</td>\n",
              "      <td>1</td>\n",
              "      <td>19</td>\n",
              "      <td>1</td>\n",
              "      <td>4</td>\n",
              "      <td>2</td>\n",
              "      <td>2009</td>\n",
              "      <td>0</td>\n",
              "      <td>0</td>\n",
              "      <td>0</td>\n",
              "      <td>0</td>\n",
              "      <td>0</td>\n",
              "      <td>0</td>\n",
              "      <td>1.454784</td>\n",
              "      <td>1</td>\n",
              "      <td>0</td>\n",
              "      <td>0</td>\n",
              "      <td>0</td>\n",
              "      <td>1</td>\n",
              "      <td>0</td>\n",
              "      <td>0</td>\n",
              "      <td>0</td>\n",
              "      <td>0</td>\n",
              "      <td>0</td>\n",
              "      <td>1</td>\n",
              "      <td>0</td>\n",
              "      <td>0</td>\n",
              "      <td>0</td>\n",
              "    </tr>\n",
              "    <tr>\n",
              "      <th>399986</th>\n",
              "      <td>-74.008813</td>\n",
              "      <td>40.713915</td>\n",
              "      <td>-73.979168</td>\n",
              "      <td>40.757925</td>\n",
              "      <td>1</td>\n",
              "      <td>12</td>\n",
              "      <td>9</td>\n",
              "      <td>2</td>\n",
              "      <td>5</td>\n",
              "      <td>2009</td>\n",
              "      <td>0</td>\n",
              "      <td>0</td>\n",
              "      <td>0</td>\n",
              "      <td>0</td>\n",
              "      <td>0</td>\n",
              "      <td>0</td>\n",
              "      <td>3.413977</td>\n",
              "      <td>1</td>\n",
              "      <td>0</td>\n",
              "      <td>0</td>\n",
              "      <td>0</td>\n",
              "      <td>1</td>\n",
              "      <td>0</td>\n",
              "      <td>0</td>\n",
              "      <td>0</td>\n",
              "      <td>0</td>\n",
              "      <td>0</td>\n",
              "      <td>1</td>\n",
              "      <td>0</td>\n",
              "      <td>0</td>\n",
              "      <td>0</td>\n",
              "    </tr>\n",
              "    <tr>\n",
              "      <th>399989</th>\n",
              "      <td>-73.983200</td>\n",
              "      <td>40.722297</td>\n",
              "      <td>-73.982277</td>\n",
              "      <td>40.735242</td>\n",
              "      <td>1</td>\n",
              "      <td>17</td>\n",
              "      <td>22</td>\n",
              "      <td>2</td>\n",
              "      <td>3</td>\n",
              "      <td>2009</td>\n",
              "      <td>0</td>\n",
              "      <td>0</td>\n",
              "      <td>0</td>\n",
              "      <td>0</td>\n",
              "      <td>0</td>\n",
              "      <td>0</td>\n",
              "      <td>0.895718</td>\n",
              "      <td>1</td>\n",
              "      <td>1</td>\n",
              "      <td>0</td>\n",
              "      <td>0</td>\n",
              "      <td>1</td>\n",
              "      <td>0</td>\n",
              "      <td>0</td>\n",
              "      <td>0</td>\n",
              "      <td>0</td>\n",
              "      <td>0</td>\n",
              "      <td>1</td>\n",
              "      <td>0</td>\n",
              "      <td>0</td>\n",
              "      <td>0</td>\n",
              "    </tr>\n",
              "    <tr>\n",
              "      <th>399994</th>\n",
              "      <td>-73.951399</td>\n",
              "      <td>40.770201</td>\n",
              "      <td>-73.973983</td>\n",
              "      <td>40.763075</td>\n",
              "      <td>1</td>\n",
              "      <td>2</td>\n",
              "      <td>11</td>\n",
              "      <td>4</td>\n",
              "      <td>7</td>\n",
              "      <td>2009</td>\n",
              "      <td>0</td>\n",
              "      <td>0</td>\n",
              "      <td>0</td>\n",
              "      <td>0</td>\n",
              "      <td>0</td>\n",
              "      <td>0</td>\n",
              "      <td>1.280272</td>\n",
              "      <td>0</td>\n",
              "      <td>0</td>\n",
              "      <td>0</td>\n",
              "      <td>0</td>\n",
              "      <td>1</td>\n",
              "      <td>0</td>\n",
              "      <td>0</td>\n",
              "      <td>0</td>\n",
              "      <td>0</td>\n",
              "      <td>0</td>\n",
              "      <td>1</td>\n",
              "      <td>0</td>\n",
              "      <td>0</td>\n",
              "      <td>0</td>\n",
              "    </tr>\n",
              "    <tr>\n",
              "      <th>399999</th>\n",
              "      <td>-73.969164</td>\n",
              "      <td>40.763518</td>\n",
              "      <td>-73.956014</td>\n",
              "      <td>40.781614</td>\n",
              "      <td>2</td>\n",
              "      <td>8</td>\n",
              "      <td>11</td>\n",
              "      <td>4</td>\n",
              "      <td>10</td>\n",
              "      <td>2009</td>\n",
              "      <td>0</td>\n",
              "      <td>0</td>\n",
              "      <td>0</td>\n",
              "      <td>0</td>\n",
              "      <td>0</td>\n",
              "      <td>0</td>\n",
              "      <td>1.427139</td>\n",
              "      <td>0</td>\n",
              "      <td>0</td>\n",
              "      <td>0</td>\n",
              "      <td>0</td>\n",
              "      <td>1</td>\n",
              "      <td>0</td>\n",
              "      <td>0</td>\n",
              "      <td>0</td>\n",
              "      <td>0</td>\n",
              "      <td>0</td>\n",
              "      <td>1</td>\n",
              "      <td>0</td>\n",
              "      <td>0</td>\n",
              "      <td>0</td>\n",
              "    </tr>\n",
              "  </tbody>\n",
              "</table>\n",
              "<p>62037 rows × 31 columns</p>\n",
              "</div>"
            ],
            "text/plain": [
              "        pickup_longitude  ...  dropoff_borough_staten_island\n",
              "0             -73.844311  ...                              0\n",
              "9             -73.980658  ...                              0\n",
              "11            -73.991601  ...                              0\n",
              "15            -73.981060  ...                              0\n",
              "20            -73.991707  ...                              0\n",
              "...                  ...  ...                            ...\n",
              "399963        -73.992709  ...                              0\n",
              "399986        -74.008813  ...                              0\n",
              "399989        -73.983200  ...                              0\n",
              "399994        -73.951399  ...                              0\n",
              "399999        -73.969164  ...                              0\n",
              "\n",
              "[62037 rows x 31 columns]"
            ]
          },
          "metadata": {
            "tags": []
          },
          "execution_count": 7
        }
      ]
    },
    {
      "cell_type": "code",
      "metadata": {
        "id": "sLyd-0zhfdqS",
        "colab_type": "code",
        "colab": {}
      },
      "source": [
        "#X_test = Years.get_group(2015)\n",
        "#X_train = X.drop(Years.get_group(2015).index)\n",
        "X_train=X[X['pickup_year']<2015]\n",
        "y_train=y[X['pickup_year']<2015]\n",
        "X_test=X[X['pickup_year']==2015]\n",
        "y_test=y[X['pickup_year']==2015]"
      ],
      "execution_count": 0,
      "outputs": []
    },
    {
      "cell_type": "code",
      "metadata": {
        "id": "_j33M92PasDO",
        "colab_type": "code",
        "colab": {}
      },
      "source": [
        "#y_grouped = y.groupby(X['pickup_year'])\n",
        "#y_test = y_grouped.get_group(2015)\n",
        "#y_train = y.drop(y_grouped.get_group(2015).index)"
      ],
      "execution_count": 0,
      "outputs": []
    },
    {
      "cell_type": "code",
      "metadata": {
        "id": "iFRqSrvcU0UN",
        "colab_type": "code",
        "colab": {}
      },
      "source": [
        "#print(X_train.shape())"
      ],
      "execution_count": 0,
      "outputs": []
    },
    {
      "cell_type": "markdown",
      "metadata": {
        "id": "zdWBku-7ZWSU",
        "colab_type": "text"
      },
      "source": [
        "### E 2.2 Train a Random Forest Regression Model\n",
        "* train model using [RF regression](https://scikit-learn.org/stable/modules/generated/sklearn.ensemble.RandomForestRegressor.html#sklearn.ensemble.RandomForestRegressor)\n",
        "* optimize the model parameters (#trees, depth, vars per split, ...) and evaluate the [MSE](https://scikit-learn.org/stable/modules/generated/sklearn.metrics.mean_squared_error.html#sklearn.metrics.mean_squared_error) on train and test data\n",
        "* Analyze the model error: are there typical settings where the model fails?"
      ]
    },
    {
      "cell_type": "code",
      "metadata": {
        "id": "fXur8t9igDN4",
        "colab_type": "code",
        "colab": {}
      },
      "source": [
        "from sklearn.ensemble import RandomForestRegressor\n",
        "from sklearn.datasets import make_regression"
      ],
      "execution_count": 0,
      "outputs": []
    },
    {
      "cell_type": "code",
      "metadata": {
        "id": "8NSQfZssgQwe",
        "colab_type": "code",
        "colab": {}
      },
      "source": [
        "X_train, y_train = make_regression(n_features=31, n_informative=2, random_state=0, shuffle=False)"
      ],
      "execution_count": 0,
      "outputs": []
    },
    {
      "cell_type": "code",
      "metadata": {
        "id": "4wlJ-yRIg6XS",
        "colab_type": "code",
        "colab": {}
      },
      "source": [
        "regr = RandomForestRegressor(n_jobs=10, n_estimators=200, max_depth= 200, min_samples_split= 30)"
      ],
      "execution_count": 0,
      "outputs": []
    },
    {
      "cell_type": "code",
      "metadata": {
        "id": "W7AJsPLqg_jH",
        "colab_type": "code",
        "outputId": "9ca9ddb5-7af6-4fa2-a61c-530eb5b758a9",
        "colab": {
          "base_uri": "https://localhost:8080/",
          "height": 148
        }
      },
      "source": [
        "regr.fit(X_train, y_train)"
      ],
      "execution_count": 86,
      "outputs": [
        {
          "output_type": "execute_result",
          "data": {
            "text/plain": [
              "RandomForestRegressor(bootstrap=True, ccp_alpha=0.0, criterion='mse',\n",
              "                      max_depth=200, max_features='auto', max_leaf_nodes=None,\n",
              "                      max_samples=None, min_impurity_decrease=0.0,\n",
              "                      min_impurity_split=None, min_samples_leaf=1,\n",
              "                      min_samples_split=30, min_weight_fraction_leaf=0.0,\n",
              "                      n_estimators=200, n_jobs=10, oob_score=False,\n",
              "                      random_state=None, verbose=0, warm_start=False)"
            ]
          },
          "metadata": {
            "tags": []
          },
          "execution_count": 86
        }
      ]
    },
    {
      "cell_type": "code",
      "metadata": {
        "id": "4xyLxG9whF8u",
        "colab_type": "code",
        "outputId": "3d515900-8b8d-403e-d46b-e86811cdc07f",
        "colab": {
          "base_uri": "https://localhost:8080/",
          "height": 36
        }
      },
      "source": [
        "from sklearn.metrics import mean_squared_error\n",
        "predTrain = regr.predict(X_train)\n",
        "predTest = regr.predict(X_test)\n",
        "\n",
        "print(\"Mean Squared Error on train data: \", mean_squared_error(y_train, predTrain), \"  Mean Squared Error on test data: \", mean_squared_error(y_test, predTest))"
      ],
      "execution_count": 87,
      "outputs": [
        {
          "output_type": "stream",
          "text": [
            "Mean Squared Error on train data:  1617.5391000488669   Mean Squared Error on test data:  10033.9011868507\n"
          ],
          "name": "stdout"
        }
      ]
    },
    {
      "cell_type": "code",
      "metadata": {
        "id": "3PqOIOpdtFyV",
        "colab_type": "code",
        "colab": {}
      },
      "source": [
        "dif = np.abs(y_test - predTest)"
      ],
      "execution_count": 0,
      "outputs": []
    },
    {
      "cell_type": "code",
      "metadata": {
        "id": "nooZpNNhWFh4",
        "colab_type": "code",
        "outputId": "be0dd7bd-aa42-4402-c138-0d7fb8dbf17c",
        "colab": {
          "base_uri": "https://localhost:8080/",
          "height": 1000
        }
      },
      "source": [
        "import matplotlib.pyplot as plt\n",
        "plt.hist(dif, bins=100)"
      ],
      "execution_count": 89,
      "outputs": [
        {
          "output_type": "execute_result",
          "data": {
            "text/plain": [
              "(array([4.000e+00, 1.000e+00, 2.000e+00, 3.000e+00, 7.000e+00, 4.000e+00,\n",
              "        3.000e+00, 3.000e+00, 7.000e+00, 1.200e+01, 1.000e+01, 7.000e+00,\n",
              "        8.000e+00, 8.000e+00, 1.300e+01, 1.000e+01, 3.960e+02, 1.410e+02,\n",
              "        7.100e+01, 1.060e+02, 1.420e+02, 2.450e+02, 3.000e+02, 3.650e+02,\n",
              "        3.340e+02, 4.820e+02, 8.100e+02, 1.404e+03, 2.025e+03, 3.954e+03,\n",
              "        7.052e+03, 8.701e+03, 1.250e+03, 8.000e+00, 0.000e+00, 0.000e+00,\n",
              "        1.000e+00, 0.000e+00, 0.000e+00, 0.000e+00, 0.000e+00, 0.000e+00,\n",
              "        0.000e+00, 0.000e+00, 0.000e+00, 0.000e+00, 0.000e+00, 0.000e+00,\n",
              "        0.000e+00, 0.000e+00, 0.000e+00, 0.000e+00, 0.000e+00, 0.000e+00,\n",
              "        0.000e+00, 0.000e+00, 0.000e+00, 0.000e+00, 0.000e+00, 0.000e+00,\n",
              "        0.000e+00, 0.000e+00, 0.000e+00, 0.000e+00, 0.000e+00, 0.000e+00,\n",
              "        0.000e+00, 0.000e+00, 0.000e+00, 0.000e+00, 0.000e+00, 0.000e+00,\n",
              "        0.000e+00, 0.000e+00, 0.000e+00, 0.000e+00, 0.000e+00, 0.000e+00,\n",
              "        0.000e+00, 0.000e+00, 0.000e+00, 0.000e+00, 0.000e+00, 0.000e+00,\n",
              "        0.000e+00, 0.000e+00, 0.000e+00, 0.000e+00, 0.000e+00, 0.000e+00,\n",
              "        0.000e+00, 0.000e+00, 0.000e+00, 0.000e+00, 0.000e+00, 0.000e+00,\n",
              "        0.000e+00, 0.000e+00, 0.000e+00, 1.000e+00]),\n",
              " array([1.28316399e-02, 3.38783164e+00, 6.76283164e+00, 1.01378316e+01,\n",
              "        1.35128316e+01, 1.68878316e+01, 2.02628316e+01, 2.36378316e+01,\n",
              "        2.70128316e+01, 3.03878316e+01, 3.37628316e+01, 3.71378316e+01,\n",
              "        4.05128316e+01, 4.38878316e+01, 4.72628316e+01, 5.06378316e+01,\n",
              "        5.40128316e+01, 5.73878316e+01, 6.07628316e+01, 6.41378316e+01,\n",
              "        6.75128316e+01, 7.08878316e+01, 7.42628316e+01, 7.76378316e+01,\n",
              "        8.10128316e+01, 8.43878316e+01, 8.77628316e+01, 9.11378316e+01,\n",
              "        9.45128316e+01, 9.78878316e+01, 1.01262832e+02, 1.04637832e+02,\n",
              "        1.08012832e+02, 1.11387832e+02, 1.14762832e+02, 1.18137832e+02,\n",
              "        1.21512832e+02, 1.24887832e+02, 1.28262832e+02, 1.31637832e+02,\n",
              "        1.35012832e+02, 1.38387832e+02, 1.41762832e+02, 1.45137832e+02,\n",
              "        1.48512832e+02, 1.51887832e+02, 1.55262832e+02, 1.58637832e+02,\n",
              "        1.62012832e+02, 1.65387832e+02, 1.68762832e+02, 1.72137832e+02,\n",
              "        1.75512832e+02, 1.78887832e+02, 1.82262832e+02, 1.85637832e+02,\n",
              "        1.89012832e+02, 1.92387832e+02, 1.95762832e+02, 1.99137832e+02,\n",
              "        2.02512832e+02, 2.05887832e+02, 2.09262832e+02, 2.12637832e+02,\n",
              "        2.16012832e+02, 2.19387832e+02, 2.22762832e+02, 2.26137832e+02,\n",
              "        2.29512832e+02, 2.32887832e+02, 2.36262832e+02, 2.39637832e+02,\n",
              "        2.43012832e+02, 2.46387832e+02, 2.49762832e+02, 2.53137832e+02,\n",
              "        2.56512832e+02, 2.59887832e+02, 2.63262832e+02, 2.66637832e+02,\n",
              "        2.70012832e+02, 2.73387832e+02, 2.76762832e+02, 2.80137832e+02,\n",
              "        2.83512832e+02, 2.86887832e+02, 2.90262832e+02, 2.93637832e+02,\n",
              "        2.97012832e+02, 3.00387832e+02, 3.03762832e+02, 3.07137832e+02,\n",
              "        3.10512832e+02, 3.13887832e+02, 3.17262832e+02, 3.20637832e+02,\n",
              "        3.24012832e+02, 3.27387832e+02, 3.30762832e+02, 3.34137832e+02,\n",
              "        3.37512832e+02]),\n",
              " <a list of 100 Patch objects>)"
            ]
          },
          "metadata": {
            "tags": []
          },
          "execution_count": 89
        },
        {
          "output_type": "display_data",
          "data": {
            "image/png": "[encoded data removed]",
            "text/plain": [
              "<Figure size 432x288 with 1 Axes>"
            ]
          },
          "metadata": {
            "tags": [],
            "needs_background": "light"
          }
        }
      ]
    },
    {
      "cell_type": "code",
      "metadata": {
        "id": "LeciyYa4WHui",
        "colab_type": "code",
        "colab": {}
      },
      "source": [
        "dif_zoom = dif[dif<120]\n",
        "dif_zoom= dif_zoom[dif_zoom>50]"
      ],
      "execution_count": 0,
      "outputs": []
    },
    {
      "cell_type": "code",
      "metadata": {
        "id": "Fs_hzXZ4h-g_",
        "colab_type": "code",
        "outputId": "6c48962d-69f9-4c8d-f26b-8af8b8e9a81f",
        "colab": {
          "base_uri": "https://localhost:8080/",
          "height": 1000
        }
      },
      "source": [
        "plt.hist(dif_zoom, bins=100)"
      ],
      "execution_count": 94,
      "outputs": [
        {
          "output_type": "execute_result",
          "data": {
            "text/plain": [
              "(array([4.000e+00, 1.000e+00, 1.000e+00, 2.000e+00, 3.000e+00, 0.000e+00,\n",
              "        2.000e+00, 2.080e+02, 1.760e+02, 8.000e+00, 1.000e+00, 1.000e+01,\n",
              "        6.000e+00, 4.000e+00, 8.000e+00, 7.000e+00, 1.090e+02, 1.000e+01,\n",
              "        6.000e+00, 1.200e+01, 1.600e+01, 1.600e+01, 1.200e+01, 1.900e+01,\n",
              "        2.100e+01, 2.300e+01, 1.600e+01, 2.600e+01, 2.400e+01, 1.800e+01,\n",
              "        2.400e+01, 3.900e+01, 3.700e+01, 2.500e+01, 3.500e+01, 4.900e+01,\n",
              "        4.900e+01, 4.000e+01, 4.700e+01, 6.500e+01, 6.100e+01, 4.500e+01,\n",
              "        5.500e+01, 7.400e+01, 6.700e+01, 4.700e+01, 5.500e+01, 8.000e+01,\n",
              "        6.500e+01, 6.800e+01, 6.000e+01, 9.200e+01, 4.500e+01, 6.000e+01,\n",
              "        6.000e+01, 1.130e+02, 7.800e+01, 6.700e+01, 6.600e+01, 1.570e+02,\n",
              "        9.200e+01, 1.020e+02, 1.040e+02, 2.400e+02, 1.330e+02, 1.410e+02,\n",
              "        1.510e+02, 3.550e+02, 2.140e+02, 2.070e+02, 2.540e+02, 4.880e+02,\n",
              "        2.910e+02, 3.280e+02, 3.580e+02, 7.820e+02, 4.160e+02, 4.410e+02,\n",
              "        5.170e+02, 1.231e+03, 6.410e+02, 7.080e+02, 7.970e+02, 1.739e+03,\n",
              "        9.650e+02, 1.136e+03, 1.187e+03, 2.526e+03, 1.285e+03, 1.298e+03,\n",
              "        1.342e+03, 2.529e+03, 9.490e+02, 7.030e+02, 3.200e+02, 2.270e+02,\n",
              "        0.000e+00, 0.000e+00, 0.000e+00, 8.000e+00]),\n",
              " array([ 50.09716836,  50.72106836,  51.34496836,  51.96886836,\n",
              "         52.59276836,  53.21666836,  53.84056836,  54.46446836,\n",
              "         55.08836836,  55.71226836,  56.33616836,  56.96006836,\n",
              "         57.58396836,  58.20786836,  58.83176836,  59.45566836,\n",
              "         60.07956836,  60.70346836,  61.32736836,  61.95126836,\n",
              "         62.57516836,  63.19906836,  63.82296836,  64.44686836,\n",
              "         65.07076836,  65.69466836,  66.31856836,  66.94246836,\n",
              "         67.56636836,  68.19026836,  68.81416836,  69.43806836,\n",
              "         70.06196836,  70.68586836,  71.30976836,  71.93366836,\n",
              "         72.55756836,  73.18146836,  73.80536836,  74.42926836,\n",
              "         75.05316836,  75.67706836,  76.30096836,  76.92486836,\n",
              "         77.54876836,  78.17266836,  78.79656836,  79.42046836,\n",
              "         80.04436836,  80.66826836,  81.29216836,  81.91606836,\n",
              "         82.53996836,  83.16386836,  83.78776836,  84.41166836,\n",
              "         85.03556836,  85.65946836,  86.28336836,  86.90726836,\n",
              "         87.53116836,  88.15506836,  88.77896836,  89.40286836,\n",
              "         90.02676836,  90.65066836,  91.27456836,  91.89846836,\n",
              "         92.52236836,  93.14626836,  93.77016836,  94.39406836,\n",
              "         95.01796836,  95.64186836,  96.26576836,  96.88966836,\n",
              "         97.51356836,  98.13746836,  98.76136836,  99.38526836,\n",
              "        100.00916836, 100.63306836, 101.25696836, 101.88086836,\n",
              "        102.50476836, 103.12866836, 103.75256836, 104.37646836,\n",
              "        105.00036836, 105.62426836, 106.24816836, 106.87206836,\n",
              "        107.49596836, 108.11986836, 108.74376836, 109.36766836,\n",
              "        109.99156836, 110.61546836, 111.23936836, 111.86326836,\n",
              "        112.48716836]),\n",
              " <a list of 100 Patch objects>)"
            ]
          },
          "metadata": {
            "tags": []
          },
          "execution_count": 94
        },
        {
          "output_type": "display_data",
          "data": {
            "image/png": "[encoded data removed]",
            "text/plain": [
              "<Figure size 432x288 with 1 Axes>"
            ]
          },
          "metadata": {
            "tags": [],
            "needs_background": "light"
          }
        }
      ]
    },
    {
      "cell_type": "code",
      "metadata": {
        "id": "r2yWB8hVWNnI",
        "colab_type": "code",
        "outputId": "dd54a3bb-2a6b-40b9-87a0-3bd68c070089",
        "colab": {
          "base_uri": "https://localhost:8080/",
          "height": 36
        }
      },
      "source": [
        "np.median(dif)"
      ],
      "execution_count": 95,
      "outputs": [
        {
          "output_type": "execute_result",
          "data": {
            "text/plain": [
              "102.98716836010153"
            ]
          },
          "metadata": {
            "tags": []
          },
          "execution_count": 95
        }
      ]
    },
    {
      "cell_type": "code",
      "metadata": {
        "id": "fDWn9Ix0sVpp",
        "colab_type": "code",
        "colab": {}
      },
      "source": [
        "regr2 = RandomForestRegressor(n_jobs=10, n_estimators=300, max_depth= 200, min_samples_split= 10)"
      ],
      "execution_count": 0,
      "outputs": []
    },
    {
      "cell_type": "code",
      "metadata": {
        "id": "CQjzu-BZs-G0",
        "colab_type": "code",
        "colab": {
          "base_uri": "https://localhost:8080/",
          "height": 148
        },
        "outputId": "fa7d1ebd-a176-43ca-de48-5d1004833a4d"
      },
      "source": [
        "regr2.fit(X_train, y_train)"
      ],
      "execution_count": 161,
      "outputs": [
        {
          "output_type": "execute_result",
          "data": {
            "text/plain": [
              "RandomForestRegressor(bootstrap=True, ccp_alpha=0.0, criterion='mse',\n",
              "                      max_depth=200, max_features='auto', max_leaf_nodes=None,\n",
              "                      max_samples=None, min_impurity_decrease=0.0,\n",
              "                      min_impurity_split=None, min_samples_leaf=1,\n",
              "                      min_samples_split=10, min_weight_fraction_leaf=0.0,\n",
              "                      n_estimators=300, n_jobs=10, oob_score=False,\n",
              "                      random_state=None, verbose=0, warm_start=False)"
            ]
          },
          "metadata": {
            "tags": []
          },
          "execution_count": 161
        }
      ]
    },
    {
      "cell_type": "code",
      "metadata": {
        "id": "so8-rF61tKgl",
        "colab_type": "code",
        "colab": {
          "base_uri": "https://localhost:8080/",
          "height": 36
        },
        "outputId": "430129d4-0d1d-49ee-de53-dbad3ed1a27f"
      },
      "source": [
        "from sklearn.metrics import mean_squared_error\n",
        "pred2Train = regr2.predict(X_train)\n",
        "pred2Test = regr2.predict(X_test)\n",
        "\n",
        "print(\"Mean Squared Error on train data: \", mean_squared_error(y_train, pred2Train), \"  Mean Squared Error on test data: \", mean_squared_error(y_test, pred2Test))"
      ],
      "execution_count": 162,
      "outputs": [
        {
          "output_type": "stream",
          "text": [
            "Mean Squared Error on train data:  296.49039276183134   Mean Squared Error on test data:  14739.897413695804\n"
          ],
          "name": "stdout"
        }
      ]
    },
    {
      "cell_type": "markdown",
      "metadata": {
        "id": "HxMHYoEAtoXH",
        "colab_type": "text"
      },
      "source": [
        "If there are to many samples in a split, the model gets worse,\n",
        "if you increase the number of estimators, the time to train the model increases significantly. \n",
        "Higher numbers of estimators than 300 brings no plus in decreasing the error constantly, but lower numbers of estimators seem to give a variable error. Sometimes better sometimes worse. with more estimators the error is more constant"
      ]
    },
    {
      "cell_type": "code",
      "metadata": {
        "id": "IOI8A_UtuIYZ",
        "colab_type": "code",
        "colab": {}
      },
      "source": [
        ""
      ],
      "execution_count": 0,
      "outputs": []
    }
  ]
}