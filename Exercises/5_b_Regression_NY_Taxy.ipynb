{
  "nbformat": 4,
  "nbformat_minor": 0,
  "metadata": {
    "kernelspec": {
      "display_name": "Python 3",
      "language": "python",
      "name": "python3"
    },
    "language_info": {
      "codemirror_mode": {
        "name": "ipython",
        "version": 3
      },
      "file_extension": ".py",
      "mimetype": "text/x-python",
      "name": "python",
      "nbconvert_exporter": "python",
      "pygments_lexer": "ipython3",
      "version": "3.7.6"
    },
    "colab": {
      "name": "5_b_Regression_NY_Taxy.ipynb",
      "provenance": []
    }
  },
  "cells": [
    {
      "cell_type": "markdown",
      "metadata": {
        "id": "CIsJ3kZBZWRq",
        "colab_type": "text"
      },
      "source": [
        "# Block 5 Exercise 2: Predicting the fare of taxi rides\n",
        "Using the NY Taxi data set (see Use Case Block I) and the use case from the lecture..."
      ]
    },
    {
      "cell_type": "code",
      "metadata": {
        "id": "pwesqiL6ZWRr",
        "colab_type": "code",
        "colab": {}
      },
      "source": [
        "import pandas as pd\n",
        "import numpy as np\n",
        "import folium\n"
      ],
      "execution_count": 0,
      "outputs": []
    },
    {
      "cell_type": "code",
      "metadata": {
        "id": "XwfXJHOVZWRz",
        "colab_type": "code",
        "outputId": "a297c73b-79fe-46cb-8574-016f0c5b9d3c",
        "colab": {
          "base_uri": "https://localhost:8080/",
          "height": 185
        }
      },
      "source": [
        "#check if notebook runs in colab\n",
        "import sys\n",
        "IN_COLAB = 'google.colab' in sys.modules\n",
        "print('running in Colab:',IN_COLAB)\n",
        "path='..'\n",
        "if IN_COLAB:\n",
        "  #in colab, we need to clone the data from the repo\n",
        "  !git clone https://github.com/JonasZimmer1994/DataScienceSS20.git\n",
        "  path='DataScienceSS20'"
      ],
      "execution_count": 3,
      "outputs": [
        {
          "output_type": "stream",
          "text": [
            "running in Colab: True\n",
            "Cloning into 'DataScienceSS20'...\n",
            "remote: Enumerating objects: 8, done.\u001b[K\n",
            "remote: Counting objects: 100% (8/8), done.\u001b[K\n",
            "remote: Compressing objects: 100% (8/8), done.\u001b[K\n",
            "remote: Total 767 (delta 3), reused 0 (delta 0), pack-reused 759\u001b[K\n",
            "Receiving objects: 100% (767/767), 111.67 MiB | 21.41 MiB/s, done.\n",
            "Resolving deltas: 100% (371/371), done.\n",
            "Checking out files: 100% (204/204), done.\n"
          ],
          "name": "stdout"
        }
      ]
    },
    {
      "cell_type": "code",
      "metadata": {
        "id": "t80QeVHgZWR-",
        "colab_type": "code",
        "colab": {}
      },
      "source": [
        "# we load the data we have saved after wrangling and pre-processing in block I\n",
        "X=pd.read_csv(path+'/DATA/train_cleaned.csv')\n",
        "drop_columns=['Unnamed: 0','Unnamed: 0.1','Unnamed: 0.1.1','key','pickup_datetime','pickup_date','pickup_latitude_round3','pickup_longitude_round3','dropoff_latitude_round3','dropoff_longitude_round3']\n",
        "X=X.drop(drop_columns,axis=1)\n",
        "X=pd.get_dummies(X)# one hot coding\n",
        "#generate labels\n",
        "y=X['fare_amount']\n",
        "X=X.drop(['fare_amount'],axis=1)"
      ],
      "execution_count": 0,
      "outputs": []
    },
    {
      "cell_type": "code",
      "metadata": {
        "id": "b5xFZAQFZWSD",
        "colab_type": "code",
        "outputId": "7e131a63-5689-431f-dd3f-c6d1f6d61f9c",
        "colab": {
          "base_uri": "https://localhost:8080/",
          "height": 226
        }
      },
      "source": [
        "# a quick look at the data\n",
        "X.head()"
      ],
      "execution_count": 5,
      "outputs": [
        {
          "output_type": "execute_result",
          "data": {
            "text/html": [
              "<div>\n",
              "<style scoped>\n",
              "    .dataframe tbody tr th:only-of-type {\n",
              "        vertical-align: middle;\n",
              "    }\n",
              "\n",
              "    .dataframe tbody tr th {\n",
              "        vertical-align: top;\n",
              "    }\n",
              "\n",
              "    .dataframe thead th {\n",
              "        text-align: right;\n",
              "    }\n",
              "</style>\n",
              "<table border=\"1\" class=\"dataframe\">\n",
              "  <thead>\n",
              "    <tr style=\"text-align: right;\">\n",
              "      <th></th>\n",
              "      <th>pickup_longitude</th>\n",
              "      <th>pickup_latitude</th>\n",
              "      <th>dropoff_longitude</th>\n",
              "      <th>dropoff_latitude</th>\n",
              "      <th>passenger_count</th>\n",
              "      <th>pickup_day</th>\n",
              "      <th>pickup_hour</th>\n",
              "      <th>pickup_day_of_week</th>\n",
              "      <th>pickup_month</th>\n",
              "      <th>pickup_year</th>\n",
              "      <th>is_pickup_JFK</th>\n",
              "      <th>is_dropoff_JFK</th>\n",
              "      <th>is_pickup_EWR</th>\n",
              "      <th>is_dropoff_EWR</th>\n",
              "      <th>is_pickup_la_guardia</th>\n",
              "      <th>is_dropoff_la_guardia</th>\n",
              "      <th>trip_distance</th>\n",
              "      <th>is_pickup_lower_manhattan</th>\n",
              "      <th>is_dropoff_lower_manhattan</th>\n",
              "      <th>pickup_borough_bronx</th>\n",
              "      <th>pickup_borough_brooklyn</th>\n",
              "      <th>pickup_borough_manhattan</th>\n",
              "      <th>pickup_borough_others</th>\n",
              "      <th>pickup_borough_queens</th>\n",
              "      <th>pickup_borough_staten_island</th>\n",
              "      <th>dropoff_borough_bronx</th>\n",
              "      <th>dropoff_borough_brooklyn</th>\n",
              "      <th>dropoff_borough_manhattan</th>\n",
              "      <th>dropoff_borough_others</th>\n",
              "      <th>dropoff_borough_queens</th>\n",
              "      <th>dropoff_borough_staten_island</th>\n",
              "    </tr>\n",
              "  </thead>\n",
              "  <tbody>\n",
              "    <tr>\n",
              "      <th>0</th>\n",
              "      <td>-73.844311</td>\n",
              "      <td>40.721319</td>\n",
              "      <td>-73.841610</td>\n",
              "      <td>40.712278</td>\n",
              "      <td>1</td>\n",
              "      <td>15</td>\n",
              "      <td>17</td>\n",
              "      <td>1</td>\n",
              "      <td>6</td>\n",
              "      <td>2009</td>\n",
              "      <td>0</td>\n",
              "      <td>0</td>\n",
              "      <td>0</td>\n",
              "      <td>0</td>\n",
              "      <td>0</td>\n",
              "      <td>0</td>\n",
              "      <td>0.640487</td>\n",
              "      <td>0</td>\n",
              "      <td>0</td>\n",
              "      <td>0</td>\n",
              "      <td>0</td>\n",
              "      <td>0</td>\n",
              "      <td>0</td>\n",
              "      <td>1</td>\n",
              "      <td>0</td>\n",
              "      <td>0</td>\n",
              "      <td>0</td>\n",
              "      <td>0</td>\n",
              "      <td>0</td>\n",
              "      <td>1</td>\n",
              "      <td>0</td>\n",
              "    </tr>\n",
              "    <tr>\n",
              "      <th>1</th>\n",
              "      <td>-74.016048</td>\n",
              "      <td>40.711303</td>\n",
              "      <td>-73.979268</td>\n",
              "      <td>40.782004</td>\n",
              "      <td>1</td>\n",
              "      <td>5</td>\n",
              "      <td>16</td>\n",
              "      <td>2</td>\n",
              "      <td>1</td>\n",
              "      <td>2010</td>\n",
              "      <td>0</td>\n",
              "      <td>0</td>\n",
              "      <td>0</td>\n",
              "      <td>0</td>\n",
              "      <td>0</td>\n",
              "      <td>0</td>\n",
              "      <td>5.250670</td>\n",
              "      <td>1</td>\n",
              "      <td>0</td>\n",
              "      <td>0</td>\n",
              "      <td>0</td>\n",
              "      <td>1</td>\n",
              "      <td>0</td>\n",
              "      <td>0</td>\n",
              "      <td>0</td>\n",
              "      <td>0</td>\n",
              "      <td>0</td>\n",
              "      <td>1</td>\n",
              "      <td>0</td>\n",
              "      <td>0</td>\n",
              "      <td>0</td>\n",
              "    </tr>\n",
              "    <tr>\n",
              "      <th>2</th>\n",
              "      <td>-73.982738</td>\n",
              "      <td>40.761270</td>\n",
              "      <td>-73.991242</td>\n",
              "      <td>40.750562</td>\n",
              "      <td>2</td>\n",
              "      <td>18</td>\n",
              "      <td>0</td>\n",
              "      <td>4</td>\n",
              "      <td>8</td>\n",
              "      <td>2011</td>\n",
              "      <td>0</td>\n",
              "      <td>0</td>\n",
              "      <td>0</td>\n",
              "      <td>0</td>\n",
              "      <td>0</td>\n",
              "      <td>0</td>\n",
              "      <td>0.863411</td>\n",
              "      <td>0</td>\n",
              "      <td>0</td>\n",
              "      <td>0</td>\n",
              "      <td>0</td>\n",
              "      <td>1</td>\n",
              "      <td>0</td>\n",
              "      <td>0</td>\n",
              "      <td>0</td>\n",
              "      <td>0</td>\n",
              "      <td>0</td>\n",
              "      <td>1</td>\n",
              "      <td>0</td>\n",
              "      <td>0</td>\n",
              "      <td>0</td>\n",
              "    </tr>\n",
              "    <tr>\n",
              "      <th>3</th>\n",
              "      <td>-73.987130</td>\n",
              "      <td>40.733143</td>\n",
              "      <td>-73.991567</td>\n",
              "      <td>40.758092</td>\n",
              "      <td>1</td>\n",
              "      <td>21</td>\n",
              "      <td>4</td>\n",
              "      <td>6</td>\n",
              "      <td>4</td>\n",
              "      <td>2012</td>\n",
              "      <td>0</td>\n",
              "      <td>0</td>\n",
              "      <td>0</td>\n",
              "      <td>0</td>\n",
              "      <td>0</td>\n",
              "      <td>0</td>\n",
              "      <td>1.739386</td>\n",
              "      <td>1</td>\n",
              "      <td>0</td>\n",
              "      <td>0</td>\n",
              "      <td>0</td>\n",
              "      <td>1</td>\n",
              "      <td>0</td>\n",
              "      <td>0</td>\n",
              "      <td>0</td>\n",
              "      <td>0</td>\n",
              "      <td>0</td>\n",
              "      <td>1</td>\n",
              "      <td>0</td>\n",
              "      <td>0</td>\n",
              "      <td>0</td>\n",
              "    </tr>\n",
              "    <tr>\n",
              "      <th>4</th>\n",
              "      <td>-73.968095</td>\n",
              "      <td>40.768008</td>\n",
              "      <td>-73.956655</td>\n",
              "      <td>40.783762</td>\n",
              "      <td>1</td>\n",
              "      <td>9</td>\n",
              "      <td>7</td>\n",
              "      <td>2</td>\n",
              "      <td>3</td>\n",
              "      <td>2010</td>\n",
              "      <td>0</td>\n",
              "      <td>0</td>\n",
              "      <td>0</td>\n",
              "      <td>0</td>\n",
              "      <td>0</td>\n",
              "      <td>0</td>\n",
              "      <td>1.242218</td>\n",
              "      <td>0</td>\n",
              "      <td>0</td>\n",
              "      <td>0</td>\n",
              "      <td>0</td>\n",
              "      <td>1</td>\n",
              "      <td>0</td>\n",
              "      <td>0</td>\n",
              "      <td>0</td>\n",
              "      <td>0</td>\n",
              "      <td>0</td>\n",
              "      <td>1</td>\n",
              "      <td>0</td>\n",
              "      <td>0</td>\n",
              "      <td>0</td>\n",
              "    </tr>\n",
              "  </tbody>\n",
              "</table>\n",
              "</div>"
            ],
            "text/plain": [
              "   pickup_longitude  ...  dropoff_borough_staten_island\n",
              "0        -73.844311  ...                              0\n",
              "1        -74.016048  ...                              0\n",
              "2        -73.982738  ...                              0\n",
              "3        -73.987130  ...                              0\n",
              "4        -73.968095  ...                              0\n",
              "\n",
              "[5 rows x 31 columns]"
            ]
          },
          "metadata": {
            "tags": []
          },
          "execution_count": 5
        }
      ]
    },
    {
      "cell_type": "code",
      "metadata": {
        "id": "VptG21l3ZWSP",
        "colab_type": "code",
        "outputId": "e1714187-6a05-475e-e75d-02519928dd10",
        "colab": {
          "base_uri": "https://localhost:8080/",
          "height": 129
        }
      },
      "source": [
        "y.head()"
      ],
      "execution_count": 6,
      "outputs": [
        {
          "output_type": "execute_result",
          "data": {
            "text/plain": [
              "0     4.5\n",
              "1    16.9\n",
              "2     5.7\n",
              "3     7.7\n",
              "4     5.3\n",
              "Name: fare_amount, dtype: float64"
            ]
          },
          "metadata": {
            "tags": []
          },
          "execution_count": 6
        }
      ]
    },
    {
      "cell_type": "markdown",
      "metadata": {
        "id": "zHzHKPphZWST",
        "colab_type": "text"
      },
      "source": [
        "### E 2.1 Split data into train and test data\n",
        "* use data from 2009-2014 for training and 2015 for evaluation\n"
      ]
    },
    {
      "cell_type": "code",
      "metadata": {
        "id": "CYZPihYgZ3OM",
        "colab_type": "code",
        "outputId": "b8ef54f2-bc7a-4082-bcb3-bd29a615a431",
        "colab": {
          "base_uri": "https://localhost:8080/",
          "height": 443
        }
      },
      "source": [
        "Years = X.groupby(X['pickup_year'])\n",
        "Years.get_group(2009)"
      ],
      "execution_count": 7,
      "outputs": [
        {
          "output_type": "execute_result",
          "data": {
            "text/html": [
              "<div>\n",
              "<style scoped>\n",
              "    .dataframe tbody tr th:only-of-type {\n",
              "        vertical-align: middle;\n",
              "    }\n",
              "\n",
              "    .dataframe tbody tr th {\n",
              "        vertical-align: top;\n",
              "    }\n",
              "\n",
              "    .dataframe thead th {\n",
              "        text-align: right;\n",
              "    }\n",
              "</style>\n",
              "<table border=\"1\" class=\"dataframe\">\n",
              "  <thead>\n",
              "    <tr style=\"text-align: right;\">\n",
              "      <th></th>\n",
              "      <th>pickup_longitude</th>\n",
              "      <th>pickup_latitude</th>\n",
              "      <th>dropoff_longitude</th>\n",
              "      <th>dropoff_latitude</th>\n",
              "      <th>passenger_count</th>\n",
              "      <th>pickup_day</th>\n",
              "      <th>pickup_hour</th>\n",
              "      <th>pickup_day_of_week</th>\n",
              "      <th>pickup_month</th>\n",
              "      <th>pickup_year</th>\n",
              "      <th>is_pickup_JFK</th>\n",
              "      <th>is_dropoff_JFK</th>\n",
              "      <th>is_pickup_EWR</th>\n",
              "      <th>is_dropoff_EWR</th>\n",
              "      <th>is_pickup_la_guardia</th>\n",
              "      <th>is_dropoff_la_guardia</th>\n",
              "      <th>trip_distance</th>\n",
              "      <th>is_pickup_lower_manhattan</th>\n",
              "      <th>is_dropoff_lower_manhattan</th>\n",
              "      <th>pickup_borough_bronx</th>\n",
              "      <th>pickup_borough_brooklyn</th>\n",
              "      <th>pickup_borough_manhattan</th>\n",
              "      <th>pickup_borough_others</th>\n",
              "      <th>pickup_borough_queens</th>\n",
              "      <th>pickup_borough_staten_island</th>\n",
              "      <th>dropoff_borough_bronx</th>\n",
              "      <th>dropoff_borough_brooklyn</th>\n",
              "      <th>dropoff_borough_manhattan</th>\n",
              "      <th>dropoff_borough_others</th>\n",
              "      <th>dropoff_borough_queens</th>\n",
              "      <th>dropoff_borough_staten_island</th>\n",
              "    </tr>\n",
              "  </thead>\n",
              "  <tbody>\n",
              "    <tr>\n",
              "      <th>0</th>\n",
              "      <td>-73.844311</td>\n",
              "      <td>40.721319</td>\n",
              "      <td>-73.841610</td>\n",
              "      <td>40.712278</td>\n",
              "      <td>1</td>\n",
              "      <td>15</td>\n",
              "      <td>17</td>\n",
              "      <td>1</td>\n",
              "      <td>6</td>\n",
              "      <td>2009</td>\n",
              "      <td>0</td>\n",
              "      <td>0</td>\n",
              "      <td>0</td>\n",
              "      <td>0</td>\n",
              "      <td>0</td>\n",
              "      <td>0</td>\n",
              "      <td>0.640487</td>\n",
              "      <td>0</td>\n",
              "      <td>0</td>\n",
              "      <td>0</td>\n",
              "      <td>0</td>\n",
              "      <td>0</td>\n",
              "      <td>0</td>\n",
              "      <td>1</td>\n",
              "      <td>0</td>\n",
              "      <td>0</td>\n",
              "      <td>0</td>\n",
              "      <td>0</td>\n",
              "      <td>0</td>\n",
              "      <td>1</td>\n",
              "      <td>0</td>\n",
              "    </tr>\n",
              "    <tr>\n",
              "      <th>9</th>\n",
              "      <td>-73.980658</td>\n",
              "      <td>40.733873</td>\n",
              "      <td>-73.991540</td>\n",
              "      <td>40.758138</td>\n",
              "      <td>2</td>\n",
              "      <td>2</td>\n",
              "      <td>1</td>\n",
              "      <td>3</td>\n",
              "      <td>9</td>\n",
              "      <td>2009</td>\n",
              "      <td>0</td>\n",
              "      <td>0</td>\n",
              "      <td>0</td>\n",
              "      <td>0</td>\n",
              "      <td>0</td>\n",
              "      <td>0</td>\n",
              "      <td>1.770676</td>\n",
              "      <td>1</td>\n",
              "      <td>0</td>\n",
              "      <td>0</td>\n",
              "      <td>0</td>\n",
              "      <td>1</td>\n",
              "      <td>0</td>\n",
              "      <td>0</td>\n",
              "      <td>0</td>\n",
              "      <td>0</td>\n",
              "      <td>0</td>\n",
              "      <td>1</td>\n",
              "      <td>0</td>\n",
              "      <td>0</td>\n",
              "      <td>0</td>\n",
              "    </tr>\n",
              "    <tr>\n",
              "      <th>11</th>\n",
              "      <td>-73.991601</td>\n",
              "      <td>40.744712</td>\n",
              "      <td>-73.983081</td>\n",
              "      <td>40.744682</td>\n",
              "      <td>2</td>\n",
              "      <td>6</td>\n",
              "      <td>1</td>\n",
              "      <td>5</td>\n",
              "      <td>11</td>\n",
              "      <td>2009</td>\n",
              "      <td>0</td>\n",
              "      <td>0</td>\n",
              "      <td>0</td>\n",
              "      <td>0</td>\n",
              "      <td>0</td>\n",
              "      <td>0</td>\n",
              "      <td>0.446000</td>\n",
              "      <td>0</td>\n",
              "      <td>0</td>\n",
              "      <td>0</td>\n",
              "      <td>0</td>\n",
              "      <td>1</td>\n",
              "      <td>0</td>\n",
              "      <td>0</td>\n",
              "      <td>0</td>\n",
              "      <td>0</td>\n",
              "      <td>0</td>\n",
              "      <td>1</td>\n",
              "      <td>0</td>\n",
              "      <td>0</td>\n",
              "      <td>0</td>\n",
              "    </tr>\n",
              "    <tr>\n",
              "      <th>15</th>\n",
              "      <td>-73.981060</td>\n",
              "      <td>40.737690</td>\n",
              "      <td>-73.994177</td>\n",
              "      <td>40.728412</td>\n",
              "      <td>1</td>\n",
              "      <td>22</td>\n",
              "      <td>16</td>\n",
              "      <td>3</td>\n",
              "      <td>7</td>\n",
              "      <td>2009</td>\n",
              "      <td>0</td>\n",
              "      <td>0</td>\n",
              "      <td>0</td>\n",
              "      <td>0</td>\n",
              "      <td>0</td>\n",
              "      <td>0</td>\n",
              "      <td>0.939454</td>\n",
              "      <td>1</td>\n",
              "      <td>1</td>\n",
              "      <td>0</td>\n",
              "      <td>0</td>\n",
              "      <td>1</td>\n",
              "      <td>0</td>\n",
              "      <td>0</td>\n",
              "      <td>0</td>\n",
              "      <td>0</td>\n",
              "      <td>0</td>\n",
              "      <td>1</td>\n",
              "      <td>0</td>\n",
              "      <td>0</td>\n",
              "      <td>0</td>\n",
              "    </tr>\n",
              "    <tr>\n",
              "      <th>20</th>\n",
              "      <td>-73.991707</td>\n",
              "      <td>40.770505</td>\n",
              "      <td>-73.985459</td>\n",
              "      <td>40.763671</td>\n",
              "      <td>1</td>\n",
              "      <td>6</td>\n",
              "      <td>18</td>\n",
              "      <td>4</td>\n",
              "      <td>8</td>\n",
              "      <td>2009</td>\n",
              "      <td>0</td>\n",
              "      <td>0</td>\n",
              "      <td>0</td>\n",
              "      <td>0</td>\n",
              "      <td>0</td>\n",
              "      <td>0</td>\n",
              "      <td>0.574331</td>\n",
              "      <td>0</td>\n",
              "      <td>0</td>\n",
              "      <td>0</td>\n",
              "      <td>0</td>\n",
              "      <td>1</td>\n",
              "      <td>0</td>\n",
              "      <td>0</td>\n",
              "      <td>0</td>\n",
              "      <td>0</td>\n",
              "      <td>0</td>\n",
              "      <td>1</td>\n",
              "      <td>0</td>\n",
              "      <td>0</td>\n",
              "      <td>0</td>\n",
              "    </tr>\n",
              "    <tr>\n",
              "      <th>...</th>\n",
              "      <td>...</td>\n",
              "      <td>...</td>\n",
              "      <td>...</td>\n",
              "      <td>...</td>\n",
              "      <td>...</td>\n",
              "      <td>...</td>\n",
              "      <td>...</td>\n",
              "      <td>...</td>\n",
              "      <td>...</td>\n",
              "      <td>...</td>\n",
              "      <td>...</td>\n",
              "      <td>...</td>\n",
              "      <td>...</td>\n",
              "      <td>...</td>\n",
              "      <td>...</td>\n",
              "      <td>...</td>\n",
              "      <td>...</td>\n",
              "      <td>...</td>\n",
              "      <td>...</td>\n",
              "      <td>...</td>\n",
              "      <td>...</td>\n",
              "      <td>...</td>\n",
              "      <td>...</td>\n",
              "      <td>...</td>\n",
              "      <td>...</td>\n",
              "      <td>...</td>\n",
              "      <td>...</td>\n",
              "      <td>...</td>\n",
              "      <td>...</td>\n",
              "      <td>...</td>\n",
              "      <td>...</td>\n",
              "    </tr>\n",
              "    <tr>\n",
              "      <th>399963</th>\n",
              "      <td>-73.992709</td>\n",
              "      <td>40.740467</td>\n",
              "      <td>-73.972586</td>\n",
              "      <td>40.754990</td>\n",
              "      <td>1</td>\n",
              "      <td>19</td>\n",
              "      <td>1</td>\n",
              "      <td>4</td>\n",
              "      <td>2</td>\n",
              "      <td>2009</td>\n",
              "      <td>0</td>\n",
              "      <td>0</td>\n",
              "      <td>0</td>\n",
              "      <td>0</td>\n",
              "      <td>0</td>\n",
              "      <td>0</td>\n",
              "      <td>1.454784</td>\n",
              "      <td>1</td>\n",
              "      <td>0</td>\n",
              "      <td>0</td>\n",
              "      <td>0</td>\n",
              "      <td>1</td>\n",
              "      <td>0</td>\n",
              "      <td>0</td>\n",
              "      <td>0</td>\n",
              "      <td>0</td>\n",
              "      <td>0</td>\n",
              "      <td>1</td>\n",
              "      <td>0</td>\n",
              "      <td>0</td>\n",
              "      <td>0</td>\n",
              "    </tr>\n",
              "    <tr>\n",
              "      <th>399986</th>\n",
              "      <td>-74.008813</td>\n",
              "      <td>40.713915</td>\n",
              "      <td>-73.979168</td>\n",
              "      <td>40.757925</td>\n",
              "      <td>1</td>\n",
              "      <td>12</td>\n",
              "      <td>9</td>\n",
              "      <td>2</td>\n",
              "      <td>5</td>\n",
              "      <td>2009</td>\n",
              "      <td>0</td>\n",
              "      <td>0</td>\n",
              "      <td>0</td>\n",
              "      <td>0</td>\n",
              "      <td>0</td>\n",
              "      <td>0</td>\n",
              "      <td>3.413977</td>\n",
              "      <td>1</td>\n",
              "      <td>0</td>\n",
              "      <td>0</td>\n",
              "      <td>0</td>\n",
              "      <td>1</td>\n",
              "      <td>0</td>\n",
              "      <td>0</td>\n",
              "      <td>0</td>\n",
              "      <td>0</td>\n",
              "      <td>0</td>\n",
              "      <td>1</td>\n",
              "      <td>0</td>\n",
              "      <td>0</td>\n",
              "      <td>0</td>\n",
              "    </tr>\n",
              "    <tr>\n",
              "      <th>399989</th>\n",
              "      <td>-73.983200</td>\n",
              "      <td>40.722297</td>\n",
              "      <td>-73.982277</td>\n",
              "      <td>40.735242</td>\n",
              "      <td>1</td>\n",
              "      <td>17</td>\n",
              "      <td>22</td>\n",
              "      <td>2</td>\n",
              "      <td>3</td>\n",
              "      <td>2009</td>\n",
              "      <td>0</td>\n",
              "      <td>0</td>\n",
              "      <td>0</td>\n",
              "      <td>0</td>\n",
              "      <td>0</td>\n",
              "      <td>0</td>\n",
              "      <td>0.895718</td>\n",
              "      <td>1</td>\n",
              "      <td>1</td>\n",
              "      <td>0</td>\n",
              "      <td>0</td>\n",
              "      <td>1</td>\n",
              "      <td>0</td>\n",
              "      <td>0</td>\n",
              "      <td>0</td>\n",
              "      <td>0</td>\n",
              "      <td>0</td>\n",
              "      <td>1</td>\n",
              "      <td>0</td>\n",
              "      <td>0</td>\n",
              "      <td>0</td>\n",
              "    </tr>\n",
              "    <tr>\n",
              "      <th>399994</th>\n",
              "      <td>-73.951399</td>\n",
              "      <td>40.770201</td>\n",
              "      <td>-73.973983</td>\n",
              "      <td>40.763075</td>\n",
              "      <td>1</td>\n",
              "      <td>2</td>\n",
              "      <td>11</td>\n",
              "      <td>4</td>\n",
              "      <td>7</td>\n",
              "      <td>2009</td>\n",
              "      <td>0</td>\n",
              "      <td>0</td>\n",
              "      <td>0</td>\n",
              "      <td>0</td>\n",
              "      <td>0</td>\n",
              "      <td>0</td>\n",
              "      <td>1.280272</td>\n",
              "      <td>0</td>\n",
              "      <td>0</td>\n",
              "      <td>0</td>\n",
              "      <td>0</td>\n",
              "      <td>1</td>\n",
              "      <td>0</td>\n",
              "      <td>0</td>\n",
              "      <td>0</td>\n",
              "      <td>0</td>\n",
              "      <td>0</td>\n",
              "      <td>1</td>\n",
              "      <td>0</td>\n",
              "      <td>0</td>\n",
              "      <td>0</td>\n",
              "    </tr>\n",
              "    <tr>\n",
              "      <th>399999</th>\n",
              "      <td>-73.969164</td>\n",
              "      <td>40.763518</td>\n",
              "      <td>-73.956014</td>\n",
              "      <td>40.781614</td>\n",
              "      <td>2</td>\n",
              "      <td>8</td>\n",
              "      <td>11</td>\n",
              "      <td>4</td>\n",
              "      <td>10</td>\n",
              "      <td>2009</td>\n",
              "      <td>0</td>\n",
              "      <td>0</td>\n",
              "      <td>0</td>\n",
              "      <td>0</td>\n",
              "      <td>0</td>\n",
              "      <td>0</td>\n",
              "      <td>1.427139</td>\n",
              "      <td>0</td>\n",
              "      <td>0</td>\n",
              "      <td>0</td>\n",
              "      <td>0</td>\n",
              "      <td>1</td>\n",
              "      <td>0</td>\n",
              "      <td>0</td>\n",
              "      <td>0</td>\n",
              "      <td>0</td>\n",
              "      <td>0</td>\n",
              "      <td>1</td>\n",
              "      <td>0</td>\n",
              "      <td>0</td>\n",
              "      <td>0</td>\n",
              "    </tr>\n",
              "  </tbody>\n",
              "</table>\n",
              "<p>62037 rows × 31 columns</p>\n",
              "</div>"
            ],
            "text/plain": [
              "        pickup_longitude  ...  dropoff_borough_staten_island\n",
              "0             -73.844311  ...                              0\n",
              "9             -73.980658  ...                              0\n",
              "11            -73.991601  ...                              0\n",
              "15            -73.981060  ...                              0\n",
              "20            -73.991707  ...                              0\n",
              "...                  ...  ...                            ...\n",
              "399963        -73.992709  ...                              0\n",
              "399986        -74.008813  ...                              0\n",
              "399989        -73.983200  ...                              0\n",
              "399994        -73.951399  ...                              0\n",
              "399999        -73.969164  ...                              0\n",
              "\n",
              "[62037 rows x 31 columns]"
            ]
          },
          "metadata": {
            "tags": []
          },
          "execution_count": 7
        }
      ]
    },
    {
      "cell_type": "code",
      "metadata": {
        "id": "sLyd-0zhfdqS",
        "colab_type": "code",
        "colab": {}
      },
      "source": [
        "#X_test = Years.get_group(2015)\n",
        "#X_train = X.drop(Years.get_group(2015).index)\n",
        "X_train=X[X['pickup_year']<2015]\n",
        "y_train=y[X['pickup_year']<2015]\n",
        "X_test=X[X['pickup_year']==2015]\n",
        "y_test=y[X['pickup_year']==2015]"
      ],
      "execution_count": 0,
      "outputs": []
    },
    {
      "cell_type": "code",
      "metadata": {
        "id": "_j33M92PasDO",
        "colab_type": "code",
        "colab": {}
      },
      "source": [
        "#y_grouped = y.groupby(X['pickup_year'])\n",
        "#y_test = y_grouped.get_group(2015)\n",
        "#y_train = y.drop(y_grouped.get_group(2015).index)"
      ],
      "execution_count": 0,
      "outputs": []
    },
    {
      "cell_type": "code",
      "metadata": {
        "id": "iFRqSrvcU0UN",
        "colab_type": "code",
        "colab": {}
      },
      "source": [
        "#print(X_train.shape())"
      ],
      "execution_count": 0,
      "outputs": []
    },
    {
      "cell_type": "markdown",
      "metadata": {
        "id": "zdWBku-7ZWSU",
        "colab_type": "text"
      },
      "source": [
        "### E 2.2 Train a Random Forest Regression Model\n",
        "* train model using [RF regression](https://scikit-learn.org/stable/modules/generated/sklearn.ensemble.RandomForestRegressor.html#sklearn.ensemble.RandomForestRegressor)\n",
        "* optimize the model parameters (#trees, depth, vars per split, ...) and evaluate the [MSE](https://scikit-learn.org/stable/modules/generated/sklearn.metrics.mean_squared_error.html#sklearn.metrics.mean_squared_error) on train and test data\n",
        "* Analyze the model error: are there typical settings where the model fails?"
      ]
    },
    {
      "cell_type": "code",
      "metadata": {
        "id": "fXur8t9igDN4",
        "colab_type": "code",
        "colab": {}
      },
      "source": [
        "from sklearn.ensemble import RandomForestRegressor\n",
        "from sklearn.datasets import make_regression"
      ],
      "execution_count": 0,
      "outputs": []
    },
    {
      "cell_type": "code",
      "metadata": {
        "id": "8NSQfZssgQwe",
        "colab_type": "code",
        "colab": {}
      },
      "source": [
        "X_train, y_train = make_regression(n_features=31, n_informative=2, random_state=0, shuffle=False)"
      ],
      "execution_count": 0,
      "outputs": []
    },
    {
      "cell_type": "code",
      "metadata": {
        "id": "4wlJ-yRIg6XS",
        "colab_type": "code",
        "colab": {}
      },
      "source": [
        "regr = RandomForestRegressor(n_jobs=10, n_estimators=20)"
      ],
      "execution_count": 0,
      "outputs": []
    },
    {
      "cell_type": "code",
      "metadata": {
        "id": "W7AJsPLqg_jH",
        "colab_type": "code",
        "outputId": "ecfdefc7-df9c-4bc4-c0be-cc08a278afc4",
        "colab": {
          "base_uri": "https://localhost:8080/",
          "height": 148
        }
      },
      "source": [
        "regr.fit(X_train, y_train)"
      ],
      "execution_count": 114,
      "outputs": [
        {
          "output_type": "execute_result",
          "data": {
            "text/plain": [
              "RandomForestRegressor(bootstrap=True, ccp_alpha=0.0, criterion='mse',\n",
              "                      max_depth=None, max_features='auto', max_leaf_nodes=None,\n",
              "                      max_samples=None, min_impurity_decrease=0.0,\n",
              "                      min_impurity_split=None, min_samples_leaf=1,\n",
              "                      min_samples_split=2, min_weight_fraction_leaf=0.0,\n",
              "                      n_estimators=20, n_jobs=10, oob_score=False,\n",
              "                      random_state=None, verbose=0, warm_start=False)"
            ]
          },
          "metadata": {
            "tags": []
          },
          "execution_count": 114
        }
      ]
    },
    {
      "cell_type": "code",
      "metadata": {
        "id": "4xyLxG9whF8u",
        "colab_type": "code",
        "colab": {
          "base_uri": "https://localhost:8080/",
          "height": 36
        },
        "outputId": "00a408cc-d7af-49b5-c84e-38d70d36f581"
      },
      "source": [
        "from sklearn.metrics import mean_squared_error\n",
        "pred = regr.predict(X_test)\n",
        "mean_squared_error(y_test, pred)"
      ],
      "execution_count": 115,
      "outputs": [
        {
          "output_type": "execute_result",
          "data": {
            "text/plain": [
              "9550.455340694389"
            ]
          },
          "metadata": {
            "tags": []
          },
          "execution_count": 115
        }
      ]
    },
    {
      "cell_type": "code",
      "metadata": {
        "id": "_feJiSRnV_zY",
        "colab_type": "code",
        "colab": {}
      },
      "source": [
        "dif = np.abs(y_test - pred)"
      ],
      "execution_count": 0,
      "outputs": []
    },
    {
      "cell_type": "code",
      "metadata": {
        "id": "nooZpNNhWFh4",
        "colab_type": "code",
        "colab": {
          "base_uri": "https://localhost:8080/",
          "height": 1000
        },
        "outputId": "8bcae070-7e62-4cc2-c9f0-ffeb94b7ad88"
      },
      "source": [
        "import matplotlib.pyplot as plt\n",
        "plt.hist(dif, bins=100)"
      ],
      "execution_count": 117,
      "outputs": [
        {
          "output_type": "execute_result",
          "data": {
            "text/plain": [
              "(array([4.000e+00, 1.000e+00, 5.000e+00, 5.000e+00, 1.000e+00, 7.000e+00,\n",
              "        6.000e+00, 4.000e+00, 1.300e+01, 8.000e+00, 1.000e+01, 9.000e+00,\n",
              "        5.000e+00, 1.200e+01, 2.530e+02, 1.890e+02, 9.200e+01, 9.000e+01,\n",
              "        1.000e+02, 1.270e+02, 2.090e+02, 3.080e+02, 3.660e+02, 4.010e+02,\n",
              "        5.020e+02, 8.400e+02, 1.459e+03, 2.404e+03, 3.672e+03, 6.998e+03,\n",
              "        8.054e+03, 1.713e+03, 2.100e+01, 0.000e+00, 0.000e+00, 1.000e+00,\n",
              "        0.000e+00, 0.000e+00, 0.000e+00, 0.000e+00, 0.000e+00, 0.000e+00,\n",
              "        0.000e+00, 0.000e+00, 0.000e+00, 0.000e+00, 0.000e+00, 0.000e+00,\n",
              "        0.000e+00, 0.000e+00, 0.000e+00, 0.000e+00, 0.000e+00, 0.000e+00,\n",
              "        0.000e+00, 0.000e+00, 0.000e+00, 0.000e+00, 0.000e+00, 0.000e+00,\n",
              "        0.000e+00, 0.000e+00, 0.000e+00, 0.000e+00, 0.000e+00, 0.000e+00,\n",
              "        0.000e+00, 0.000e+00, 0.000e+00, 0.000e+00, 0.000e+00, 0.000e+00,\n",
              "        0.000e+00, 0.000e+00, 0.000e+00, 0.000e+00, 0.000e+00, 0.000e+00,\n",
              "        0.000e+00, 0.000e+00, 0.000e+00, 0.000e+00, 0.000e+00, 0.000e+00,\n",
              "        0.000e+00, 0.000e+00, 0.000e+00, 0.000e+00, 0.000e+00, 0.000e+00,\n",
              "        0.000e+00, 0.000e+00, 0.000e+00, 0.000e+00, 0.000e+00, 0.000e+00,\n",
              "        0.000e+00, 0.000e+00, 0.000e+00, 1.000e+00]),\n",
              " array([  0.79866381,   4.18519054,   7.57171726,  10.95824399,\n",
              "         14.34477071,  17.73129743,  21.11782416,  24.50435088,\n",
              "         27.8908776 ,  31.27740433,  34.66393105,  38.05045778,\n",
              "         41.4369845 ,  44.82351122,  48.21003795,  51.59656467,\n",
              "         54.98309139,  58.36961812,  61.75614484,  65.14267156,\n",
              "         68.52919829,  71.91572501,  75.30225174,  78.68877846,\n",
              "         82.07530518,  85.46183191,  88.84835863,  92.23488535,\n",
              "         95.62141208,  99.0079388 , 102.39446553, 105.78099225,\n",
              "        109.16751897, 112.5540457 , 115.94057242, 119.32709914,\n",
              "        122.71362587, 126.10015259, 129.48667932, 132.87320604,\n",
              "        136.25973276, 139.64625949, 143.03278621, 146.41931293,\n",
              "        149.80583966, 153.19236638, 156.57889311, 159.96541983,\n",
              "        163.35194655, 166.73847328, 170.125     , 173.51152672,\n",
              "        176.89805345, 180.28458017, 183.67110689, 187.05763362,\n",
              "        190.44416034, 193.83068707, 197.21721379, 200.60374051,\n",
              "        203.99026724, 207.37679396, 210.76332068, 214.14984741,\n",
              "        217.53637413, 220.92290086, 224.30942758, 227.6959543 ,\n",
              "        231.08248103, 234.46900775, 237.85553447, 241.2420612 ,\n",
              "        244.62858792, 248.01511465, 251.40164137, 254.78816809,\n",
              "        258.17469482, 261.56122154, 264.94774826, 268.33427499,\n",
              "        271.72080171, 275.10732844, 278.49385516, 281.88038188,\n",
              "        285.26690861, 288.65343533, 292.03996205, 295.42648878,\n",
              "        298.8130155 , 302.19954222, 305.58606895, 308.97259567,\n",
              "        312.3591224 , 315.74564912, 319.13217584, 322.51870257,\n",
              "        325.90522929, 329.29175601, 332.67828274, 336.06480946,\n",
              "        339.45133619]),\n",
              " <a list of 100 Patch objects>)"
            ]
          },
          "metadata": {
            "tags": []
          },
          "execution_count": 117
        },
        {
          "output_type": "display_data",
          "data": {
            "image/png": "[encoded data removed]",
            "text/plain": [
              "<Figure size 432x288 with 1 Axes>"
            ]
          },
          "metadata": {
            "tags": [],
            "needs_background": "light"
          }
        }
      ]
    },
    {
      "cell_type": "code",
      "metadata": {
        "id": "LeciyYa4WHui",
        "colab_type": "code",
        "colab": {}
      },
      "source": [
        "dif_zoom = dif[dif<150]"
      ],
      "execution_count": 0,
      "outputs": []
    },
    {
      "cell_type": "code",
      "metadata": {
        "id": "Fs_hzXZ4h-g_",
        "colab_type": "code",
        "colab": {
          "base_uri": "https://localhost:8080/",
          "height": 1000
        },
        "outputId": "a6668ec6-443f-4ed0-8029-018c8daa3669"
      },
      "source": [
        "plt.hist(dif_zoom, bins=100)"
      ],
      "execution_count": 119,
      "outputs": [
        {
          "output_type": "execute_result",
          "data": {
            "text/plain": [
              "(array([2.000e+00, 1.000e+00, 1.000e+00, 1.000e+00, 0.000e+00, 0.000e+00,\n",
              "        0.000e+00, 4.000e+00, 2.000e+00, 3.000e+00, 1.000e+00, 1.000e+00,\n",
              "        0.000e+00, 0.000e+00, 2.000e+00, 5.000e+00, 0.000e+00, 1.000e+00,\n",
              "        2.000e+00, 5.000e+00, 0.000e+00, 1.000e+00, 3.000e+00, 5.000e+00,\n",
              "        6.000e+00, 5.000e+00, 0.000e+00, 4.000e+00, 4.000e+00, 3.000e+00,\n",
              "        2.000e+00, 4.000e+00, 4.000e+00, 2.000e+00, 1.000e+00, 3.000e+00,\n",
              "        5.000e+00, 3.000e+00, 4.000e+00, 4.700e+01, 1.870e+02, 2.600e+01,\n",
              "        7.900e+01, 6.900e+01, 4.300e+01, 4.300e+01, 3.100e+01, 4.200e+01,\n",
              "        1.500e+01, 3.800e+01, 3.300e+01, 4.400e+01, 3.400e+01, 3.200e+01,\n",
              "        5.100e+01, 6.000e+01, 7.700e+01, 6.700e+01, 1.020e+02, 9.800e+01,\n",
              "        1.180e+02, 1.390e+02, 1.110e+02, 1.470e+02, 1.270e+02, 1.570e+02,\n",
              "        1.300e+02, 1.920e+02, 2.030e+02, 1.840e+02, 3.170e+02, 2.690e+02,\n",
              "        4.680e+02, 4.210e+02, 7.000e+02, 6.140e+02, 7.090e+02, 1.157e+03,\n",
              "        1.001e+03, 1.826e+03, 1.554e+03, 2.740e+03, 2.280e+03, 2.517e+03,\n",
              "        3.693e+03, 2.160e+03, 2.123e+03, 3.720e+02, 1.250e+02, 1.800e+01,\n",
              "        8.000e+00, 0.000e+00, 0.000e+00, 0.000e+00, 0.000e+00, 0.000e+00,\n",
              "        0.000e+00, 0.000e+00, 0.000e+00, 1.000e+00]),\n",
              " array([  0.79866381,   2.01567367,   3.23268352,   4.44969337,\n",
              "          5.66670322,   6.88371308,   8.10072293,   9.31773278,\n",
              "         10.53474263,  11.75175248,  12.96876234,  14.18577219,\n",
              "         15.40278204,  16.61979189,  17.83680175,  19.0538116 ,\n",
              "         20.27082145,  21.4878313 ,  22.70484115,  23.92185101,\n",
              "         25.13886086,  26.35587071,  27.57288056,  28.78989042,\n",
              "         30.00690027,  31.22391012,  32.44091997,  33.65792982,\n",
              "         34.87493968,  36.09194953,  37.30895938,  38.52596923,\n",
              "         39.74297909,  40.95998894,  42.17699879,  43.39400864,\n",
              "         44.61101849,  45.82802835,  47.0450382 ,  48.26204805,\n",
              "         49.4790579 ,  50.69606776,  51.91307761,  53.13008746,\n",
              "         54.34709731,  55.56410716,  56.78111702,  57.99812687,\n",
              "         59.21513672,  60.43214657,  61.64915643,  62.86616628,\n",
              "         64.08317613,  65.30018598,  66.51719583,  67.73420569,\n",
              "         68.95121554,  70.16822539,  71.38523524,  72.6022451 ,\n",
              "         73.81925495,  75.0362648 ,  76.25327465,  77.4702845 ,\n",
              "         78.68729436,  79.90430421,  81.12131406,  82.33832391,\n",
              "         83.55533377,  84.77234362,  85.98935347,  87.20636332,\n",
              "         88.42337317,  89.64038303,  90.85739288,  92.07440273,\n",
              "         93.29141258,  94.50842244,  95.72543229,  96.94244214,\n",
              "         98.15945199,  99.37646184, 100.5934717 , 101.81048155,\n",
              "        103.0274914 , 104.24450125, 105.46151111, 106.67852096,\n",
              "        107.89553081, 109.11254066, 110.32955051, 111.54656037,\n",
              "        112.76357022, 113.98058007, 115.19758992, 116.41459978,\n",
              "        117.63160963, 118.84861948, 120.06562933, 121.28263918,\n",
              "        122.49964904]),\n",
              " <a list of 100 Patch objects>)"
            ]
          },
          "metadata": {
            "tags": []
          },
          "execution_count": 119
        },
        {
          "output_type": "display_data",
          "data": {
            "image/png": "[encoded data removed]",
            "text/plain": [
              "<Figure size 432x288 with 1 Axes>"
            ]
          },
          "metadata": {
            "tags": [],
            "needs_background": "light"
          }
        }
      ]
    },
    {
      "cell_type": "code",
      "metadata": {
        "id": "r2yWB8hVWNnI",
        "colab_type": "code",
        "colab": {
          "base_uri": "https://localhost:8080/",
          "height": 36
        },
        "outputId": "ba85cdba-1d11-43f7-9a72-daec63bcfb95"
      },
      "source": [
        "np.median(dif)"
      ],
      "execution_count": 120,
      "outputs": [
        {
          "output_type": "execute_result",
          "data": {
            "text/plain": [
              "100.54866381447407"
            ]
          },
          "metadata": {
            "tags": []
          },
          "execution_count": 120
        }
      ]
    },
    {
      "cell_type": "code",
      "metadata": {
        "id": "AyBml59HXnqg",
        "colab_type": "code",
        "colab": {}
      },
      "source": [
        ""
      ],
      "execution_count": 0,
      "outputs": []
    }
  ]
}