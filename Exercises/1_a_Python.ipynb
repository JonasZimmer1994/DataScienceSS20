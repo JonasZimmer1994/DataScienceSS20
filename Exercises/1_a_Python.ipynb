{
  "nbformat": 4,
  "nbformat_minor": 0,
  "metadata": {
    "kernelspec": {
      "display_name": "Python 3",
      "language": "python",
      "name": "python3"
    },
    "language_info": {
      "codemirror_mode": {
        "name": "ipython",
        "version": 3
      },
      "file_extension": ".py",
      "mimetype": "text/x-python",
      "name": "python",
      "nbconvert_exporter": "python",
      "pygments_lexer": "ipython3",
      "version": "3.7.1"
    },
    "colab": {
      "name": "1_a_Python.ipynb",
      "provenance": []
    }
  },
  "cells": [
    {
      "cell_type": "markdown",
      "metadata": {
        "id": "GRtqj4olGiwL",
        "colab_type": "text"
      },
      "source": [
        "# Exercise I: Your own Python module "
      ]
    },
    {
      "cell_type": "code",
      "metadata": {
        "id": "ZFcCwSFfGiwY",
        "colab_type": "code",
        "outputId": "ebb23e70-27d7-4313-fd9c-51347d575ae6",
        "colab": {
          "base_uri": "https://localhost:8080/",
          "height": 164
        }
      },
      "source": [
        "#check if notebook runs in colab\n",
        "import sys\n",
        "IN_COLAB = 'google.colab' in sys.modules\n",
        "print('running in Colab:',IN_COLAB)\n",
        "path='..'\n",
        "if IN_COLAB:\n",
        "  #in colab, we need to clone the data from the repo\n",
        "  !git clone https://github.com/JonasZimmer1994/DataScienceSS20.git\n",
        "  path='DataScienceSS20'"
      ],
      "execution_count": 1,
      "outputs": [
        {
          "output_type": "stream",
          "text": [
            "running in Colab: True\n",
            "Cloning into 'DataScienceSS20'...\n",
            "remote: Enumerating objects: 19, done.\u001b[K\n",
            "remote: Counting objects: 100% (19/19), done.\u001b[K\n",
            "remote: Compressing objects: 100% (14/14), done.\u001b[K\n",
            "remote: Total 284 (delta 10), reused 12 (delta 5), pack-reused 265\u001b[K\n",
            "Receiving objects: 100% (284/284), 45.52 MiB | 23.89 MiB/s, done.\n",
            "Resolving deltas: 100% (105/105), done.\n"
          ],
          "name": "stdout"
        }
      ]
    },
    {
      "cell_type": "markdown",
      "metadata": {
        "id": "_IX7GZUdGiw7",
        "colab_type": "text"
      },
      "source": [
        "Write your own python module (choose a name) with the following properties:\n",
        "\n",
        "1. start new python file for the module\n",
        "2. define a class ***ListKeeper*** with the following properties and API:\n",
        "   1. ***Listkeeper*** strores named lists (hint: use dictionaries) \n",
        "   2. it initializes with a list named *example*: [1,2,3,4,5]\n",
        "   3. ``show()`` returns all list names\n",
        "   4. ``add(name, list)`` adds a new list\n",
        "   5. ``delete(name)`` deletes list\n",
        "   6. ``sort(name)`` returns the sorted list *name*\n",
        "   7. ``append(name, list)`` appends *list* to *name* \n",
        "3. add comments and documentation to your class\n",
        "4. Import your module in this notebook\n",
        "5. write tests to check the functionality of your class "
      ]
    },
    {
      "cell_type": "code",
      "metadata": {
        "id": "UjHdgDO93eWa",
        "colab_type": "code",
        "colab": {
          "base_uri": "https://localhost:8080/",
          "height": 35
        },
        "outputId": "29ab4947-bf10-4722-f466-80d9db0b184a"
      },
      "source": [
        "%cd DataScienceSS20/Exercises/"
      ],
      "execution_count": 2,
      "outputs": [
        {
          "output_type": "stream",
          "text": [
            "/content/DataScienceSS20/Exercises\n"
          ],
          "name": "stdout"
        }
      ]
    },
    {
      "cell_type": "code",
      "metadata": {
        "id": "UD-HgxKU4Kiy",
        "colab_type": "code",
        "colab": {}
      },
      "source": [
        "import JonasModule as j"
      ],
      "execution_count": 0,
      "outputs": []
    },
    {
      "cell_type": "markdown",
      "metadata": {
        "id": "18LvxuNFBJnP",
        "colab_type": "text"
      },
      "source": [
        "creating an Instance"
      ]
    },
    {
      "cell_type": "code",
      "metadata": {
        "id": "nNq05TU56byd",
        "colab_type": "code",
        "colab": {}
      },
      "source": [
        "dict = j.ListKeeper"
      ],
      "execution_count": 0,
      "outputs": []
    },
    {
      "cell_type": "code",
      "metadata": {
        "id": "u3xv5Qz-7j-e",
        "colab_type": "code",
        "colab": {
          "base_uri": "https://localhost:8080/",
          "height": 35
        },
        "outputId": "821491cc-f10c-45b0-dda4-fb0c94929410"
      },
      "source": [
        "dict.show(dict)"
      ],
      "execution_count": 5,
      "outputs": [
        {
          "output_type": "execute_result",
          "data": {
            "text/plain": [
              "[]"
            ]
          },
          "metadata": {
            "tags": []
          },
          "execution_count": 5
        }
      ]
    },
    {
      "cell_type": "markdown",
      "metadata": {
        "id": "oEgA1RQABL79",
        "colab_type": "text"
      },
      "source": [
        "create two Lists, to test the module"
      ]
    },
    {
      "cell_type": "code",
      "metadata": {
        "id": "iJAwTWPu4xpY",
        "colab_type": "code",
        "colab": {}
      },
      "source": [
        "testList=[2,3,4, 7,6,3,22,4,3]\n",
        "testList2=[3,4,5]"
      ],
      "execution_count": 0,
      "outputs": []
    },
    {
      "cell_type": "markdown",
      "metadata": {
        "id": "IhF11WeSBPYM",
        "colab_type": "text"
      },
      "source": [
        "add both lists"
      ]
    },
    {
      "cell_type": "code",
      "metadata": {
        "id": "lEnXFUgI4Mxk",
        "colab_type": "code",
        "colab": {}
      },
      "source": [
        "dict.add(dict, 'test', testList)\n",
        "dict.add(dict, 'test2', testList2)"
      ],
      "execution_count": 0,
      "outputs": []
    },
    {
      "cell_type": "markdown",
      "metadata": {
        "id": "6zjZamVOBQ1f",
        "colab_type": "text"
      },
      "source": [
        "show that both lists were added"
      ]
    },
    {
      "cell_type": "code",
      "metadata": {
        "id": "kPThf2be5WQZ",
        "colab_type": "code",
        "colab": {
          "base_uri": "https://localhost:8080/",
          "height": 35
        },
        "outputId": "e771786b-4396-4ab5-d777-fe08efa307a6"
      },
      "source": [
        "dict.show(dict)"
      ],
      "execution_count": 9,
      "outputs": [
        {
          "output_type": "execute_result",
          "data": {
            "text/plain": [
              "['test', 'test2']"
            ]
          },
          "metadata": {
            "tags": []
          },
          "execution_count": 9
        }
      ]
    },
    {
      "cell_type": "markdown",
      "metadata": {
        "id": "A2XYVc6iBUo8",
        "colab_type": "text"
      },
      "source": [
        "look inside one list"
      ]
    },
    {
      "cell_type": "code",
      "metadata": {
        "id": "PnSEl5_1874c",
        "colab_type": "code",
        "colab": {
          "base_uri": "https://localhost:8080/",
          "height": 35
        },
        "outputId": "ec3ed784-9a18-4c41-cbf0-3fe392bf2230"
      },
      "source": [
        "dict.getList(dict, 'test')"
      ],
      "execution_count": 10,
      "outputs": [
        {
          "output_type": "execute_result",
          "data": {
            "text/plain": [
              "[2, 3, 4, 7, 6, 3, 22, 4, 3]"
            ]
          },
          "metadata": {
            "tags": []
          },
          "execution_count": 10
        }
      ]
    },
    {
      "cell_type": "markdown",
      "metadata": {
        "id": "LcAA5F6ZBXU6",
        "colab_type": "text"
      },
      "source": [
        "sort the list"
      ]
    },
    {
      "cell_type": "code",
      "metadata": {
        "id": "T2lcHSGw-t73",
        "colab_type": "code",
        "colab": {}
      },
      "source": [
        "dict.sort(dict, 'test')"
      ],
      "execution_count": 0,
      "outputs": []
    },
    {
      "cell_type": "markdown",
      "metadata": {
        "id": "bTukybjcBY7t",
        "colab_type": "text"
      },
      "source": [
        "look at the result of the sort"
      ]
    },
    {
      "cell_type": "code",
      "metadata": {
        "id": "1rJcS9v3-xVm",
        "colab_type": "code",
        "colab": {
          "base_uri": "https://localhost:8080/",
          "height": 35
        },
        "outputId": "36982e75-77ad-4b57-d4a6-9934dccc8234"
      },
      "source": [
        "dict.getList(dict, 'test')"
      ],
      "execution_count": 12,
      "outputs": [
        {
          "output_type": "execute_result",
          "data": {
            "text/plain": [
              "[2, 3, 3, 3, 4, 4, 6, 7, 22]"
            ]
          },
          "metadata": {
            "tags": []
          },
          "execution_count": 12
        }
      ]
    },
    {
      "cell_type": "markdown",
      "metadata": {
        "id": "VKVYOYrCBa6e",
        "colab_type": "text"
      },
      "source": [
        "append the first list with the secend with the extend function, to not get a nested list"
      ]
    },
    {
      "cell_type": "code",
      "metadata": {
        "id": "Ku12js3z-3vl",
        "colab_type": "code",
        "colab": {}
      },
      "source": [
        "dict.append(dict, 'test', testList2)"
      ],
      "execution_count": 0,
      "outputs": []
    },
    {
      "cell_type": "markdown",
      "metadata": {
        "id": "bwSit53RBmYc",
        "colab_type": "text"
      },
      "source": [
        "look at the result"
      ]
    },
    {
      "cell_type": "code",
      "metadata": {
        "id": "iCEBO3---9_0",
        "colab_type": "code",
        "colab": {
          "base_uri": "https://localhost:8080/",
          "height": 35
        },
        "outputId": "27f3f950-59a9-4ea2-f1bc-cdda57949c18"
      },
      "source": [
        "dict.getList(dict, 'test')"
      ],
      "execution_count": 14,
      "outputs": [
        {
          "output_type": "execute_result",
          "data": {
            "text/plain": [
              "[2, 3, 3, 3, 4, 4, 6, 7, 22, 3, 4, 5]"
            ]
          },
          "metadata": {
            "tags": []
          },
          "execution_count": 14
        }
      ]
    },
    {
      "cell_type": "markdown",
      "metadata": {
        "id": "8nJ5FYuZBn78",
        "colab_type": "text"
      },
      "source": [
        "delete the second list"
      ]
    },
    {
      "cell_type": "code",
      "metadata": {
        "id": "7ro4KOPjA4Pv",
        "colab_type": "code",
        "colab": {}
      },
      "source": [
        "dict.delete(dict, 'test2')"
      ],
      "execution_count": 0,
      "outputs": []
    },
    {
      "cell_type": "markdown",
      "metadata": {
        "id": "9RPepg6iBpwa",
        "colab_type": "text"
      },
      "source": [
        "show the ListKeeper in the end"
      ]
    },
    {
      "cell_type": "code",
      "metadata": {
        "id": "cGWyLkkABDAP",
        "colab_type": "code",
        "colab": {
          "base_uri": "https://localhost:8080/",
          "height": 35
        },
        "outputId": "edadc3a2-5fa5-4688-cacf-a64a8695a863"
      },
      "source": [
        "dict.show(dict)"
      ],
      "execution_count": 16,
      "outputs": [
        {
          "output_type": "execute_result",
          "data": {
            "text/plain": [
              "['test']"
            ]
          },
          "metadata": {
            "tags": []
          },
          "execution_count": 16
        }
      ]
    }
  ]
}